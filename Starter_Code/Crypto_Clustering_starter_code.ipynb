{
 "cells": [
  {
   "cell_type": "code",
   "execution_count": 16,
   "metadata": {},
   "outputs": [],
   "source": [
    "# Import required libraries and dependencies\n",
    "import pandas as pd\n",
    "import hvplot.pandas\n",
    "from sklearn.cluster import KMeans\n",
    "from sklearn.decomposition import PCA\n",
    "from sklearn.preprocessing import StandardScaler"
   ]
  },
  {
   "cell_type": "code",
   "execution_count": 17,
   "metadata": {},
   "outputs": [
    {
     "data": {
      "text/html": [
       "<div>\n",
       "<style scoped>\n",
       "    .dataframe tbody tr th:only-of-type {\n",
       "        vertical-align: middle;\n",
       "    }\n",
       "\n",
       "    .dataframe tbody tr th {\n",
       "        vertical-align: top;\n",
       "    }\n",
       "\n",
       "    .dataframe thead th {\n",
       "        text-align: right;\n",
       "    }\n",
       "</style>\n",
       "<table border=\"1\" class=\"dataframe\">\n",
       "  <thead>\n",
       "    <tr style=\"text-align: right;\">\n",
       "      <th></th>\n",
       "      <th>price_change_percentage_24h</th>\n",
       "      <th>price_change_percentage_7d</th>\n",
       "      <th>price_change_percentage_14d</th>\n",
       "      <th>price_change_percentage_30d</th>\n",
       "      <th>price_change_percentage_60d</th>\n",
       "      <th>price_change_percentage_200d</th>\n",
       "      <th>price_change_percentage_1y</th>\n",
       "    </tr>\n",
       "    <tr>\n",
       "      <th>coin_id</th>\n",
       "      <th></th>\n",
       "      <th></th>\n",
       "      <th></th>\n",
       "      <th></th>\n",
       "      <th></th>\n",
       "      <th></th>\n",
       "      <th></th>\n",
       "    </tr>\n",
       "  </thead>\n",
       "  <tbody>\n",
       "    <tr>\n",
       "      <th>bitcoin</th>\n",
       "      <td>1.08388</td>\n",
       "      <td>7.60278</td>\n",
       "      <td>6.57509</td>\n",
       "      <td>7.67258</td>\n",
       "      <td>-3.25185</td>\n",
       "      <td>83.51840</td>\n",
       "      <td>37.51761</td>\n",
       "    </tr>\n",
       "    <tr>\n",
       "      <th>ethereum</th>\n",
       "      <td>0.22392</td>\n",
       "      <td>10.38134</td>\n",
       "      <td>4.80849</td>\n",
       "      <td>0.13169</td>\n",
       "      <td>-12.88890</td>\n",
       "      <td>186.77418</td>\n",
       "      <td>101.96023</td>\n",
       "    </tr>\n",
       "    <tr>\n",
       "      <th>tether</th>\n",
       "      <td>-0.21173</td>\n",
       "      <td>0.04935</td>\n",
       "      <td>0.00640</td>\n",
       "      <td>-0.04237</td>\n",
       "      <td>0.28037</td>\n",
       "      <td>-0.00542</td>\n",
       "      <td>0.01954</td>\n",
       "    </tr>\n",
       "    <tr>\n",
       "      <th>ripple</th>\n",
       "      <td>-0.37819</td>\n",
       "      <td>-0.60926</td>\n",
       "      <td>2.24984</td>\n",
       "      <td>0.23455</td>\n",
       "      <td>-17.55245</td>\n",
       "      <td>39.53888</td>\n",
       "      <td>-16.60193</td>\n",
       "    </tr>\n",
       "    <tr>\n",
       "      <th>bitcoin-cash</th>\n",
       "      <td>2.90585</td>\n",
       "      <td>17.09717</td>\n",
       "      <td>14.75334</td>\n",
       "      <td>15.74903</td>\n",
       "      <td>-13.71793</td>\n",
       "      <td>21.66042</td>\n",
       "      <td>14.49384</td>\n",
       "    </tr>\n",
       "    <tr>\n",
       "      <th>binancecoin</th>\n",
       "      <td>2.10423</td>\n",
       "      <td>12.85511</td>\n",
       "      <td>6.80688</td>\n",
       "      <td>0.05865</td>\n",
       "      <td>36.33486</td>\n",
       "      <td>155.61937</td>\n",
       "      <td>69.69195</td>\n",
       "    </tr>\n",
       "    <tr>\n",
       "      <th>chainlink</th>\n",
       "      <td>-0.23935</td>\n",
       "      <td>20.69459</td>\n",
       "      <td>9.30098</td>\n",
       "      <td>-11.21747</td>\n",
       "      <td>-43.69522</td>\n",
       "      <td>403.22917</td>\n",
       "      <td>325.13186</td>\n",
       "    </tr>\n",
       "    <tr>\n",
       "      <th>cardano</th>\n",
       "      <td>0.00322</td>\n",
       "      <td>13.99302</td>\n",
       "      <td>5.55476</td>\n",
       "      <td>10.10553</td>\n",
       "      <td>-22.84776</td>\n",
       "      <td>264.51418</td>\n",
       "      <td>156.09756</td>\n",
       "    </tr>\n",
       "    <tr>\n",
       "      <th>litecoin</th>\n",
       "      <td>-0.06341</td>\n",
       "      <td>6.60221</td>\n",
       "      <td>7.28931</td>\n",
       "      <td>1.21662</td>\n",
       "      <td>-17.23960</td>\n",
       "      <td>27.49919</td>\n",
       "      <td>-12.66408</td>\n",
       "    </tr>\n",
       "    <tr>\n",
       "      <th>bitcoin-cash-sv</th>\n",
       "      <td>0.92530</td>\n",
       "      <td>3.29641</td>\n",
       "      <td>-1.86656</td>\n",
       "      <td>2.88926</td>\n",
       "      <td>-24.87434</td>\n",
       "      <td>7.42562</td>\n",
       "      <td>93.73082</td>\n",
       "    </tr>\n",
       "  </tbody>\n",
       "</table>\n",
       "</div>"
      ],
      "text/plain": [
       "                 price_change_percentage_24h  price_change_percentage_7d  \\\n",
       "coin_id                                                                    \n",
       "bitcoin                              1.08388                     7.60278   \n",
       "ethereum                             0.22392                    10.38134   \n",
       "tether                              -0.21173                     0.04935   \n",
       "ripple                              -0.37819                    -0.60926   \n",
       "bitcoin-cash                         2.90585                    17.09717   \n",
       "binancecoin                          2.10423                    12.85511   \n",
       "chainlink                           -0.23935                    20.69459   \n",
       "cardano                              0.00322                    13.99302   \n",
       "litecoin                            -0.06341                     6.60221   \n",
       "bitcoin-cash-sv                      0.92530                     3.29641   \n",
       "\n",
       "                 price_change_percentage_14d  price_change_percentage_30d  \\\n",
       "coin_id                                                                     \n",
       "bitcoin                              6.57509                      7.67258   \n",
       "ethereum                             4.80849                      0.13169   \n",
       "tether                               0.00640                     -0.04237   \n",
       "ripple                               2.24984                      0.23455   \n",
       "bitcoin-cash                        14.75334                     15.74903   \n",
       "binancecoin                          6.80688                      0.05865   \n",
       "chainlink                            9.30098                    -11.21747   \n",
       "cardano                              5.55476                     10.10553   \n",
       "litecoin                             7.28931                      1.21662   \n",
       "bitcoin-cash-sv                     -1.86656                      2.88926   \n",
       "\n",
       "                 price_change_percentage_60d  price_change_percentage_200d  \\\n",
       "coin_id                                                                      \n",
       "bitcoin                             -3.25185                      83.51840   \n",
       "ethereum                           -12.88890                     186.77418   \n",
       "tether                               0.28037                      -0.00542   \n",
       "ripple                             -17.55245                      39.53888   \n",
       "bitcoin-cash                       -13.71793                      21.66042   \n",
       "binancecoin                         36.33486                     155.61937   \n",
       "chainlink                          -43.69522                     403.22917   \n",
       "cardano                            -22.84776                     264.51418   \n",
       "litecoin                           -17.23960                      27.49919   \n",
       "bitcoin-cash-sv                    -24.87434                       7.42562   \n",
       "\n",
       "                 price_change_percentage_1y  \n",
       "coin_id                                      \n",
       "bitcoin                            37.51761  \n",
       "ethereum                          101.96023  \n",
       "tether                              0.01954  \n",
       "ripple                            -16.60193  \n",
       "bitcoin-cash                       14.49384  \n",
       "binancecoin                        69.69195  \n",
       "chainlink                         325.13186  \n",
       "cardano                           156.09756  \n",
       "litecoin                          -12.66408  \n",
       "bitcoin-cash-sv                    93.73082  "
      ]
     },
     "execution_count": 17,
     "metadata": {},
     "output_type": "execute_result"
    }
   ],
   "source": [
    "# Load the data into a Pandas DataFrame\n",
    "df_market_data = pd.read_csv(\n",
    "    \"Resources/crypto_market_data.csv\",\n",
    "    index_col=\"coin_id\")\n",
    "\n",
    "# Display sample data\n",
    "df_market_data.head(10)"
   ]
  },
  {
   "cell_type": "code",
   "execution_count": 18,
   "metadata": {},
   "outputs": [
    {
     "data": {
      "text/html": [
       "<div>\n",
       "<style scoped>\n",
       "    .dataframe tbody tr th:only-of-type {\n",
       "        vertical-align: middle;\n",
       "    }\n",
       "\n",
       "    .dataframe tbody tr th {\n",
       "        vertical-align: top;\n",
       "    }\n",
       "\n",
       "    .dataframe thead th {\n",
       "        text-align: right;\n",
       "    }\n",
       "</style>\n",
       "<table border=\"1\" class=\"dataframe\">\n",
       "  <thead>\n",
       "    <tr style=\"text-align: right;\">\n",
       "      <th></th>\n",
       "      <th>price_change_percentage_24h</th>\n",
       "      <th>price_change_percentage_7d</th>\n",
       "      <th>price_change_percentage_14d</th>\n",
       "      <th>price_change_percentage_30d</th>\n",
       "      <th>price_change_percentage_60d</th>\n",
       "      <th>price_change_percentage_200d</th>\n",
       "      <th>price_change_percentage_1y</th>\n",
       "    </tr>\n",
       "  </thead>\n",
       "  <tbody>\n",
       "    <tr>\n",
       "      <th>count</th>\n",
       "      <td>41.000000</td>\n",
       "      <td>41.000000</td>\n",
       "      <td>41.000000</td>\n",
       "      <td>41.000000</td>\n",
       "      <td>41.000000</td>\n",
       "      <td>41.000000</td>\n",
       "      <td>41.000000</td>\n",
       "    </tr>\n",
       "    <tr>\n",
       "      <th>mean</th>\n",
       "      <td>-0.269686</td>\n",
       "      <td>4.497147</td>\n",
       "      <td>0.185787</td>\n",
       "      <td>1.545693</td>\n",
       "      <td>-0.094119</td>\n",
       "      <td>236.537432</td>\n",
       "      <td>347.667956</td>\n",
       "    </tr>\n",
       "    <tr>\n",
       "      <th>std</th>\n",
       "      <td>2.694793</td>\n",
       "      <td>6.375218</td>\n",
       "      <td>8.376939</td>\n",
       "      <td>26.344218</td>\n",
       "      <td>47.365803</td>\n",
       "      <td>435.225304</td>\n",
       "      <td>1247.842884</td>\n",
       "    </tr>\n",
       "    <tr>\n",
       "      <th>min</th>\n",
       "      <td>-13.527860</td>\n",
       "      <td>-6.094560</td>\n",
       "      <td>-18.158900</td>\n",
       "      <td>-34.705480</td>\n",
       "      <td>-44.822480</td>\n",
       "      <td>-0.392100</td>\n",
       "      <td>-17.567530</td>\n",
       "    </tr>\n",
       "    <tr>\n",
       "      <th>25%</th>\n",
       "      <td>-0.608970</td>\n",
       "      <td>0.047260</td>\n",
       "      <td>-5.026620</td>\n",
       "      <td>-10.438470</td>\n",
       "      <td>-25.907990</td>\n",
       "      <td>21.660420</td>\n",
       "      <td>0.406170</td>\n",
       "    </tr>\n",
       "    <tr>\n",
       "      <th>50%</th>\n",
       "      <td>-0.063410</td>\n",
       "      <td>3.296410</td>\n",
       "      <td>0.109740</td>\n",
       "      <td>-0.042370</td>\n",
       "      <td>-7.544550</td>\n",
       "      <td>83.905200</td>\n",
       "      <td>69.691950</td>\n",
       "    </tr>\n",
       "    <tr>\n",
       "      <th>75%</th>\n",
       "      <td>0.612090</td>\n",
       "      <td>7.602780</td>\n",
       "      <td>5.510740</td>\n",
       "      <td>4.578130</td>\n",
       "      <td>0.657260</td>\n",
       "      <td>216.177610</td>\n",
       "      <td>168.372510</td>\n",
       "    </tr>\n",
       "    <tr>\n",
       "      <th>max</th>\n",
       "      <td>4.840330</td>\n",
       "      <td>20.694590</td>\n",
       "      <td>24.239190</td>\n",
       "      <td>140.795700</td>\n",
       "      <td>223.064370</td>\n",
       "      <td>2227.927820</td>\n",
       "      <td>7852.089700</td>\n",
       "    </tr>\n",
       "  </tbody>\n",
       "</table>\n",
       "</div>"
      ],
      "text/plain": [
       "       price_change_percentage_24h  price_change_percentage_7d  \\\n",
       "count                    41.000000                   41.000000   \n",
       "mean                     -0.269686                    4.497147   \n",
       "std                       2.694793                    6.375218   \n",
       "min                     -13.527860                   -6.094560   \n",
       "25%                      -0.608970                    0.047260   \n",
       "50%                      -0.063410                    3.296410   \n",
       "75%                       0.612090                    7.602780   \n",
       "max                       4.840330                   20.694590   \n",
       "\n",
       "       price_change_percentage_14d  price_change_percentage_30d  \\\n",
       "count                    41.000000                    41.000000   \n",
       "mean                      0.185787                     1.545693   \n",
       "std                       8.376939                    26.344218   \n",
       "min                     -18.158900                   -34.705480   \n",
       "25%                      -5.026620                   -10.438470   \n",
       "50%                       0.109740                    -0.042370   \n",
       "75%                       5.510740                     4.578130   \n",
       "max                      24.239190                   140.795700   \n",
       "\n",
       "       price_change_percentage_60d  price_change_percentage_200d  \\\n",
       "count                    41.000000                     41.000000   \n",
       "mean                     -0.094119                    236.537432   \n",
       "std                      47.365803                    435.225304   \n",
       "min                     -44.822480                     -0.392100   \n",
       "25%                     -25.907990                     21.660420   \n",
       "50%                      -7.544550                     83.905200   \n",
       "75%                       0.657260                    216.177610   \n",
       "max                     223.064370                   2227.927820   \n",
       "\n",
       "       price_change_percentage_1y  \n",
       "count                   41.000000  \n",
       "mean                   347.667956  \n",
       "std                   1247.842884  \n",
       "min                    -17.567530  \n",
       "25%                      0.406170  \n",
       "50%                     69.691950  \n",
       "75%                    168.372510  \n",
       "max                   7852.089700  "
      ]
     },
     "execution_count": 18,
     "metadata": {},
     "output_type": "execute_result"
    }
   ],
   "source": [
    "# Generate summary statistics\n",
    "df_market_data.describe()"
   ]
  },
  {
   "cell_type": "code",
   "execution_count": 19,
   "metadata": {},
   "outputs": [
    {
     "data": {},
     "metadata": {},
     "output_type": "display_data"
    },
    {
     "data": {
      "application/vnd.holoviews_exec.v0+json": "",
      "text/html": [
       "<div id='2097'>\n",
       "  <div class=\"bk-root\" id=\"2b758842-40f9-4c46-8cef-eb8924374623\" data-root-id=\"2097\"></div>\n",
       "</div>\n",
       "<script type=\"application/javascript\">(function(root) {\n",
       "  function embed_document(root) {\n",
       "    var docs_json = {\"93cca878-71a8-4bb6-a536-74e2a072b9ec\":{\"defs\":[{\"extends\":null,\"module\":null,\"name\":\"ReactiveHTML1\",\"overrides\":[],\"properties\":[]},{\"extends\":null,\"module\":null,\"name\":\"FlexBox1\",\"overrides\":[],\"properties\":[{\"default\":\"flex-start\",\"kind\":null,\"name\":\"align_content\"},{\"default\":\"flex-start\",\"kind\":null,\"name\":\"align_items\"},{\"default\":\"row\",\"kind\":null,\"name\":\"flex_direction\"},{\"default\":\"wrap\",\"kind\":null,\"name\":\"flex_wrap\"},{\"default\":\"flex-start\",\"kind\":null,\"name\":\"justify_content\"}]},{\"extends\":null,\"module\":null,\"name\":\"GridStack1\",\"overrides\":[],\"properties\":[{\"default\":\"warn\",\"kind\":null,\"name\":\"mode\"},{\"default\":null,\"kind\":null,\"name\":\"ncols\"},{\"default\":null,\"kind\":null,\"name\":\"nrows\"},{\"default\":true,\"kind\":null,\"name\":\"allow_resize\"},{\"default\":true,\"kind\":null,\"name\":\"allow_drag\"},{\"default\":[],\"kind\":null,\"name\":\"state\"}]},{\"extends\":null,\"module\":null,\"name\":\"click1\",\"overrides\":[],\"properties\":[{\"default\":\"\",\"kind\":null,\"name\":\"terminal_output\"},{\"default\":\"\",\"kind\":null,\"name\":\"debug_name\"},{\"default\":0,\"kind\":null,\"name\":\"clears\"}]},{\"extends\":null,\"module\":null,\"name\":\"NotificationAreaBase1\",\"overrides\":[],\"properties\":[{\"default\":\"bottom-right\",\"kind\":null,\"name\":\"position\"},{\"default\":0,\"kind\":null,\"name\":\"_clear\"}]},{\"extends\":null,\"module\":null,\"name\":\"NotificationArea1\",\"overrides\":[],\"properties\":[{\"default\":[],\"kind\":null,\"name\":\"notifications\"},{\"default\":\"bottom-right\",\"kind\":null,\"name\":\"position\"},{\"default\":0,\"kind\":null,\"name\":\"_clear\"},{\"default\":[{\"background\":\"#ffc107\",\"icon\":{\"className\":\"fas fa-exclamation-triangle\",\"color\":\"white\",\"tagName\":\"i\"},\"type\":\"warning\"},{\"background\":\"#007bff\",\"icon\":{\"className\":\"fas fa-info-circle\",\"color\":\"white\",\"tagName\":\"i\"},\"type\":\"info\"}],\"kind\":null,\"name\":\"types\"}]},{\"extends\":null,\"module\":null,\"name\":\"Notification\",\"overrides\":[],\"properties\":[{\"default\":null,\"kind\":null,\"name\":\"background\"},{\"default\":3000,\"kind\":null,\"name\":\"duration\"},{\"default\":null,\"kind\":null,\"name\":\"icon\"},{\"default\":\"\",\"kind\":null,\"name\":\"message\"},{\"default\":null,\"kind\":null,\"name\":\"notification_type\"},{\"default\":false,\"kind\":null,\"name\":\"_destroyed\"}]},{\"extends\":null,\"module\":null,\"name\":\"TemplateActions1\",\"overrides\":[],\"properties\":[{\"default\":0,\"kind\":null,\"name\":\"open_modal\"},{\"default\":0,\"kind\":null,\"name\":\"close_modal\"}]},{\"extends\":null,\"module\":null,\"name\":\"MaterialTemplateActions1\",\"overrides\":[],\"properties\":[{\"default\":0,\"kind\":null,\"name\":\"open_modal\"},{\"default\":0,\"kind\":null,\"name\":\"close_modal\"}]}],\"roots\":{\"references\":[{\"attributes\":{\"coordinates\":null,\"data_source\":{\"id\":\"2142\"},\"glyph\":{\"id\":\"2145\"},\"group\":null,\"hover_glyph\":null,\"muted_glyph\":{\"id\":\"2147\"},\"nonselection_glyph\":{\"id\":\"2146\"},\"selection_glyph\":{\"id\":\"2162\"},\"view\":{\"id\":\"2149\"}},\"id\":\"2148\",\"type\":\"GlyphRenderer\"},{\"attributes\":{},\"id\":\"2210\",\"type\":\"Selection\"},{\"attributes\":{},\"id\":\"2138\",\"type\":\"AllLabels\"},{\"attributes\":{},\"id\":\"2164\",\"type\":\"Selection\"},{\"attributes\":{},\"id\":\"2117\",\"type\":\"CategoricalTicker\"},{\"attributes\":{\"label\":{\"value\":\"price_change_percentage_7d\"},\"renderers\":[{\"id\":\"2169\"}]},\"id\":\"2183\",\"type\":\"LegendItem\"},{\"attributes\":{},\"id\":\"2124\",\"type\":\"PanTool\"},{\"attributes\":{},\"id\":\"2180\",\"type\":\"UnionRenderers\"},{\"attributes\":{\"axis_label\":\"\",\"coordinates\":null,\"formatter\":{\"id\":\"2140\"},\"group\":null,\"major_label_policy\":{\"id\":\"2141\"},\"ticker\":{\"id\":\"2120\"}},\"id\":\"2119\",\"type\":\"LinearAxis\"},{\"attributes\":{\"axis\":{\"id\":\"2119\"},\"coordinates\":null,\"dimension\":1,\"grid_line_color\":null,\"group\":null,\"ticker\":null},\"id\":\"2122\",\"type\":\"Grid\"},{\"attributes\":{},\"id\":\"2288\",\"type\":\"UnionRenderers\"},{\"attributes\":{},\"id\":\"2120\",\"type\":\"BasicTicker\"},{\"attributes\":{},\"id\":\"2125\",\"type\":\"WheelZoomTool\"},{\"attributes\":{\"coordinates\":null,\"data_source\":{\"id\":\"2209\"},\"glyph\":{\"id\":\"2212\"},\"group\":null,\"hover_glyph\":null,\"muted_glyph\":{\"id\":\"2214\"},\"nonselection_glyph\":{\"id\":\"2213\"},\"selection_glyph\":{\"id\":\"2234\"},\"view\":{\"id\":\"2216\"}},\"id\":\"2215\",\"type\":\"GlyphRenderer\"},{\"attributes\":{\"line_color\":\"#fc4f30\",\"line_width\":2,\"tags\":[\"apply_ranges\"],\"x\":{\"field\":\"coin_id\"},\"y\":{\"field\":\"value\"}},\"id\":\"2166\",\"type\":\"Line\"},{\"attributes\":{},\"id\":\"2114\",\"type\":\"LinearScale\"},{\"attributes\":{\"line_alpha\":0.2,\"line_color\":\"#30a2da\",\"line_width\":2,\"tags\":[\"apply_ranges\"],\"x\":{\"field\":\"coin_id\"},\"y\":{\"field\":\"value\"}},\"id\":\"2147\",\"type\":\"Line\"},{\"attributes\":{\"line_color\":\"#8b8b8b\",\"line_width\":2,\"tags\":[\"apply_ranges\"],\"x\":{\"field\":\"coin_id\"},\"y\":{\"field\":\"value\"}},\"id\":\"2262\",\"type\":\"Line\"},{\"attributes\":{},\"id\":\"2123\",\"type\":\"SaveTool\"},{\"attributes\":{},\"id\":\"2230\",\"type\":\"UnionRenderers\"},{\"attributes\":{\"line_alpha\":0.1,\"line_color\":\"#17becf\",\"line_width\":2,\"tags\":[\"apply_ranges\"],\"x\":{\"field\":\"coin_id\"},\"y\":{\"field\":\"value\"}},\"id\":\"2267\",\"type\":\"Line\"},{\"attributes\":{\"overlay\":{\"id\":\"2128\"}},\"id\":\"2126\",\"type\":\"BoxZoomTool\"},{\"attributes\":{\"line_alpha\":0.1,\"line_color\":\"#6d904f\",\"line_width\":2,\"tags\":[\"apply_ranges\"],\"x\":{\"field\":\"coin_id\"},\"y\":{\"field\":\"value\"}},\"id\":\"2213\",\"type\":\"Line\"},{\"attributes\":{},\"id\":\"2127\",\"type\":\"ResetTool\"},{\"attributes\":{\"label\":{\"value\":\"price_change_percentage_30d\"},\"renderers\":[{\"id\":\"2215\"}]},\"id\":\"2233\",\"type\":\"LegendItem\"},{\"attributes\":{\"line_alpha\":0.1,\"line_color\":\"#9467bd\",\"line_width\":2,\"tags\":[\"apply_ranges\"],\"x\":{\"field\":\"coin_id\"},\"y\":{\"field\":\"value\"}},\"id\":\"2297\",\"type\":\"Line\"},{\"attributes\":{\"bottom_units\":\"screen\",\"coordinates\":null,\"fill_alpha\":0.5,\"fill_color\":\"lightgrey\",\"group\":null,\"left_units\":\"screen\",\"level\":\"overlay\",\"line_alpha\":1.0,\"line_color\":\"black\",\"line_dash\":[4,4],\"line_width\":2,\"right_units\":\"screen\",\"syncable\":false,\"top_units\":\"screen\"},\"id\":\"2128\",\"type\":\"BoxAnnotation\"},{\"attributes\":{\"data\":{\"Variable\":[\"price_change_percentage_24h\",\"price_change_percentage_24h\",\"price_change_percentage_24h\",\"price_change_percentage_24h\",\"price_change_percentage_24h\",\"price_change_percentage_24h\",\"price_change_percentage_24h\",\"price_change_percentage_24h\",\"price_change_percentage_24h\",\"price_change_percentage_24h\",\"price_change_percentage_24h\",\"price_change_percentage_24h\",\"price_change_percentage_24h\",\"price_change_percentage_24h\",\"price_change_percentage_24h\",\"price_change_percentage_24h\",\"price_change_percentage_24h\",\"price_change_percentage_24h\",\"price_change_percentage_24h\",\"price_change_percentage_24h\",\"price_change_percentage_24h\",\"price_change_percentage_24h\",\"price_change_percentage_24h\",\"price_change_percentage_24h\",\"price_change_percentage_24h\",\"price_change_percentage_24h\",\"price_change_percentage_24h\",\"price_change_percentage_24h\",\"price_change_percentage_24h\",\"price_change_percentage_24h\",\"price_change_percentage_24h\",\"price_change_percentage_24h\",\"price_change_percentage_24h\",\"price_change_percentage_24h\",\"price_change_percentage_24h\",\"price_change_percentage_24h\",\"price_change_percentage_24h\",\"price_change_percentage_24h\",\"price_change_percentage_24h\",\"price_change_percentage_24h\",\"price_change_percentage_24h\"],\"coin_id\":[\"bitcoin\",\"ethereum\",\"tether\",\"ripple\",\"bitcoin-cash\",\"binancecoin\",\"chainlink\",\"cardano\",\"litecoin\",\"bitcoin-cash-sv\",\"crypto-com-chain\",\"usd-coin\",\"eos\",\"monero\",\"tron\",\"tezos\",\"okb\",\"stellar\",\"cosmos\",\"cdai\",\"neo\",\"wrapped-bitcoin\",\"leo-token\",\"huobi-token\",\"nem\",\"binance-usd\",\"iota\",\"vechain\",\"zcash\",\"theta-token\",\"dash\",\"ethereum-classic\",\"ethlend\",\"maker\",\"havven\",\"omisego\",\"celsius-degree-token\",\"ontology\",\"ftx-token\",\"true-usd\",\"digibyte\"],\"value\":{\"__ndarray__\":\"nZ0MjpJX8T8MzXUaaanMP5mByvj3Gcu/wCZr1EM02L8ep+hILj8HQL0Yyol21QBAwhcmUwWjzr//CS5W1GBqP7JGPUSjO7C/QKTfvg6c7T8urYbEPZbjPzeJQWDl0Ma/1pC4x9KHwj87NgLxun7bP90HILWJk7M/JjYf14aK5b83iUFg5dAFwG3i5H6HIvC/5nlwd9Zu7r9i83FtqBjLP+iHEcKjjd8/M9yAzw+j8T/fGtgqweLAv+RmuAGfH9q/UdobfGEy678D7KNTVz67v8YzaOif4No/teBFX0Ga9D8G2Eenrnzjvx+duvJZPhLAoMN8eQH28L+cxCCwcmjdv667eapDDivAX5hMFYxK479EUaBP5EkQwAZkr3d/XBNA0JuKVBgbBEDqBDQRNrz1vxo09E9wseo/tI6qJoi6r79qMA3DR8QHQA==\",\"dtype\":\"float64\",\"order\":\"little\",\"shape\":[41]}},\"selected\":{\"id\":\"2143\"},\"selection_policy\":{\"id\":\"2157\"}},\"id\":\"2142\",\"type\":\"ColumnDataSource\"},{\"attributes\":{\"line_color\":\"#17becf\",\"line_width\":2,\"tags\":[\"apply_ranges\"],\"x\":{\"field\":\"coin_id\"},\"y\":{\"field\":\"value\"}},\"id\":\"2266\",\"type\":\"Line\"},{\"attributes\":{\"line_color\":\"#9467bd\",\"line_width\":2,\"tags\":[\"apply_ranges\"],\"x\":{\"field\":\"coin_id\"},\"y\":{\"field\":\"value\"}},\"id\":\"2324\",\"type\":\"Line\"},{\"attributes\":{\"source\":{\"id\":\"2263\"}},\"id\":\"2270\",\"type\":\"CDSView\"},{\"attributes\":{\"data\":{\"Variable\":[\"price_change_percentage_1y\",\"price_change_percentage_1y\",\"price_change_percentage_1y\",\"price_change_percentage_1y\",\"price_change_percentage_1y\",\"price_change_percentage_1y\",\"price_change_percentage_1y\",\"price_change_percentage_1y\",\"price_change_percentage_1y\",\"price_change_percentage_1y\",\"price_change_percentage_1y\",\"price_change_percentage_1y\",\"price_change_percentage_1y\",\"price_change_percentage_1y\",\"price_change_percentage_1y\",\"price_change_percentage_1y\",\"price_change_percentage_1y\",\"price_change_percentage_1y\",\"price_change_percentage_1y\",\"price_change_percentage_1y\",\"price_change_percentage_1y\",\"price_change_percentage_1y\",\"price_change_percentage_1y\",\"price_change_percentage_1y\",\"price_change_percentage_1y\",\"price_change_percentage_1y\",\"price_change_percentage_1y\",\"price_change_percentage_1y\",\"price_change_percentage_1y\",\"price_change_percentage_1y\",\"price_change_percentage_1y\",\"price_change_percentage_1y\",\"price_change_percentage_1y\",\"price_change_percentage_1y\",\"price_change_percentage_1y\",\"price_change_percentage_1y\",\"price_change_percentage_1y\",\"price_change_percentage_1y\",\"price_change_percentage_1y\",\"price_change_percentage_1y\",\"price_change_percentage_1y\"],\"coin_id\":[\"bitcoin\",\"ethereum\",\"tether\",\"ripple\",\"bitcoin-cash\",\"binancecoin\",\"chainlink\",\"cardano\",\"litecoin\",\"bitcoin-cash-sv\",\"crypto-com-chain\",\"usd-coin\",\"eos\",\"monero\",\"tron\",\"tezos\",\"okb\",\"stellar\",\"cosmos\",\"cdai\",\"neo\",\"wrapped-bitcoin\",\"leo-token\",\"huobi-token\",\"nem\",\"binance-usd\",\"iota\",\"vechain\",\"zcash\",\"theta-token\",\"dash\",\"ethereum-classic\",\"ethlend\",\"maker\",\"havven\",\"omisego\",\"celsius-degree-token\",\"ontology\",\"ftx-token\",\"true-usd\",\"digibyte\"],\"value\":{\"__ndarray__\":\"kQpjC0HCQkDWqIdodH1ZQN/42jNLApQ/NXugFRiaMMDN6bKY2PwsQOcdp+hIbFFAaTo7GRxSdEC6LCY2H4NjQPnaM0sCVCnA0NA/wcVuV0CQvd798RBzQL4wmSoYlci/t39lpUmRMcDovMYuUaFhQEPKT6p9nk1A6PaSxmiAYUBdUN8yp75hQMzuycNCnStAw7ZFmQ2cVEAHsTOFzmvSvx/0bFZ9aWBAhhvw+WHEQkAN/RNcrAA1QN8Vwf9WkjhAS7A4nPkWaUAVUn5S7dPBPzUk7rH04Q/AIsMq3shbaUBf0hito7hUQPyMCwcC64VAzsKedvirA8Dwoq8gzTgmQHRGlPYWrL5Ayk+qfTpOJUDfiVkvRjaFQEfJq3MMC3RAnFCIgONmn0CsVib8Uk8pwNttF5rrC2VAyXGndLD+2T/ZfFwbKgxnQA==\",\"dtype\":\"float64\",\"order\":\"little\",\"shape\":[41]}},\"selected\":{\"id\":\"2294\"},\"selection_policy\":{\"id\":\"2320\"}},\"id\":\"2293\",\"type\":\"ColumnDataSource\"},{\"attributes\":{\"active_drag\":{\"id\":\"2124\"},\"active_scroll\":{\"id\":\"2125\"},\"tools\":[{\"id\":\"2100\"},{\"id\":\"2123\"},{\"id\":\"2124\"},{\"id\":\"2125\"},{\"id\":\"2126\"},{\"id\":\"2127\"}]},\"id\":\"2129\",\"type\":\"Toolbar\"},{\"attributes\":{\"label\":{\"value\":\"price_change_percentage_200d\"},\"renderers\":[{\"id\":\"2269\"}]},\"id\":\"2291\",\"type\":\"LegendItem\"},{\"attributes\":{},\"id\":\"2137\",\"type\":\"CategoricalTickFormatter\"},{\"attributes\":{\"source\":{\"id\":\"2142\"}},\"id\":\"2149\",\"type\":\"CDSView\"},{\"attributes\":{\"coordinates\":null,\"data_source\":{\"id\":\"2263\"},\"glyph\":{\"id\":\"2266\"},\"group\":null,\"hover_glyph\":null,\"muted_glyph\":{\"id\":\"2268\"},\"nonselection_glyph\":{\"id\":\"2267\"},\"selection_glyph\":{\"id\":\"2292\"},\"view\":{\"id\":\"2270\"}},\"id\":\"2269\",\"type\":\"GlyphRenderer\"},{\"attributes\":{},\"id\":\"2140\",\"type\":\"BasicTickFormatter\"},{\"attributes\":{\"line_alpha\":0.2,\"line_color\":\"#e5ae38\",\"line_width\":2,\"tags\":[\"apply_ranges\"],\"x\":{\"field\":\"coin_id\"},\"y\":{\"field\":\"value\"}},\"id\":\"2190\",\"type\":\"Line\"},{\"attributes\":{\"axis\":{\"id\":\"2116\"},\"coordinates\":null,\"grid_line_color\":null,\"group\":null,\"ticker\":null},\"id\":\"2118\",\"type\":\"Grid\"},{\"attributes\":{},\"id\":\"2141\",\"type\":\"AllLabels\"},{\"attributes\":{\"line_color\":\"#fc4f30\",\"line_width\":2,\"tags\":[\"apply_ranges\"],\"x\":{\"field\":\"coin_id\"},\"y\":{\"field\":\"value\"}},\"id\":\"2184\",\"type\":\"Line\"},{\"attributes\":{\"click_policy\":\"mute\",\"coordinates\":null,\"group\":null,\"items\":[{\"id\":\"2161\"},{\"id\":\"2183\"},{\"id\":\"2207\"},{\"id\":\"2233\"},{\"id\":\"2261\"},{\"id\":\"2291\"},{\"id\":\"2323\"}],\"location\":[0,0],\"title\":\"Variable\"},\"id\":\"2160\",\"type\":\"Legend\"},{\"attributes\":{\"line_alpha\":0.2,\"line_color\":\"#17becf\",\"line_width\":2,\"tags\":[\"apply_ranges\"],\"x\":{\"field\":\"coin_id\"},\"y\":{\"field\":\"value\"}},\"id\":\"2268\",\"type\":\"Line\"},{\"attributes\":{\"line_alpha\":0.1,\"line_color\":\"#30a2da\",\"line_width\":2,\"tags\":[\"apply_ranges\"],\"x\":{\"field\":\"coin_id\"},\"y\":{\"field\":\"value\"}},\"id\":\"2146\",\"type\":\"Line\"},{\"attributes\":{\"label\":{\"value\":\"price_change_percentage_14d\"},\"renderers\":[{\"id\":\"2191\"}]},\"id\":\"2207\",\"type\":\"LegendItem\"},{\"attributes\":{\"source\":{\"id\":\"2235\"}},\"id\":\"2242\",\"type\":\"CDSView\"},{\"attributes\":{\"line_color\":\"#6d904f\",\"line_width\":2,\"tags\":[\"apply_ranges\"],\"x\":{\"field\":\"coin_id\"},\"y\":{\"field\":\"value\"}},\"id\":\"2234\",\"type\":\"Line\"},{\"attributes\":{\"data\":{\"Variable\":[\"price_change_percentage_14d\",\"price_change_percentage_14d\",\"price_change_percentage_14d\",\"price_change_percentage_14d\",\"price_change_percentage_14d\",\"price_change_percentage_14d\",\"price_change_percentage_14d\",\"price_change_percentage_14d\",\"price_change_percentage_14d\",\"price_change_percentage_14d\",\"price_change_percentage_14d\",\"price_change_percentage_14d\",\"price_change_percentage_14d\",\"price_change_percentage_14d\",\"price_change_percentage_14d\",\"price_change_percentage_14d\",\"price_change_percentage_14d\",\"price_change_percentage_14d\",\"price_change_percentage_14d\",\"price_change_percentage_14d\",\"price_change_percentage_14d\",\"price_change_percentage_14d\",\"price_change_percentage_14d\",\"price_change_percentage_14d\",\"price_change_percentage_14d\",\"price_change_percentage_14d\",\"price_change_percentage_14d\",\"price_change_percentage_14d\",\"price_change_percentage_14d\",\"price_change_percentage_14d\",\"price_change_percentage_14d\",\"price_change_percentage_14d\",\"price_change_percentage_14d\",\"price_change_percentage_14d\",\"price_change_percentage_14d\",\"price_change_percentage_14d\",\"price_change_percentage_14d\",\"price_change_percentage_14d\",\"price_change_percentage_14d\",\"price_change_percentage_14d\",\"price_change_percentage_14d\"],\"coin_id\":[\"bitcoin\",\"ethereum\",\"tether\",\"ripple\",\"bitcoin-cash\",\"binancecoin\",\"chainlink\",\"cardano\",\"litecoin\",\"bitcoin-cash-sv\",\"crypto-com-chain\",\"usd-coin\",\"eos\",\"monero\",\"tron\",\"tezos\",\"okb\",\"stellar\",\"cosmos\",\"cdai\",\"neo\",\"wrapped-bitcoin\",\"leo-token\",\"huobi-token\",\"nem\",\"binance-usd\",\"iota\",\"vechain\",\"zcash\",\"theta-token\",\"dash\",\"ethereum-classic\",\"ethlend\",\"maker\",\"havven\",\"omisego\",\"celsius-degree-token\",\"ontology\",\"ftx-token\",\"true-usd\",\"digibyte\"],\"value\":{\"__ndarray__\":\"zQaZZORMGkB5knTN5DsTQC1DHOviNno/ctwpHaz/AUCLic3HtYEtQJgvL8A+OhtACoDxDBqaIkAOhGQBEzgWQICfceFAKB1AIVnABG7d/b8xsfm4NhQhwGtI3GPpQ3e/pfeNrz0z8j8ao3VUNWkyQBUA4xk0dPY/VIzzN6GQAkCXrfVFQhsUwKpla32RUPG/Qgkzbf8KFkDPg7uzdtvFP8MN+PwwsiPAYFlpUgo6GkB3+GuyRh0cwM2v5gDBHN0/jliLTwEwBUDWrZ6T3jeuP7pOIy2VNw7Am1Wfq60oMsAJM23/yioXQJfK2xFOSxrAQE0tW+uL4D9OucK7XET0v0SLbOf7mSPA/pqsUQ/R978vaYzWUZUqwDtT6LzGbirAvodLjjs9OEByUMJM2x8lwJ30vvG1Z8q/ZCMQr+sXvD+7D0BqE0cdwA==\",\"dtype\":\"float64\",\"order\":\"little\",\"shape\":[41]}},\"selected\":{\"id\":\"2186\"},\"selection_policy\":{\"id\":\"2204\"}},\"id\":\"2185\",\"type\":\"ColumnDataSource\"},{\"attributes\":{},\"id\":\"2143\",\"type\":\"Selection\"},{\"attributes\":{\"source\":{\"id\":\"2185\"}},\"id\":\"2192\",\"type\":\"CDSView\"},{\"attributes\":{\"coordinates\":null,\"data_source\":{\"id\":\"2185\"},\"glyph\":{\"id\":\"2188\"},\"group\":null,\"hover_glyph\":null,\"muted_glyph\":{\"id\":\"2190\"},\"nonselection_glyph\":{\"id\":\"2189\"},\"selection_glyph\":{\"id\":\"2208\"},\"view\":{\"id\":\"2192\"}},\"id\":\"2191\",\"type\":\"GlyphRenderer\"},{\"attributes\":{\"coordinates\":null,\"group\":null,\"text_color\":\"black\",\"text_font_size\":\"12pt\"},\"id\":\"2108\",\"type\":\"Title\"},{\"attributes\":{\"line_alpha\":0.1,\"line_color\":\"#e5ae38\",\"line_width\":2,\"tags\":[\"apply_ranges\"],\"x\":{\"field\":\"coin_id\"},\"y\":{\"field\":\"value\"}},\"id\":\"2189\",\"type\":\"Line\"},{\"attributes\":{},\"id\":\"2264\",\"type\":\"Selection\"},{\"attributes\":{\"line_alpha\":0.2,\"line_color\":\"#8b8b8b\",\"line_width\":2,\"tags\":[\"apply_ranges\"],\"x\":{\"field\":\"coin_id\"},\"y\":{\"field\":\"value\"}},\"id\":\"2240\",\"type\":\"Line\"},{\"attributes\":{\"callback\":null,\"renderers\":[{\"id\":\"2148\"},{\"id\":\"2169\"},{\"id\":\"2191\"},{\"id\":\"2215\"},{\"id\":\"2241\"},{\"id\":\"2269\"},{\"id\":\"2299\"}],\"tags\":[\"hv_created\"],\"tooltips\":[[\"Variable\",\"@{Variable}\"],[\"coin_id\",\"@{coin_id}\"],[\"value\",\"@{value}\"]]},\"id\":\"2100\",\"type\":\"HoverTool\"},{\"attributes\":{\"data\":{\"Variable\":[\"price_change_percentage_60d\",\"price_change_percentage_60d\",\"price_change_percentage_60d\",\"price_change_percentage_60d\",\"price_change_percentage_60d\",\"price_change_percentage_60d\",\"price_change_percentage_60d\",\"price_change_percentage_60d\",\"price_change_percentage_60d\",\"price_change_percentage_60d\",\"price_change_percentage_60d\",\"price_change_percentage_60d\",\"price_change_percentage_60d\",\"price_change_percentage_60d\",\"price_change_percentage_60d\",\"price_change_percentage_60d\",\"price_change_percentage_60d\",\"price_change_percentage_60d\",\"price_change_percentage_60d\",\"price_change_percentage_60d\",\"price_change_percentage_60d\",\"price_change_percentage_60d\",\"price_change_percentage_60d\",\"price_change_percentage_60d\",\"price_change_percentage_60d\",\"price_change_percentage_60d\",\"price_change_percentage_60d\",\"price_change_percentage_60d\",\"price_change_percentage_60d\",\"price_change_percentage_60d\",\"price_change_percentage_60d\",\"price_change_percentage_60d\",\"price_change_percentage_60d\",\"price_change_percentage_60d\",\"price_change_percentage_60d\",\"price_change_percentage_60d\",\"price_change_percentage_60d\",\"price_change_percentage_60d\",\"price_change_percentage_60d\",\"price_change_percentage_60d\",\"price_change_percentage_60d\"],\"coin_id\":[\"bitcoin\",\"ethereum\",\"tether\",\"ripple\",\"bitcoin-cash\",\"binancecoin\",\"chainlink\",\"cardano\",\"litecoin\",\"bitcoin-cash-sv\",\"crypto-com-chain\",\"usd-coin\",\"eos\",\"monero\",\"tron\",\"tezos\",\"okb\",\"stellar\",\"cosmos\",\"cdai\",\"neo\",\"wrapped-bitcoin\",\"leo-token\",\"huobi-token\",\"nem\",\"binance-usd\",\"iota\",\"vechain\",\"zcash\",\"theta-token\",\"dash\",\"ethereum-classic\",\"ethlend\",\"maker\",\"havven\",\"omisego\",\"celsius-degree-token\",\"ontology\",\"ftx-token\",\"true-usd\",\"digibyte\"],\"value\":{\"__ndarray__\":\"FvvL7skDCsAs1JrmHccpwKjjMQOV8dE/2qz6XG2NMcBzol2FlG8rwIleRrHcKkJAN8MN+PzYRcBi26LMBtk2wCEf9GxWPTHAq5UJv9TfOMBg5dAi23kwwDygbMoV3qU/l631RUIrPsDNzMzMzNxEQJm7lpAPGhZAms5OBkdpRsBKe4MvTKYGwEsfuqC+zT7APL1SliHOHMC4AZ8fRgjlP9L7xteeCStAFqQZi6azDMCvJeSDni0ewDeOWItPQQvAXvQVpBm3VEDaOGItPgW4PwpLPKBsQkHAaw4QzNHPRcAJM23/yoo0wBmQvd79AVRAfa62Yn85OsBVGFsIcug5wLCsNCkFHQFA529CIQKeMsA0uoPYmbZDwPKwUGua0VNA/pqsUQ/ia0Ao8iTpmllAwFuxv+yenBdAmrFoOjsZ0D8s1JrmHRc/wA==\",\"dtype\":\"float64\",\"order\":\"little\",\"shape\":[41]}},\"selected\":{\"id\":\"2236\"},\"selection_policy\":{\"id\":\"2258\"}},\"id\":\"2235\",\"type\":\"ColumnDataSource\"},{\"attributes\":{\"line_color\":\"#30a2da\",\"line_width\":2,\"tags\":[\"apply_ranges\"],\"x\":{\"field\":\"coin_id\"},\"y\":{\"field\":\"value\"}},\"id\":\"2145\",\"type\":\"Line\"},{\"attributes\":{\"line_color\":\"#17becf\",\"line_width\":2,\"tags\":[\"apply_ranges\"],\"x\":{\"field\":\"coin_id\"},\"y\":{\"field\":\"value\"}},\"id\":\"2292\",\"type\":\"Line\"},{\"attributes\":{\"factors\":[\"bitcoin\",\"ethereum\",\"tether\",\"ripple\",\"bitcoin-cash\",\"binancecoin\",\"chainlink\",\"cardano\",\"litecoin\",\"bitcoin-cash-sv\",\"crypto-com-chain\",\"usd-coin\",\"eos\",\"monero\",\"tron\",\"tezos\",\"okb\",\"stellar\",\"cosmos\",\"cdai\",\"neo\",\"wrapped-bitcoin\",\"leo-token\",\"huobi-token\",\"nem\",\"binance-usd\",\"iota\",\"vechain\",\"zcash\",\"theta-token\",\"dash\",\"ethereum-classic\",\"ethlend\",\"maker\",\"havven\",\"omisego\",\"celsius-degree-token\",\"ontology\",\"ftx-token\",\"true-usd\",\"digibyte\"],\"tags\":[[[\"coin_id\",\"coin_id\",null]]]},\"id\":\"2098\",\"type\":\"FactorRange\"},{\"attributes\":{\"coordinates\":null,\"data_source\":{\"id\":\"2235\"},\"glyph\":{\"id\":\"2238\"},\"group\":null,\"hover_glyph\":null,\"muted_glyph\":{\"id\":\"2240\"},\"nonselection_glyph\":{\"id\":\"2239\"},\"selection_glyph\":{\"id\":\"2262\"},\"view\":{\"id\":\"2242\"}},\"id\":\"2241\",\"type\":\"GlyphRenderer\"},{\"attributes\":{\"source\":{\"id\":\"2293\"}},\"id\":\"2300\",\"type\":\"CDSView\"},{\"attributes\":{\"source\":{\"id\":\"2209\"}},\"id\":\"2216\",\"type\":\"CDSView\"},{\"attributes\":{\"line_alpha\":0.2,\"line_color\":\"#6d904f\",\"line_width\":2,\"tags\":[\"apply_ranges\"],\"x\":{\"field\":\"coin_id\"},\"y\":{\"field\":\"value\"}},\"id\":\"2214\",\"type\":\"Line\"},{\"attributes\":{\"line_alpha\":0.1,\"line_color\":\"#8b8b8b\",\"line_width\":2,\"tags\":[\"apply_ranges\"],\"x\":{\"field\":\"coin_id\"},\"y\":{\"field\":\"value\"}},\"id\":\"2239\",\"type\":\"Line\"},{\"attributes\":{},\"id\":\"2258\",\"type\":\"UnionRenderers\"},{\"attributes\":{\"data\":{\"Variable\":[\"price_change_percentage_30d\",\"price_change_percentage_30d\",\"price_change_percentage_30d\",\"price_change_percentage_30d\",\"price_change_percentage_30d\",\"price_change_percentage_30d\",\"price_change_percentage_30d\",\"price_change_percentage_30d\",\"price_change_percentage_30d\",\"price_change_percentage_30d\",\"price_change_percentage_30d\",\"price_change_percentage_30d\",\"price_change_percentage_30d\",\"price_change_percentage_30d\",\"price_change_percentage_30d\",\"price_change_percentage_30d\",\"price_change_percentage_30d\",\"price_change_percentage_30d\",\"price_change_percentage_30d\",\"price_change_percentage_30d\",\"price_change_percentage_30d\",\"price_change_percentage_30d\",\"price_change_percentage_30d\",\"price_change_percentage_30d\",\"price_change_percentage_30d\",\"price_change_percentage_30d\",\"price_change_percentage_30d\",\"price_change_percentage_30d\",\"price_change_percentage_30d\",\"price_change_percentage_30d\",\"price_change_percentage_30d\",\"price_change_percentage_30d\",\"price_change_percentage_30d\",\"price_change_percentage_30d\",\"price_change_percentage_30d\",\"price_change_percentage_30d\",\"price_change_percentage_30d\",\"price_change_percentage_30d\",\"price_change_percentage_30d\",\"price_change_percentage_30d\",\"price_change_percentage_30d\"],\"coin_id\":[\"bitcoin\",\"ethereum\",\"tether\",\"ripple\",\"bitcoin-cash\",\"binancecoin\",\"chainlink\",\"cardano\",\"litecoin\",\"bitcoin-cash-sv\",\"crypto-com-chain\",\"usd-coin\",\"eos\",\"monero\",\"tron\",\"tezos\",\"okb\",\"stellar\",\"cosmos\",\"cdai\",\"neo\",\"wrapped-bitcoin\",\"leo-token\",\"huobi-token\",\"nem\",\"binance-usd\",\"iota\",\"vechain\",\"zcash\",\"theta-token\",\"dash\",\"ethereum-classic\",\"ethlend\",\"maker\",\"havven\",\"omisego\",\"celsius-degree-token\",\"ontology\",\"ftx-token\",\"true-usd\",\"digibyte\"],\"value\":{\"__ndarray__\":\"VMa/z7iwHkAl6ZrJN9vAP/28qUiFsaW/L26jAbwFzj8dcjPcgH8vQPMf0m9fB64/5bhTOlhvJsBnfjUHCDYkQGWNeohGd/M/sCDNWDQdB0Cmft5UpHIxwJgvL8A+OsW/t0WZDTKJEsDeVKTC2HpDQEzD8BExNSnAjWK5pdVALMDjjcwjf+AkwIrIsIo3QiDAjliLTwFQEkAWpBmLpnMBwE3WqIdo9DXAVG8NbJWAHUAnMQisHJoIQGA8g4b+CQrACcTr+gU7DcCPpQ9dUN+SP80Bgjl6nBDA9S1zuixWLMBC7Eyh83odQEku/yH9bj9AtTf4wmQqH8Am/FI/byoHQNjYJaq3/j3A9GxWfa62MECdRloqb9c0wF4R/G8lOyLArK3YX3aZYUC1/SsrTVpBwP/PYb68ICXAFR3J5T+knz+ndLD+z4EqQA==\",\"dtype\":\"float64\",\"order\":\"little\",\"shape\":[41]}},\"selected\":{\"id\":\"2210\"},\"selection_policy\":{\"id\":\"2230\"}},\"id\":\"2209\",\"type\":\"ColumnDataSource\"},{\"attributes\":{\"line_alpha\":0.2,\"line_color\":\"#9467bd\",\"line_width\":2,\"tags\":[\"apply_ranges\"],\"x\":{\"field\":\"coin_id\"},\"y\":{\"field\":\"value\"}},\"id\":\"2298\",\"type\":\"Line\"},{\"attributes\":{\"line_color\":\"#e5ae38\",\"line_width\":2,\"tags\":[\"apply_ranges\"],\"x\":{\"field\":\"coin_id\"},\"y\":{\"field\":\"value\"}},\"id\":\"2188\",\"type\":\"Line\"},{\"attributes\":{},\"id\":\"2112\",\"type\":\"CategoricalScale\"},{\"attributes\":{\"axis_label\":\"coin_id\",\"coordinates\":null,\"formatter\":{\"id\":\"2137\"},\"group\":null,\"major_label_orientation\":1.5707963267948966,\"major_label_policy\":{\"id\":\"2138\"},\"ticker\":{\"id\":\"2117\"}},\"id\":\"2116\",\"type\":\"CategoricalAxis\"},{\"attributes\":{},\"id\":\"2204\",\"type\":\"UnionRenderers\"},{\"attributes\":{\"children\":[{\"id\":\"2107\"}],\"height\":400,\"margin\":[0,0,0,0],\"name\":\"Row02223\",\"sizing_mode\":\"fixed\",\"tags\":[\"embedded\"],\"width\":800},\"id\":\"2097\",\"type\":\"Row\"},{\"attributes\":{\"below\":[{\"id\":\"2116\"}],\"center\":[{\"id\":\"2118\"},{\"id\":\"2122\"}],\"height\":400,\"left\":[{\"id\":\"2119\"}],\"margin\":[5,5,5,5],\"min_border_bottom\":10,\"min_border_left\":10,\"min_border_right\":10,\"min_border_top\":10,\"output_backend\":\"webgl\",\"renderers\":[{\"id\":\"2148\"},{\"id\":\"2169\"},{\"id\":\"2191\"},{\"id\":\"2215\"},{\"id\":\"2241\"},{\"id\":\"2269\"},{\"id\":\"2299\"}],\"right\":[{\"id\":\"2160\"}],\"sizing_mode\":\"fixed\",\"title\":{\"id\":\"2108\"},\"toolbar\":{\"id\":\"2129\"},\"width\":800,\"x_range\":{\"id\":\"2098\"},\"x_scale\":{\"id\":\"2112\"},\"y_range\":{\"id\":\"2099\"},\"y_scale\":{\"id\":\"2114\"}},\"id\":\"2107\",\"subtype\":\"Figure\",\"type\":\"Plot\"},{\"attributes\":{\"source\":{\"id\":\"2163\"}},\"id\":\"2170\",\"type\":\"CDSView\"},{\"attributes\":{\"label\":{\"value\":\"price_change_percentage_24h\"},\"renderers\":[{\"id\":\"2148\"}]},\"id\":\"2161\",\"type\":\"LegendItem\"},{\"attributes\":{\"label\":{\"value\":\"price_change_percentage_60d\"},\"renderers\":[{\"id\":\"2241\"}]},\"id\":\"2261\",\"type\":\"LegendItem\"},{\"attributes\":{},\"id\":\"2236\",\"type\":\"Selection\"},{\"attributes\":{\"coordinates\":null,\"data_source\":{\"id\":\"2293\"},\"glyph\":{\"id\":\"2296\"},\"group\":null,\"hover_glyph\":null,\"muted_glyph\":{\"id\":\"2298\"},\"nonselection_glyph\":{\"id\":\"2297\"},\"selection_glyph\":{\"id\":\"2324\"},\"view\":{\"id\":\"2300\"}},\"id\":\"2299\",\"type\":\"GlyphRenderer\"},{\"attributes\":{},\"id\":\"2157\",\"type\":\"UnionRenderers\"},{\"attributes\":{\"line_color\":\"#30a2da\",\"line_width\":2,\"tags\":[\"apply_ranges\"],\"x\":{\"field\":\"coin_id\"},\"y\":{\"field\":\"value\"}},\"id\":\"2162\",\"type\":\"Line\"},{\"attributes\":{},\"id\":\"2320\",\"type\":\"UnionRenderers\"},{\"attributes\":{\"end\":8641.780918,\"reset_end\":8641.780918,\"reset_start\":-834.5136980000001,\"start\":-834.5136980000001,\"tags\":[[[\"value\",\"value\",null]]]},\"id\":\"2099\",\"type\":\"Range1d\"},{\"attributes\":{\"data\":{\"Variable\":[\"price_change_percentage_200d\",\"price_change_percentage_200d\",\"price_change_percentage_200d\",\"price_change_percentage_200d\",\"price_change_percentage_200d\",\"price_change_percentage_200d\",\"price_change_percentage_200d\",\"price_change_percentage_200d\",\"price_change_percentage_200d\",\"price_change_percentage_200d\",\"price_change_percentage_200d\",\"price_change_percentage_200d\",\"price_change_percentage_200d\",\"price_change_percentage_200d\",\"price_change_percentage_200d\",\"price_change_percentage_200d\",\"price_change_percentage_200d\",\"price_change_percentage_200d\",\"price_change_percentage_200d\",\"price_change_percentage_200d\",\"price_change_percentage_200d\",\"price_change_percentage_200d\",\"price_change_percentage_200d\",\"price_change_percentage_200d\",\"price_change_percentage_200d\",\"price_change_percentage_200d\",\"price_change_percentage_200d\",\"price_change_percentage_200d\",\"price_change_percentage_200d\",\"price_change_percentage_200d\",\"price_change_percentage_200d\",\"price_change_percentage_200d\",\"price_change_percentage_200d\",\"price_change_percentage_200d\",\"price_change_percentage_200d\",\"price_change_percentage_200d\",\"price_change_percentage_200d\",\"price_change_percentage_200d\",\"price_change_percentage_200d\",\"price_change_percentage_200d\",\"price_change_percentage_200d\"],\"coin_id\":[\"bitcoin\",\"ethereum\",\"tether\",\"ripple\",\"bitcoin-cash\",\"binancecoin\",\"chainlink\",\"cardano\",\"litecoin\",\"bitcoin-cash-sv\",\"crypto-com-chain\",\"usd-coin\",\"eos\",\"monero\",\"tron\",\"tezos\",\"okb\",\"stellar\",\"cosmos\",\"cdai\",\"neo\",\"wrapped-bitcoin\",\"leo-token\",\"huobi-token\",\"nem\",\"binance-usd\",\"iota\",\"vechain\",\"zcash\",\"theta-token\",\"dash\",\"ethereum-classic\",\"ethlend\",\"maker\",\"havven\",\"omisego\",\"celsius-degree-token\",\"ontology\",\"ftx-token\",\"true-usd\",\"digibyte\"],\"value\":{\"__ndarray__\":\"xY8xdy3hVED0piIVxlhnQBe86CtIM3a/9zsUBfrEQ0DTn/1IEak1QPTDCOHRc2NAl3MprqozeUAexM4UOohwQIB9dOrKfztAFhiyutWzHUCN7iB2plZsQIQqNXugFcS/ZHWr56QPMkALe9rhrzBlQH+8V61MnGBA5nlwd9a2RUARHm0csfpDQC+Lic3HJ1VAkj8YeO4/Z0AOvjCZKhjZv2vUQzS61GNAtRX7y+75VEC5GW7A52cwQAPso1NXHkVAKa4q+64Fa0A7NgLxun65P+TaUDHOwVdAyM1wAz7bcEAFwHgGDaNeQH3Qs1k1lYtAOUVHcvnvGEANGvonuMgkQCYZOQvbZ6FAGD4ipkSiVED5MeauZXeDQHi0ccQaSoJAC170FcTYmEB1PGagMmJLQC2yne+nvkxAndfYJaq3tr9R9wFIbSl+QA==\",\"dtype\":\"float64\",\"order\":\"little\",\"shape\":[41]}},\"selected\":{\"id\":\"2264\"},\"selection_policy\":{\"id\":\"2288\"}},\"id\":\"2263\",\"type\":\"ColumnDataSource\"},{\"attributes\":{\"line_color\":\"#8b8b8b\",\"line_width\":2,\"tags\":[\"apply_ranges\"],\"x\":{\"field\":\"coin_id\"},\"y\":{\"field\":\"value\"}},\"id\":\"2238\",\"type\":\"Line\"},{\"attributes\":{\"line_alpha\":0.2,\"line_color\":\"#fc4f30\",\"line_width\":2,\"tags\":[\"apply_ranges\"],\"x\":{\"field\":\"coin_id\"},\"y\":{\"field\":\"value\"}},\"id\":\"2168\",\"type\":\"Line\"},{\"attributes\":{},\"id\":\"2294\",\"type\":\"Selection\"},{\"attributes\":{},\"id\":\"2186\",\"type\":\"Selection\"},{\"attributes\":{\"data\":{\"Variable\":[\"price_change_percentage_7d\",\"price_change_percentage_7d\",\"price_change_percentage_7d\",\"price_change_percentage_7d\",\"price_change_percentage_7d\",\"price_change_percentage_7d\",\"price_change_percentage_7d\",\"price_change_percentage_7d\",\"price_change_percentage_7d\",\"price_change_percentage_7d\",\"price_change_percentage_7d\",\"price_change_percentage_7d\",\"price_change_percentage_7d\",\"price_change_percentage_7d\",\"price_change_percentage_7d\",\"price_change_percentage_7d\",\"price_change_percentage_7d\",\"price_change_percentage_7d\",\"price_change_percentage_7d\",\"price_change_percentage_7d\",\"price_change_percentage_7d\",\"price_change_percentage_7d\",\"price_change_percentage_7d\",\"price_change_percentage_7d\",\"price_change_percentage_7d\",\"price_change_percentage_7d\",\"price_change_percentage_7d\",\"price_change_percentage_7d\",\"price_change_percentage_7d\",\"price_change_percentage_7d\",\"price_change_percentage_7d\",\"price_change_percentage_7d\",\"price_change_percentage_7d\",\"price_change_percentage_7d\",\"price_change_percentage_7d\",\"price_change_percentage_7d\",\"price_change_percentage_7d\",\"price_change_percentage_7d\",\"price_change_percentage_7d\",\"price_change_percentage_7d\",\"price_change_percentage_7d\"],\"coin_id\":[\"bitcoin\",\"ethereum\",\"tether\",\"ripple\",\"bitcoin-cash\",\"binancecoin\",\"chainlink\",\"cardano\",\"litecoin\",\"bitcoin-cash-sv\",\"crypto-com-chain\",\"usd-coin\",\"eos\",\"monero\",\"tron\",\"tezos\",\"okb\",\"stellar\",\"cosmos\",\"cdai\",\"neo\",\"wrapped-bitcoin\",\"leo-token\",\"huobi-token\",\"nem\",\"binance-usd\",\"iota\",\"vechain\",\"zcash\",\"theta-token\",\"dash\",\"ethereum-classic\",\"ethlend\",\"maker\",\"havven\",\"omisego\",\"celsius-degree-token\",\"ontology\",\"ftx-token\",\"true-usd\",\"digibyte\"],\"value\":{\"__ndarray__\":\"RbsKKT9pHkAzUBn/PsMkQL99HThnRKk/yVnY0w5/47/+JhQi4BgxQBL3WPrQtSlA7yB2ptCxNEA/jBAebfwrQPFL/bypaBpArKjBNAxfCkByv0NRoK8WwPlJtU/HY76/lPsdigL99L+n6Egu/5EvQE1KQbeX9BBA0m9fB87pIUBlU67wLjcSwKbtX1lpkgBAZwqd19gVMEBcIEHxY8ytP3wnZr0YigNAOh4zUBmfHUD3Hi457pT1vzNQGf8+4/k/kQ96Nqs+6781Y9F0djKoP2dEaW/wRRhAgXhdv2A3/L/8GHPXErIkQP8JLlbUYBjAVU0QdR9gFEDRlnMprmoIQGCrBIvD2RBAAiuHFtlOIECbG9MTllgRQKhXyjLEURtAqn06HjNQ4z+UvDrHgGzzvwltOZfiahxAsD2zJEBNxT8yj/zBwHPlPw==\",\"dtype\":\"float64\",\"order\":\"little\",\"shape\":[41]}},\"selected\":{\"id\":\"2164\"},\"selection_policy\":{\"id\":\"2180\"}},\"id\":\"2163\",\"type\":\"ColumnDataSource\"},{\"attributes\":{\"label\":{\"value\":\"price_change_percentage_1y\"},\"renderers\":[{\"id\":\"2299\"}]},\"id\":\"2323\",\"type\":\"LegendItem\"},{\"attributes\":{\"coordinates\":null,\"data_source\":{\"id\":\"2163\"},\"glyph\":{\"id\":\"2166\"},\"group\":null,\"hover_glyph\":null,\"muted_glyph\":{\"id\":\"2168\"},\"nonselection_glyph\":{\"id\":\"2167\"},\"selection_glyph\":{\"id\":\"2184\"},\"view\":{\"id\":\"2170\"}},\"id\":\"2169\",\"type\":\"GlyphRenderer\"},{\"attributes\":{\"line_color\":\"#6d904f\",\"line_width\":2,\"tags\":[\"apply_ranges\"],\"x\":{\"field\":\"coin_id\"},\"y\":{\"field\":\"value\"}},\"id\":\"2212\",\"type\":\"Line\"},{\"attributes\":{\"line_color\":\"#e5ae38\",\"line_width\":2,\"tags\":[\"apply_ranges\"],\"x\":{\"field\":\"coin_id\"},\"y\":{\"field\":\"value\"}},\"id\":\"2208\",\"type\":\"Line\"},{\"attributes\":{\"line_color\":\"#9467bd\",\"line_width\":2,\"tags\":[\"apply_ranges\"],\"x\":{\"field\":\"coin_id\"},\"y\":{\"field\":\"value\"}},\"id\":\"2296\",\"type\":\"Line\"},{\"attributes\":{\"line_alpha\":0.1,\"line_color\":\"#fc4f30\",\"line_width\":2,\"tags\":[\"apply_ranges\"],\"x\":{\"field\":\"coin_id\"},\"y\":{\"field\":\"value\"}},\"id\":\"2167\",\"type\":\"Line\"}],\"root_ids\":[\"2097\"]},\"title\":\"Bokeh Application\",\"version\":\"2.4.3\"}};\n",
       "    var render_items = [{\"docid\":\"93cca878-71a8-4bb6-a536-74e2a072b9ec\",\"root_ids\":[\"2097\"],\"roots\":{\"2097\":\"2b758842-40f9-4c46-8cef-eb8924374623\"}}];\n",
       "    root.Bokeh.embed.embed_items_notebook(docs_json, render_items);\n",
       "    for (const render_item of render_items) {\n",
       "      for (const root_id of render_item.root_ids) {\n",
       "\tconst id_el = document.getElementById(root_id)\n",
       "\tif (id_el.children.length && (id_el.children[0].className === 'bk-root')) {\n",
       "\t  const root_el = id_el.children[0]\n",
       "\t  root_el.id = root_el.id + '-rendered'\n",
       "\t}\n",
       "      }\n",
       "    }\n",
       "  }\n",
       "  if (root.Bokeh !== undefined && root.Bokeh.Panel !== undefined) {\n",
       "    embed_document(root);\n",
       "  } else {\n",
       "    var attempts = 0;\n",
       "    var timer = setInterval(function(root) {\n",
       "      if (root.Bokeh !== undefined && root.Bokeh.Panel !== undefined) {\n",
       "        clearInterval(timer);\n",
       "        embed_document(root);\n",
       "      } else if (document.readyState == \"complete\") {\n",
       "        attempts++;\n",
       "        if (attempts > 200) {\n",
       "          clearInterval(timer);\n",
       "          console.log(\"Bokeh: ERROR: Unable to run BokehJS code because BokehJS library is missing\");\n",
       "        }\n",
       "      }\n",
       "    }, 25, root)\n",
       "  }\n",
       "})(window);</script>"
      ],
      "text/plain": [
       ":NdOverlay   [Variable]\n",
       "   :Curve   [coin_id]   (value)"
      ]
     },
     "execution_count": 19,
     "metadata": {
      "application/vnd.holoviews_exec.v0+json": {
       "id": "2097"
      }
     },
     "output_type": "execute_result"
    }
   ],
   "source": [
    "# Plot your data to see what's in your DataFrame\n",
    "df_market_data.hvplot.line(\n",
    "    width=800,\n",
    "    height=400,\n",
    "    rot=90\n",
    ")"
   ]
  },
  {
   "cell_type": "markdown",
   "metadata": {},
   "source": [
    "---"
   ]
  },
  {
   "cell_type": "markdown",
   "metadata": {},
   "source": [
    "### Prepare the Data"
   ]
  },
  {
   "cell_type": "code",
   "execution_count": 20,
   "metadata": {},
   "outputs": [],
   "source": [
    "# Use the `StandardScaler()` module from scikit-learn to normalize the data from the CSV file\n",
    "scaler = StandardScaler()\n",
    "columns_to_normalize = df_market_data.columns\n",
    "df_market_data[columns_to_normalize] = scaler.fit_transform(df_market_data[columns_to_normalize])"
   ]
  },
  {
   "cell_type": "code",
   "execution_count": 30,
   "metadata": {},
   "outputs": [
    {
     "data": {
      "text/html": [
       "<div>\n",
       "<style scoped>\n",
       "    .dataframe tbody tr th:only-of-type {\n",
       "        vertical-align: middle;\n",
       "    }\n",
       "\n",
       "    .dataframe tbody tr th {\n",
       "        vertical-align: top;\n",
       "    }\n",
       "\n",
       "    .dataframe thead th {\n",
       "        text-align: right;\n",
       "    }\n",
       "</style>\n",
       "<table border=\"1\" class=\"dataframe\">\n",
       "  <thead>\n",
       "    <tr style=\"text-align: right;\">\n",
       "      <th></th>\n",
       "    </tr>\n",
       "    <tr>\n",
       "      <th>coin_id</th>\n",
       "    </tr>\n",
       "  </thead>\n",
       "  <tbody>\n",
       "    <tr>\n",
       "      <th>bitcoin</th>\n",
       "    </tr>\n",
       "    <tr>\n",
       "      <th>ethereum</th>\n",
       "    </tr>\n",
       "    <tr>\n",
       "      <th>tether</th>\n",
       "    </tr>\n",
       "    <tr>\n",
       "      <th>ripple</th>\n",
       "    </tr>\n",
       "    <tr>\n",
       "      <th>bitcoin-cash</th>\n",
       "    </tr>\n",
       "  </tbody>\n",
       "</table>\n",
       "</div>"
      ],
      "text/plain": [
       "Empty DataFrame\n",
       "Columns: []\n",
       "Index: [bitcoin, ethereum, tether, ripple, bitcoin-cash]"
      ]
     },
     "execution_count": 30,
     "metadata": {},
     "output_type": "execute_result"
    }
   ],
   "source": [
    "# Create a DataFrame with the scaled data\n",
    "df_scaled = df_market_data.copy()\n",
    "\n",
    "# Copy the crypto names from the original data\n",
    "crypto_names = df_market_data.index.to_frame().reset_index(drop=True)\n",
    "\n",
    "# Set the coinid column as index\n",
    "crypto_names.set_index('coin_id', inplace=True)\n",
    "\n",
    "# Display sample data\n",
    "crypto_names.head()"
   ]
  },
  {
   "cell_type": "markdown",
   "metadata": {},
   "source": [
    "---"
   ]
  },
  {
   "cell_type": "markdown",
   "metadata": {},
   "source": [
    "### Find the Best Value for k Using the Original Data."
   ]
  },
  {
   "cell_type": "code",
   "execution_count": 22,
   "metadata": {},
   "outputs": [],
   "source": [
    "# Create a list with the number of k-values from 1 to 11\n",
    "k = list(range(1, 11))"
   ]
  },
  {
   "cell_type": "code",
   "execution_count": 39,
   "metadata": {},
   "outputs": [
    {
     "name": "stderr",
     "output_type": "stream",
     "text": [
      "C:\\Users\\adria\\anaconda3\\envs\\dev2\\lib\\site-packages\\sklearn\\cluster\\_kmeans.py:870: FutureWarning: The default value of `n_init` will change from 10 to 'auto' in 1.4. Set the value of `n_init` explicitly to suppress the warning\n",
      "  warnings.warn(\n",
      "C:\\Users\\adria\\anaconda3\\envs\\dev2\\lib\\site-packages\\sklearn\\cluster\\_kmeans.py:1382: UserWarning: KMeans is known to have a memory leak on Windows with MKL, when there are less chunks than available threads. You can avoid it by setting the environment variable OMP_NUM_THREADS=1.\n",
      "  warnings.warn(\n",
      "C:\\Users\\adria\\anaconda3\\envs\\dev2\\lib\\site-packages\\sklearn\\cluster\\_kmeans.py:870: FutureWarning: The default value of `n_init` will change from 10 to 'auto' in 1.4. Set the value of `n_init` explicitly to suppress the warning\n",
      "  warnings.warn(\n",
      "C:\\Users\\adria\\anaconda3\\envs\\dev2\\lib\\site-packages\\sklearn\\cluster\\_kmeans.py:1382: UserWarning: KMeans is known to have a memory leak on Windows with MKL, when there are less chunks than available threads. You can avoid it by setting the environment variable OMP_NUM_THREADS=1.\n",
      "  warnings.warn(\n",
      "C:\\Users\\adria\\anaconda3\\envs\\dev2\\lib\\site-packages\\sklearn\\cluster\\_kmeans.py:870: FutureWarning: The default value of `n_init` will change from 10 to 'auto' in 1.4. Set the value of `n_init` explicitly to suppress the warning\n",
      "  warnings.warn(\n",
      "C:\\Users\\adria\\anaconda3\\envs\\dev2\\lib\\site-packages\\sklearn\\cluster\\_kmeans.py:1382: UserWarning: KMeans is known to have a memory leak on Windows with MKL, when there are less chunks than available threads. You can avoid it by setting the environment variable OMP_NUM_THREADS=1.\n",
      "  warnings.warn(\n",
      "C:\\Users\\adria\\anaconda3\\envs\\dev2\\lib\\site-packages\\sklearn\\cluster\\_kmeans.py:870: FutureWarning: The default value of `n_init` will change from 10 to 'auto' in 1.4. Set the value of `n_init` explicitly to suppress the warning\n",
      "  warnings.warn(\n",
      "C:\\Users\\adria\\anaconda3\\envs\\dev2\\lib\\site-packages\\sklearn\\cluster\\_kmeans.py:1382: UserWarning: KMeans is known to have a memory leak on Windows with MKL, when there are less chunks than available threads. You can avoid it by setting the environment variable OMP_NUM_THREADS=1.\n",
      "  warnings.warn(\n",
      "C:\\Users\\adria\\anaconda3\\envs\\dev2\\lib\\site-packages\\sklearn\\cluster\\_kmeans.py:870: FutureWarning: The default value of `n_init` will change from 10 to 'auto' in 1.4. Set the value of `n_init` explicitly to suppress the warning\n",
      "  warnings.warn(\n",
      "C:\\Users\\adria\\anaconda3\\envs\\dev2\\lib\\site-packages\\sklearn\\cluster\\_kmeans.py:1382: UserWarning: KMeans is known to have a memory leak on Windows with MKL, when there are less chunks than available threads. You can avoid it by setting the environment variable OMP_NUM_THREADS=1.\n",
      "  warnings.warn(\n",
      "C:\\Users\\adria\\anaconda3\\envs\\dev2\\lib\\site-packages\\sklearn\\cluster\\_kmeans.py:870: FutureWarning: The default value of `n_init` will change from 10 to 'auto' in 1.4. Set the value of `n_init` explicitly to suppress the warning\n",
      "  warnings.warn(\n",
      "C:\\Users\\adria\\anaconda3\\envs\\dev2\\lib\\site-packages\\sklearn\\cluster\\_kmeans.py:1382: UserWarning: KMeans is known to have a memory leak on Windows with MKL, when there are less chunks than available threads. You can avoid it by setting the environment variable OMP_NUM_THREADS=1.\n",
      "  warnings.warn(\n",
      "C:\\Users\\adria\\anaconda3\\envs\\dev2\\lib\\site-packages\\sklearn\\cluster\\_kmeans.py:870: FutureWarning: The default value of `n_init` will change from 10 to 'auto' in 1.4. Set the value of `n_init` explicitly to suppress the warning\n",
      "  warnings.warn(\n",
      "C:\\Users\\adria\\anaconda3\\envs\\dev2\\lib\\site-packages\\sklearn\\cluster\\_kmeans.py:1382: UserWarning: KMeans is known to have a memory leak on Windows with MKL, when there are less chunks than available threads. You can avoid it by setting the environment variable OMP_NUM_THREADS=1.\n",
      "  warnings.warn(\n",
      "C:\\Users\\adria\\anaconda3\\envs\\dev2\\lib\\site-packages\\sklearn\\cluster\\_kmeans.py:870: FutureWarning: The default value of `n_init` will change from 10 to 'auto' in 1.4. Set the value of `n_init` explicitly to suppress the warning\n",
      "  warnings.warn(\n",
      "C:\\Users\\adria\\anaconda3\\envs\\dev2\\lib\\site-packages\\sklearn\\cluster\\_kmeans.py:1382: UserWarning: KMeans is known to have a memory leak on Windows with MKL, when there are less chunks than available threads. You can avoid it by setting the environment variable OMP_NUM_THREADS=1.\n",
      "  warnings.warn(\n",
      "C:\\Users\\adria\\anaconda3\\envs\\dev2\\lib\\site-packages\\sklearn\\cluster\\_kmeans.py:870: FutureWarning: The default value of `n_init` will change from 10 to 'auto' in 1.4. Set the value of `n_init` explicitly to suppress the warning\n",
      "  warnings.warn(\n",
      "C:\\Users\\adria\\anaconda3\\envs\\dev2\\lib\\site-packages\\sklearn\\cluster\\_kmeans.py:1382: UserWarning: KMeans is known to have a memory leak on Windows with MKL, when there are less chunks than available threads. You can avoid it by setting the environment variable OMP_NUM_THREADS=1.\n",
      "  warnings.warn(\n",
      "C:\\Users\\adria\\anaconda3\\envs\\dev2\\lib\\site-packages\\sklearn\\cluster\\_kmeans.py:870: FutureWarning: The default value of `n_init` will change from 10 to 'auto' in 1.4. Set the value of `n_init` explicitly to suppress the warning\n",
      "  warnings.warn(\n",
      "C:\\Users\\adria\\anaconda3\\envs\\dev2\\lib\\site-packages\\sklearn\\cluster\\_kmeans.py:1382: UserWarning: KMeans is known to have a memory leak on Windows with MKL, when there are less chunks than available threads. You can avoid it by setting the environment variable OMP_NUM_THREADS=1.\n",
      "  warnings.warn(\n"
     ]
    }
   ],
   "source": [
    "# Create an empty list to store the inertia values\n",
    "inertia = []\n",
    "\n",
    "# Create a for loop to compute the inertia with each possible value of k\n",
    "# Inside the loop:\n",
    "# 1. Create a KMeans model using the loop counter for the n_clusters\n",
    "# 2. Fit the model to the data using `df_market_data_scaled`\n",
    "# 3. Append the model.inertia_ to the inertia list\n",
    "\n",
    "for i in k_values:\n",
    "    k_model = KMeans(n_clusters=i, random_state=0)\n",
    "    k_model.fit(df_market_data)\n",
    "    inertia.append(model.inertia_)\n"
   ]
  },
  {
   "cell_type": "code",
   "execution_count": 41,
   "metadata": {},
   "outputs": [
    {
     "data": {
      "text/html": [
       "<div>\n",
       "<style scoped>\n",
       "    .dataframe tbody tr th:only-of-type {\n",
       "        vertical-align: middle;\n",
       "    }\n",
       "\n",
       "    .dataframe tbody tr th {\n",
       "        vertical-align: top;\n",
       "    }\n",
       "\n",
       "    .dataframe thead th {\n",
       "        text-align: right;\n",
       "    }\n",
       "</style>\n",
       "<table border=\"1\" class=\"dataframe\">\n",
       "  <thead>\n",
       "    <tr style=\"text-align: right;\">\n",
       "      <th></th>\n",
       "      <th>K</th>\n",
       "      <th>Inertia</th>\n",
       "    </tr>\n",
       "  </thead>\n",
       "  <tbody>\n",
       "    <tr>\n",
       "      <th>0</th>\n",
       "      <td>10</td>\n",
       "      <td>28.222899</td>\n",
       "    </tr>\n",
       "    <tr>\n",
       "      <th>1</th>\n",
       "      <td>10</td>\n",
       "      <td>28.222899</td>\n",
       "    </tr>\n",
       "    <tr>\n",
       "      <th>2</th>\n",
       "      <td>10</td>\n",
       "      <td>28.222899</td>\n",
       "    </tr>\n",
       "    <tr>\n",
       "      <th>3</th>\n",
       "      <td>10</td>\n",
       "      <td>28.222899</td>\n",
       "    </tr>\n",
       "    <tr>\n",
       "      <th>4</th>\n",
       "      <td>10</td>\n",
       "      <td>28.222899</td>\n",
       "    </tr>\n",
       "  </tbody>\n",
       "</table>\n",
       "</div>"
      ],
      "text/plain": [
       "    K    Inertia\n",
       "0  10  28.222899\n",
       "1  10  28.222899\n",
       "2  10  28.222899\n",
       "3  10  28.222899\n",
       "4  10  28.222899"
      ]
     },
     "execution_count": 41,
     "metadata": {},
     "output_type": "execute_result"
    }
   ],
   "source": [
    "# Create a dictionary with the data to plot the Elbow curve\n",
    "elbow_data = {'K': k, 'Inertia': inertia}\n",
    "    \n",
    "# Create a DataFrame with the data to plot the Elbow curve\n",
    "df_elbow = pd.DataFrame(elbow_data)\n",
    "df_elbow.head()"
   ]
  },
  {
   "cell_type": "code",
   "execution_count": 44,
   "metadata": {},
   "outputs": [
    {
     "data": {
      "image/png": "[encoded data removed]",
      "text/plain": [
       "<Figure size 1000x600 with 1 Axes>"
      ]
     },
     "metadata": {},
     "output_type": "display_data"
    }
   ],
   "source": [
    "# Plot a line chart with all the inertia values computed with \n",
    "# the different values of k to visually identify the optimal value for k.\n",
    "import matplotlib.pyplot as plt\n",
    "plt.figure(figsize=(10, 6)) \n",
    "plt.plot(df_elbow['K'], df_elbow['Inertia'], marker='o', linestyle='-')\n",
    "plt.title('Elbow Curve for K-Means')\n",
    "plt.xlabel('Number of Clusters (K)')\n",
    "plt.ylabel('Inertia')\n",
    "plt.grid(True)\n",
    "plt.show()"
   ]
  },
  {
   "cell_type": "markdown",
   "metadata": {},
   "source": [
    "#### Answer the following question: \n",
    "\n",
    "**Question:** What is the best value for `k`?\n",
    "\n",
    "**Answer:** 10"
   ]
  },
  {
   "cell_type": "markdown",
   "metadata": {},
   "source": [
    "---"
   ]
  },
  {
   "cell_type": "markdown",
   "metadata": {},
   "source": [
    "### Cluster Cryptocurrencies with K-means Using the Original Data"
   ]
  },
  {
   "cell_type": "code",
   "execution_count": 46,
   "metadata": {},
   "outputs": [],
   "source": [
    "# Initialize the K-Means model using the best value for k\n",
    "model = KMeans(n_clusters=10, random_state=0)"
   ]
  },
  {
   "cell_type": "code",
   "execution_count": 47,
   "metadata": {},
   "outputs": [
    {
     "name": "stderr",
     "output_type": "stream",
     "text": [
      "C:\\Users\\adria\\anaconda3\\envs\\dev2\\lib\\site-packages\\sklearn\\cluster\\_kmeans.py:870: FutureWarning: The default value of `n_init` will change from 10 to 'auto' in 1.4. Set the value of `n_init` explicitly to suppress the warning\n",
      "  warnings.warn(\n",
      "C:\\Users\\adria\\anaconda3\\envs\\dev2\\lib\\site-packages\\sklearn\\cluster\\_kmeans.py:1382: UserWarning: KMeans is known to have a memory leak on Windows with MKL, when there are less chunks than available threads. You can avoid it by setting the environment variable OMP_NUM_THREADS=1.\n",
      "  warnings.warn(\n"
     ]
    },
    {
     "data": {
      "text/html": [
       "<style>#sk-container-id-1 {color: black;background-color: white;}#sk-container-id-1 pre{padding: 0;}#sk-container-id-1 div.sk-toggleable {background-color: white;}#sk-container-id-1 label.sk-toggleable__label {cursor: pointer;display: block;width: 100%;margin-bottom: 0;padding: 0.3em;box-sizing: border-box;text-align: center;}#sk-container-id-1 label.sk-toggleable__label-arrow:before {content: \"▸\";float: left;margin-right: 0.25em;color: #696969;}#sk-container-id-1 label.sk-toggleable__label-arrow:hover:before {color: black;}#sk-container-id-1 div.sk-estimator:hover label.sk-toggleable__label-arrow:before {color: black;}#sk-container-id-1 div.sk-toggleable__content {max-height: 0;max-width: 0;overflow: hidden;text-align: left;background-color: #f0f8ff;}#sk-container-id-1 div.sk-toggleable__content pre {margin: 0.2em;color: black;border-radius: 0.25em;background-color: #f0f8ff;}#sk-container-id-1 input.sk-toggleable__control:checked~div.sk-toggleable__content {max-height: 200px;max-width: 100%;overflow: auto;}#sk-container-id-1 input.sk-toggleable__control:checked~label.sk-toggleable__label-arrow:before {content: \"▾\";}#sk-container-id-1 div.sk-estimator input.sk-toggleable__control:checked~label.sk-toggleable__label {background-color: #d4ebff;}#sk-container-id-1 div.sk-label input.sk-toggleable__control:checked~label.sk-toggleable__label {background-color: #d4ebff;}#sk-container-id-1 input.sk-hidden--visually {border: 0;clip: rect(1px 1px 1px 1px);clip: rect(1px, 1px, 1px, 1px);height: 1px;margin: -1px;overflow: hidden;padding: 0;position: absolute;width: 1px;}#sk-container-id-1 div.sk-estimator {font-family: monospace;background-color: #f0f8ff;border: 1px dotted black;border-radius: 0.25em;box-sizing: border-box;margin-bottom: 0.5em;}#sk-container-id-1 div.sk-estimator:hover {background-color: #d4ebff;}#sk-container-id-1 div.sk-parallel-item::after {content: \"\";width: 100%;border-bottom: 1px solid gray;flex-grow: 1;}#sk-container-id-1 div.sk-label:hover label.sk-toggleable__label {background-color: #d4ebff;}#sk-container-id-1 div.sk-serial::before {content: \"\";position: absolute;border-left: 1px solid gray;box-sizing: border-box;top: 0;bottom: 0;left: 50%;z-index: 0;}#sk-container-id-1 div.sk-serial {display: flex;flex-direction: column;align-items: center;background-color: white;padding-right: 0.2em;padding-left: 0.2em;position: relative;}#sk-container-id-1 div.sk-item {position: relative;z-index: 1;}#sk-container-id-1 div.sk-parallel {display: flex;align-items: stretch;justify-content: center;background-color: white;position: relative;}#sk-container-id-1 div.sk-item::before, #sk-container-id-1 div.sk-parallel-item::before {content: \"\";position: absolute;border-left: 1px solid gray;box-sizing: border-box;top: 0;bottom: 0;left: 50%;z-index: -1;}#sk-container-id-1 div.sk-parallel-item {display: flex;flex-direction: column;z-index: 1;position: relative;background-color: white;}#sk-container-id-1 div.sk-parallel-item:first-child::after {align-self: flex-end;width: 50%;}#sk-container-id-1 div.sk-parallel-item:last-child::after {align-self: flex-start;width: 50%;}#sk-container-id-1 div.sk-parallel-item:only-child::after {width: 0;}#sk-container-id-1 div.sk-dashed-wrapped {border: 1px dashed gray;margin: 0 0.4em 0.5em 0.4em;box-sizing: border-box;padding-bottom: 0.4em;background-color: white;}#sk-container-id-1 div.sk-label label {font-family: monospace;font-weight: bold;display: inline-block;line-height: 1.2em;}#sk-container-id-1 div.sk-label-container {text-align: center;}#sk-container-id-1 div.sk-container {/* jupyter's `normalize.less` sets `[hidden] { display: none; }` but bootstrap.min.css set `[hidden] { display: none !important; }` so we also need the `!important` here to be able to override the default hidden behavior on the sphinx rendered scikit-learn.org. See: https://github.com/scikit-learn/scikit-learn/issues/21755 */display: inline-block !important;position: relative;}#sk-container-id-1 div.sk-text-repr-fallback {display: none;}</style><div id=\"sk-container-id-1\" class=\"sk-top-container\"><div class=\"sk-text-repr-fallback\"><pre>KMeans(n_clusters=10, random_state=0)</pre><b>In a Jupyter environment, please rerun this cell to show the HTML representation or trust the notebook. <br />On GitHub, the HTML representation is unable to render, please try loading this page with nbviewer.org.</b></div><div class=\"sk-container\" hidden><div class=\"sk-item\"><div class=\"sk-estimator sk-toggleable\"><input class=\"sk-toggleable__control sk-hidden--visually\" id=\"sk-estimator-id-1\" type=\"checkbox\" checked><label for=\"sk-estimator-id-1\" class=\"sk-toggleable__label sk-toggleable__label-arrow\">KMeans</label><div class=\"sk-toggleable__content\"><pre>KMeans(n_clusters=10, random_state=0)</pre></div></div></div></div></div>"
      ],
      "text/plain": [
       "KMeans(n_clusters=10, random_state=0)"
      ]
     },
     "execution_count": 47,
     "metadata": {},
     "output_type": "execute_result"
    }
   ],
   "source": [
    "# Fit the K-Means model using the scaled data\n",
    "model.fit(df_scaled)"
   ]
  },
  {
   "cell_type": "code",
   "execution_count": 48,
   "metadata": {},
   "outputs": [
    {
     "name": "stdout",
     "output_type": "stream",
     "text": [
      "[5 5 8 8 3 5 5 5 5 1 0 8 8 3 1 1 8 1 5 8 0 5 8 8 8 8 1 0 5 6 1 1 2 1 9 7 4\n",
      " 0 1 8 0]\n"
     ]
    }
   ],
   "source": [
    "# Predict the clusters to group the cryptocurrencies using the scaled data\n",
    "cluster_labels = model.predict(df_scaled)\n",
    "\n",
    "# Print the resulting array of cluster values.\n",
    "print(cluster_labels)"
   ]
  },
  {
   "cell_type": "code",
   "execution_count": 50,
   "metadata": {},
   "outputs": [],
   "source": [
    "# Create a copy of the DataFrame\n",
    "df_scaled_copy = df_scaled.copy()"
   ]
  },
  {
   "cell_type": "code",
   "execution_count": 51,
   "metadata": {},
   "outputs": [
    {
     "name": "stdout",
     "output_type": "stream",
     "text": [
      "              price_change_percentage_24h  price_change_percentage_7d  \\\n",
      "coin_id                                                                 \n",
      "bitcoin                          0.508529                    0.493193   \n",
      "ethereum                         0.185446                    0.934445   \n",
      "tether                           0.021774                   -0.706337   \n",
      "ripple                          -0.040764                   -0.810928   \n",
      "bitcoin-cash                     1.193036                    2.000959   \n",
      "\n",
      "              price_change_percentage_14d  price_change_percentage_30d  \\\n",
      "coin_id                                                                  \n",
      "bitcoin                          0.772200                     0.235460   \n",
      "ethereum                         0.558692                    -0.054341   \n",
      "tether                          -0.021680                    -0.061030   \n",
      "ripple                           0.249458                    -0.050388   \n",
      "bitcoin-cash                     1.760610                     0.545842   \n",
      "\n",
      "              price_change_percentage_60d  price_change_percentage_200d  \\\n",
      "coin_id                                                                   \n",
      "bitcoin                         -0.067495                     -0.355953   \n",
      "ethereum                        -0.273483                     -0.115759   \n",
      "tether                           0.008005                     -0.550247   \n",
      "ripple                          -0.373164                     -0.458259   \n",
      "bitcoin-cash                    -0.291203                     -0.499848   \n",
      "\n",
      "              price_change_percentage_1y  Cluster  \n",
      "coin_id                                            \n",
      "bitcoin                        -0.251637        5  \n",
      "ethereum                       -0.199352        5  \n",
      "tether                         -0.282061        8  \n",
      "ripple                         -0.295546        8  \n",
      "bitcoin-cash                   -0.270317        3  \n"
     ]
    }
   ],
   "source": [
    "# Add a new column to the DataFrame with the predicted clusters\n",
    "df_scaled_copy['Cluster'] = cluster_labels\n",
    "\n",
    "# Display sample data\n",
    "print(df_scaled_copy.head())"
   ]
  },
  {
   "cell_type": "code",
   "execution_count": 64,
   "metadata": {},
   "outputs": [
    {
     "data": {},
     "metadata": {},
     "output_type": "display_data"
    },
    {
     "data": {
      "application/vnd.holoviews_exec.v0+json": "",
      "text/html": [
       "<div id='2710'>\n",
       "  <div class=\"bk-root\" id=\"e55a7660-a26d-42a5-b336-c7b2b374948a\" data-root-id=\"2710\"></div>\n",
       "</div>\n",
       "<script type=\"application/javascript\">(function(root) {\n",
       "  function embed_document(root) {\n",
       "    var docs_json = {\"438dfa62-937e-4d65-838d-7c3d8649e694\":{\"defs\":[{\"extends\":null,\"module\":null,\"name\":\"ReactiveHTML1\",\"overrides\":[],\"properties\":[]},{\"extends\":null,\"module\":null,\"name\":\"FlexBox1\",\"overrides\":[],\"properties\":[{\"default\":\"flex-start\",\"kind\":null,\"name\":\"align_content\"},{\"default\":\"flex-start\",\"kind\":null,\"name\":\"align_items\"},{\"default\":\"row\",\"kind\":null,\"name\":\"flex_direction\"},{\"default\":\"wrap\",\"kind\":null,\"name\":\"flex_wrap\"},{\"default\":\"flex-start\",\"kind\":null,\"name\":\"justify_content\"}]},{\"extends\":null,\"module\":null,\"name\":\"GridStack1\",\"overrides\":[],\"properties\":[{\"default\":\"warn\",\"kind\":null,\"name\":\"mode\"},{\"default\":null,\"kind\":null,\"name\":\"ncols\"},{\"default\":null,\"kind\":null,\"name\":\"nrows\"},{\"default\":true,\"kind\":null,\"name\":\"allow_resize\"},{\"default\":true,\"kind\":null,\"name\":\"allow_drag\"},{\"default\":[],\"kind\":null,\"name\":\"state\"}]},{\"extends\":null,\"module\":null,\"name\":\"click1\",\"overrides\":[],\"properties\":[{\"default\":\"\",\"kind\":null,\"name\":\"terminal_output\"},{\"default\":\"\",\"kind\":null,\"name\":\"debug_name\"},{\"default\":0,\"kind\":null,\"name\":\"clears\"}]},{\"extends\":null,\"module\":null,\"name\":\"NotificationAreaBase1\",\"overrides\":[],\"properties\":[{\"default\":\"bottom-right\",\"kind\":null,\"name\":\"position\"},{\"default\":0,\"kind\":null,\"name\":\"_clear\"}]},{\"extends\":null,\"module\":null,\"name\":\"NotificationArea1\",\"overrides\":[],\"properties\":[{\"default\":[],\"kind\":null,\"name\":\"notifications\"},{\"default\":\"bottom-right\",\"kind\":null,\"name\":\"position\"},{\"default\":0,\"kind\":null,\"name\":\"_clear\"},{\"default\":[{\"background\":\"#ffc107\",\"icon\":{\"className\":\"fas fa-exclamation-triangle\",\"color\":\"white\",\"tagName\":\"i\"},\"type\":\"warning\"},{\"background\":\"#007bff\",\"icon\":{\"className\":\"fas fa-info-circle\",\"color\":\"white\",\"tagName\":\"i\"},\"type\":\"info\"}],\"kind\":null,\"name\":\"types\"}]},{\"extends\":null,\"module\":null,\"name\":\"Notification\",\"overrides\":[],\"properties\":[{\"default\":null,\"kind\":null,\"name\":\"background\"},{\"default\":3000,\"kind\":null,\"name\":\"duration\"},{\"default\":null,\"kind\":null,\"name\":\"icon\"},{\"default\":\"\",\"kind\":null,\"name\":\"message\"},{\"default\":null,\"kind\":null,\"name\":\"notification_type\"},{\"default\":false,\"kind\":null,\"name\":\"_destroyed\"}]},{\"extends\":null,\"module\":null,\"name\":\"TemplateActions1\",\"overrides\":[],\"properties\":[{\"default\":0,\"kind\":null,\"name\":\"open_modal\"},{\"default\":0,\"kind\":null,\"name\":\"close_modal\"}]},{\"extends\":null,\"module\":null,\"name\":\"MaterialTemplateActions1\",\"overrides\":[],\"properties\":[{\"default\":0,\"kind\":null,\"name\":\"open_modal\"},{\"default\":0,\"kind\":null,\"name\":\"close_modal\"}]}],\"roots\":{\"references\":[{\"attributes\":{},\"id\":\"2733\",\"type\":\"WheelZoomTool\"},{\"attributes\":{\"fill_alpha\":{\"value\":0.2},\"fill_color\":{\"field\":\"color\",\"transform\":{\"id\":\"2744\"}},\"hatch_alpha\":{\"value\":0.2},\"hatch_color\":{\"field\":\"color\",\"transform\":{\"id\":\"2744\"}},\"line_alpha\":{\"value\":0.2},\"line_color\":{\"field\":\"color\",\"transform\":{\"id\":\"2744\"}},\"size\":{\"value\":5.477225575051661},\"tags\":[\"apply_ranges\"],\"x\":{\"field\":\"price_change_percentage_24h\"},\"y\":{\"field\":\"price_change_percentage_7d\"}},\"id\":\"2752\",\"type\":\"Scatter\"},{\"attributes\":{},\"id\":\"2731\",\"type\":\"SaveTool\"},{\"attributes\":{\"overlay\":{\"id\":\"2736\"}},\"id\":\"2734\",\"type\":\"BoxZoomTool\"},{\"attributes\":{},\"id\":\"2759\",\"type\":\"AllLabels\"},{\"attributes\":{},\"id\":\"2735\",\"type\":\"ResetTool\"},{\"attributes\":{},\"id\":\"2761\",\"type\":\"BasicTickFormatter\"},{\"attributes\":{\"fill_color\":{\"field\":\"color\",\"transform\":{\"id\":\"2744\"}},\"hatch_color\":{\"field\":\"color\",\"transform\":{\"id\":\"2744\"}},\"line_color\":{\"field\":\"color\",\"transform\":{\"id\":\"2744\"}},\"size\":{\"value\":5.477225575051661},\"tags\":[\"apply_ranges\"],\"x\":{\"field\":\"price_change_percentage_24h\"},\"y\":{\"field\":\"price_change_percentage_7d\"}},\"id\":\"2751\",\"type\":\"Scatter\"},{\"attributes\":{\"high\":9,\"low\":0,\"palette\":[\"#1f77b4\",\"#1f77b4\",\"#1f77b4\",\"#1f77b4\",\"#1f77b4\",\"#1f77b4\",\"#1f77b4\",\"#1f77b4\",\"#1f77b4\",\"#1f77b4\",\"#1f77b4\",\"#1f77b4\",\"#1f77b4\",\"#aec7e8\",\"#aec7e8\",\"#aec7e8\",\"#aec7e8\",\"#aec7e8\",\"#aec7e8\",\"#aec7e8\",\"#aec7e8\",\"#aec7e8\",\"#aec7e8\",\"#aec7e8\",\"#aec7e8\",\"#aec7e8\",\"#ff7f0e\",\"#ff7f0e\",\"#ff7f0e\",\"#ff7f0e\",\"#ff7f0e\",\"#ff7f0e\",\"#ff7f0e\",\"#ff7f0e\",\"#ff7f0e\",\"#ff7f0e\",\"#ff7f0e\",\"#ff7f0e\",\"#ff7f0e\",\"#ffbb78\",\"#ffbb78\",\"#ffbb78\",\"#ffbb78\",\"#ffbb78\",\"#ffbb78\",\"#ffbb78\",\"#ffbb78\",\"#ffbb78\",\"#ffbb78\",\"#ffbb78\",\"#ffbb78\",\"#ffbb78\",\"#2ca02c\",\"#2ca02c\",\"#2ca02c\",\"#2ca02c\",\"#2ca02c\",\"#2ca02c\",\"#2ca02c\",\"#2ca02c\",\"#2ca02c\",\"#2ca02c\",\"#2ca02c\",\"#2ca02c\",\"#98df8a\",\"#98df8a\",\"#98df8a\",\"#98df8a\",\"#98df8a\",\"#98df8a\",\"#98df8a\",\"#98df8a\",\"#98df8a\",\"#98df8a\",\"#98df8a\",\"#98df8a\",\"#98df8a\",\"#d62728\",\"#d62728\",\"#d62728\",\"#d62728\",\"#d62728\",\"#d62728\",\"#d62728\",\"#d62728\",\"#d62728\",\"#d62728\",\"#d62728\",\"#d62728\",\"#d62728\",\"#ff9896\",\"#ff9896\",\"#ff9896\",\"#ff9896\",\"#ff9896\",\"#ff9896\",\"#ff9896\",\"#ff9896\",\"#ff9896\",\"#ff9896\",\"#ff9896\",\"#ff9896\",\"#ff9896\",\"#9467bd\",\"#9467bd\",\"#9467bd\",\"#9467bd\",\"#9467bd\",\"#9467bd\",\"#9467bd\",\"#9467bd\",\"#9467bd\",\"#9467bd\",\"#9467bd\",\"#9467bd\",\"#c5b0d5\",\"#c5b0d5\",\"#c5b0d5\",\"#c5b0d5\",\"#c5b0d5\",\"#c5b0d5\",\"#c5b0d5\",\"#c5b0d5\",\"#c5b0d5\",\"#c5b0d5\",\"#c5b0d5\",\"#c5b0d5\",\"#c5b0d5\",\"#8c564b\",\"#8c564b\",\"#8c564b\",\"#8c564b\",\"#8c564b\",\"#8c564b\",\"#8c564b\",\"#8c564b\",\"#8c564b\",\"#8c564b\",\"#8c564b\",\"#8c564b\",\"#8c564b\",\"#c49c94\",\"#c49c94\",\"#c49c94\",\"#c49c94\",\"#c49c94\",\"#c49c94\",\"#c49c94\",\"#c49c94\",\"#c49c94\",\"#c49c94\",\"#c49c94\",\"#c49c94\",\"#c49c94\",\"#e377c2\",\"#e377c2\",\"#e377c2\",\"#e377c2\",\"#e377c2\",\"#e377c2\",\"#e377c2\",\"#e377c2\",\"#e377c2\",\"#e377c2\",\"#e377c2\",\"#e377c2\",\"#f7b6d2\",\"#f7b6d2\",\"#f7b6d2\",\"#f7b6d2\",\"#f7b6d2\",\"#f7b6d2\",\"#f7b6d2\",\"#f7b6d2\",\"#f7b6d2\",\"#f7b6d2\",\"#f7b6d2\",\"#f7b6d2\",\"#f7b6d2\",\"#7f7f7f\",\"#7f7f7f\",\"#7f7f7f\",\"#7f7f7f\",\"#7f7f7f\",\"#7f7f7f\",\"#7f7f7f\",\"#7f7f7f\",\"#7f7f7f\",\"#7f7f7f\",\"#7f7f7f\",\"#7f7f7f\",\"#7f7f7f\",\"#c7c7c7\",\"#c7c7c7\",\"#c7c7c7\",\"#c7c7c7\",\"#c7c7c7\",\"#c7c7c7\",\"#c7c7c7\",\"#c7c7c7\",\"#c7c7c7\",\"#c7c7c7\",\"#c7c7c7\",\"#c7c7c7\",\"#c7c7c7\",\"#bcbd22\",\"#bcbd22\",\"#bcbd22\",\"#bcbd22\",\"#bcbd22\",\"#bcbd22\",\"#bcbd22\",\"#bcbd22\",\"#bcbd22\",\"#bcbd22\",\"#bcbd22\",\"#bcbd22\",\"#dbdb8d\",\"#dbdb8d\",\"#dbdb8d\",\"#dbdb8d\",\"#dbdb8d\",\"#dbdb8d\",\"#dbdb8d\",\"#dbdb8d\",\"#dbdb8d\",\"#dbdb8d\",\"#dbdb8d\",\"#dbdb8d\",\"#dbdb8d\",\"#17becf\",\"#17becf\",\"#17becf\",\"#17becf\",\"#17becf\",\"#17becf\",\"#17becf\",\"#17becf\",\"#17becf\",\"#17becf\",\"#17becf\",\"#17becf\",\"#17becf\",\"#9edae5\",\"#9edae5\",\"#9edae5\",\"#9edae5\",\"#9edae5\",\"#9edae5\",\"#9edae5\",\"#9edae5\",\"#9edae5\",\"#9edae5\",\"#9edae5\",\"#9edae5\",\"#9edae5\"]},\"id\":\"2744\",\"type\":\"LinearColorMapper\"},{\"attributes\":{\"bottom_units\":\"screen\",\"coordinates\":null,\"fill_alpha\":0.5,\"fill_color\":\"lightgrey\",\"group\":null,\"left_units\":\"screen\",\"level\":\"overlay\",\"line_alpha\":1.0,\"line_color\":\"black\",\"line_dash\":[4,4],\"line_width\":2,\"right_units\":\"screen\",\"syncable\":false,\"top_units\":\"screen\"},\"id\":\"2736\",\"type\":\"BoxAnnotation\"},{\"attributes\":{\"fill_color\":{\"field\":\"color\",\"transform\":{\"id\":\"2744\"}},\"hatch_color\":{\"field\":\"color\",\"transform\":{\"id\":\"2744\"}},\"line_color\":{\"field\":\"color\",\"transform\":{\"id\":\"2744\"}},\"size\":{\"value\":5.477225575051661},\"tags\":[\"apply_ranges\"],\"x\":{\"field\":\"price_change_percentage_24h\"},\"y\":{\"field\":\"price_change_percentage_7d\"}},\"id\":\"2748\",\"type\":\"Scatter\"},{\"attributes\":{\"children\":[{\"id\":\"2714\"}],\"height\":600,\"margin\":[0,0,0,0],\"name\":\"Row02676\",\"sizing_mode\":\"fixed\",\"tags\":[\"embedded\"],\"width\":800},\"id\":\"2710\",\"type\":\"Row\"},{\"attributes\":{\"coordinates\":null,\"data_source\":{\"id\":\"2745\"},\"glyph\":{\"id\":\"2748\"},\"group\":null,\"hover_glyph\":{\"id\":\"2751\"},\"muted_glyph\":{\"id\":\"2752\"},\"nonselection_glyph\":{\"id\":\"2749\"},\"selection_glyph\":{\"id\":\"2750\"},\"view\":{\"id\":\"2754\"}},\"id\":\"2753\",\"type\":\"GlyphRenderer\"},{\"attributes\":{\"fill_color\":{\"field\":\"color\",\"transform\":{\"id\":\"2744\"}},\"hatch_color\":{\"field\":\"color\",\"transform\":{\"id\":\"2744\"}},\"line_color\":{\"field\":\"color\",\"transform\":{\"id\":\"2744\"}},\"size\":{\"value\":5.477225575051661},\"tags\":[\"apply_ranges\"],\"x\":{\"field\":\"price_change_percentage_24h\"},\"y\":{\"field\":\"price_change_percentage_7d\"}},\"id\":\"2750\",\"type\":\"Scatter\"},{\"attributes\":{\"source\":{\"id\":\"2745\"}},\"id\":\"2754\",\"type\":\"CDSView\"},{\"attributes\":{\"end\":2.997678656273595,\"reset_end\":2.997678656273595,\"reset_start\":-2.107454305728652,\"start\":-2.107454305728652,\"tags\":[[[\"price_change_percentage_7d\",\"price_change_percentage_7d\",null]]]},\"id\":\"2712\",\"type\":\"Range1d\"},{\"attributes\":{\"coordinates\":null,\"group\":null,\"text_color\":\"black\",\"text_font_size\":\"12pt\"},\"id\":\"2715\",\"type\":\"Title\"},{\"attributes\":{},\"id\":\"2758\",\"type\":\"BasicTickFormatter\"},{\"attributes\":{\"bar_line_color\":\"black\",\"color_mapper\":{\"id\":\"2744\"},\"coordinates\":null,\"group\":null,\"label_standoff\":8,\"location\":[0,0],\"major_label_policy\":{\"id\":\"2771\"},\"major_tick_line_color\":\"black\",\"ticker\":{\"id\":\"2755\"}},\"id\":\"2756\",\"type\":\"ColorBar\"},{\"attributes\":{\"callback\":null,\"renderers\":[{\"id\":\"2753\"}],\"tags\":[\"hv_created\"],\"tooltips\":[[\"price_change_percentage_24h\",\"@{price_change_percentage_24h}\"],[\"price_change_percentage_7d\",\"@{price_change_percentage_7d}\"],[\"Cluster\",\"@{Cluster}\"],[\"coin_id\",\"@{coin_id}\"]]},\"id\":\"2713\",\"type\":\"HoverTool\"},{\"attributes\":{\"end\":2.43737641031695,\"reset_end\":2.43737641031695,\"reset_start\":-5.498605953552356,\"start\":-5.498605953552356,\"tags\":[[[\"price_change_percentage_24h\",\"price_change_percentage_24h\",null]]]},\"id\":\"2711\",\"type\":\"Range1d\"},{\"attributes\":{},\"id\":\"2746\",\"type\":\"Selection\"},{\"attributes\":{},\"id\":\"2755\",\"type\":\"BasicTicker\"},{\"attributes\":{},\"id\":\"2762\",\"type\":\"AllLabels\"},{\"attributes\":{\"below\":[{\"id\":\"2723\"}],\"center\":[{\"id\":\"2726\"},{\"id\":\"2730\"}],\"left\":[{\"id\":\"2727\"}],\"margin\":[5,5,5,5],\"min_border_bottom\":10,\"min_border_left\":10,\"min_border_right\":10,\"min_border_top\":10,\"output_backend\":\"webgl\",\"renderers\":[{\"id\":\"2753\"}],\"right\":[{\"id\":\"2756\"}],\"sizing_mode\":\"fixed\",\"title\":{\"id\":\"2715\"},\"toolbar\":{\"id\":\"2737\"},\"width\":800,\"x_range\":{\"id\":\"2711\"},\"x_scale\":{\"id\":\"2719\"},\"y_range\":{\"id\":\"2712\"},\"y_scale\":{\"id\":\"2721\"}},\"id\":\"2714\",\"subtype\":\"Figure\",\"type\":\"Plot\"},{\"attributes\":{},\"id\":\"2771\",\"type\":\"NoOverlap\"},{\"attributes\":{\"data\":{\"Cluster\":{\"__ndarray__\":\"BQAAAAUAAAAIAAAACAAAAAMAAAAFAAAABQAAAAUAAAAFAAAAAQAAAAAAAAAIAAAACAAAAAMAAAABAAAAAQAAAAgAAAABAAAABQAAAAgAAAAAAAAABQAAAAgAAAAIAAAACAAAAAgAAAABAAAAAAAAAAUAAAAGAAAAAQAAAAEAAAACAAAAAQAAAAkAAAAHAAAABAAAAAAAAAABAAAACAAAAAAAAAA=\",\"dtype\":\"int32\",\"order\":\"little\",\"shape\":[41]},\"coin_id\":[\"bitcoin\",\"ethereum\",\"tether\",\"ripple\",\"bitcoin-cash\",\"binancecoin\",\"chainlink\",\"cardano\",\"litecoin\",\"bitcoin-cash-sv\",\"crypto-com-chain\",\"usd-coin\",\"eos\",\"monero\",\"tron\",\"tezos\",\"okb\",\"stellar\",\"cosmos\",\"cdai\",\"neo\",\"wrapped-bitcoin\",\"leo-token\",\"huobi-token\",\"nem\",\"binance-usd\",\"iota\",\"vechain\",\"zcash\",\"theta-token\",\"dash\",\"ethereum-classic\",\"ethlend\",\"maker\",\"havven\",\"omisego\",\"celsius-degree-token\",\"ontology\",\"ftx-token\",\"true-usd\",\"digibyte\"],\"color\":{\"__ndarray__\":\"BQAAAAUAAAAIAAAACAAAAAMAAAAFAAAABQAAAAUAAAAFAAAAAQAAAAAAAAAIAAAACAAAAAMAAAABAAAAAQAAAAgAAAABAAAABQAAAAgAAAAAAAAABQAAAAgAAAAIAAAACAAAAAgAAAABAAAAAAAAAAUAAAAGAAAAAQAAAAEAAAACAAAAAQAAAAkAAAAHAAAABAAAAAAAAAABAAAACAAAAAAAAAA=\",\"dtype\":\"int32\",\"order\":\"little\",\"shape\":[41]},\"price_change_percentage_24h\":{\"__ndarray__\":\"DdlqYN9F4D86azDosLzHP5giRdTpS5Y/5iURtxHfpL8wCyMArRbzP/cOjHA0iuw/1QxzqW9Xhz8zBL2hZD+6P0nbN/ba1rM/WpkZGJ+73D/+slcesDPVP/IxOp6elqE/H2STd0ruwz9Epj8/c9DQPxk0XoR2pcA/jEB40RVnw790fnl54Irtv9XPDahDw9G/qq8st/Fh0L/5U5ZBISbHP6Slu6TDVtI/BVlpN5h+4D+njODODoCqPwXDDo/fo6q/woaukuXmy79od0yHwmevP8HhEPEMldA/ypmU5gu54j+sKNPN2lDAv1YH9WGFy/m/N7JuVBEB07/EU4GAhEGyv91nhz6W7BPA/ACFOIMFwL/DnH9IcNv2v5azwSWNt/4/VLqXBn668D/IKcQzxy3av5WrmDyeito/Bf22eE/6sz9Y362Ir3rzPw==\",\"dtype\":\"float64\",\"order\":\"little\",\"shape\":[41]},\"price_change_percentage_7d\":{\"__ndarray__\":\"U1k8q3mQ3z9yoPpI+ebtP22UiL5Pmua/Ubo8ah/z6b8wAdnT9gEAQIJpDjGZPPU/BTbpSPiTBEAmUWkixiD4P/OMI2gdZdU/DZTtp1doyL936vtUZtb5v0QZLH/ydOe/it8GjguF7b8rMp3jf678PwRAcFxBAKW/ZWZRGoqp5j8Udj8VbP/2vySelkVDp9i/XK6ZksNx/T/tJm9WzI7mvy674lUf4tS/Q3zKstaO3T84jfoETLXtv6NqpXs9Q92/wrTyyiEu678mI2rMB53mv1Euo6Hk788/3UZrgr7Q778kzwwdV7vtP/9TV66U6fq/ZWX+mWVCuD8GJ0pHuV/Nv3SFotqbIae/srW7TleV4j/JyBNmVh+av008Y/5ntdc/Nv03JFjJ47+Htdvf1gXtv2Avihmzf9o/e31xtwIC5r/STlu6Y3Ljvw==\",\"dtype\":\"float64\",\"order\":\"little\",\"shape\":[41]}},\"selected\":{\"id\":\"2746\"},\"selection_policy\":{\"id\":\"2775\"}},\"id\":\"2745\",\"type\":\"ColumnDataSource\"},{\"attributes\":{\"axis_label\":\"price_change_percentage_24h\",\"coordinates\":null,\"formatter\":{\"id\":\"2758\"},\"group\":null,\"major_label_policy\":{\"id\":\"2759\"},\"ticker\":{\"id\":\"2724\"}},\"id\":\"2723\",\"type\":\"LinearAxis\"},{\"attributes\":{},\"id\":\"2719\",\"type\":\"LinearScale\"},{\"attributes\":{\"axis\":{\"id\":\"2723\"},\"coordinates\":null,\"grid_line_color\":null,\"group\":null,\"ticker\":null},\"id\":\"2726\",\"type\":\"Grid\"},{\"attributes\":{},\"id\":\"2721\",\"type\":\"LinearScale\"},{\"attributes\":{\"active_drag\":{\"id\":\"2732\"},\"active_scroll\":{\"id\":\"2733\"},\"tools\":[{\"id\":\"2713\"},{\"id\":\"2731\"},{\"id\":\"2732\"},{\"id\":\"2733\"},{\"id\":\"2734\"},{\"id\":\"2735\"}]},\"id\":\"2737\",\"type\":\"Toolbar\"},{\"attributes\":{},\"id\":\"2724\",\"type\":\"BasicTicker\"},{\"attributes\":{},\"id\":\"2732\",\"type\":\"PanTool\"},{\"attributes\":{},\"id\":\"2775\",\"type\":\"UnionRenderers\"},{\"attributes\":{\"axis_label\":\"price_change_percentage_7d\",\"coordinates\":null,\"formatter\":{\"id\":\"2761\"},\"group\":null,\"major_label_policy\":{\"id\":\"2762\"},\"ticker\":{\"id\":\"2728\"}},\"id\":\"2727\",\"type\":\"LinearAxis\"},{\"attributes\":{\"fill_alpha\":{\"value\":0.1},\"fill_color\":{\"field\":\"color\",\"transform\":{\"id\":\"2744\"}},\"hatch_alpha\":{\"value\":0.1},\"hatch_color\":{\"field\":\"color\",\"transform\":{\"id\":\"2744\"}},\"line_alpha\":{\"value\":0.1},\"line_color\":{\"field\":\"color\",\"transform\":{\"id\":\"2744\"}},\"size\":{\"value\":5.477225575051661},\"tags\":[\"apply_ranges\"],\"x\":{\"field\":\"price_change_percentage_24h\"},\"y\":{\"field\":\"price_change_percentage_7d\"}},\"id\":\"2749\",\"type\":\"Scatter\"},{\"attributes\":{\"axis\":{\"id\":\"2727\"},\"coordinates\":null,\"dimension\":1,\"grid_line_color\":null,\"group\":null,\"ticker\":null},\"id\":\"2730\",\"type\":\"Grid\"},{\"attributes\":{},\"id\":\"2728\",\"type\":\"BasicTicker\"}],\"root_ids\":[\"2710\"]},\"title\":\"Bokeh Application\",\"version\":\"2.4.3\"}};\n",
       "    var render_items = [{\"docid\":\"438dfa62-937e-4d65-838d-7c3d8649e694\",\"root_ids\":[\"2710\"],\"roots\":{\"2710\":\"e55a7660-a26d-42a5-b336-c7b2b374948a\"}}];\n",
       "    root.Bokeh.embed.embed_items_notebook(docs_json, render_items);\n",
       "    for (const render_item of render_items) {\n",
       "      for (const root_id of render_item.root_ids) {\n",
       "\tconst id_el = document.getElementById(root_id)\n",
       "\tif (id_el.children.length && (id_el.children[0].className === 'bk-root')) {\n",
       "\t  const root_el = id_el.children[0]\n",
       "\t  root_el.id = root_el.id + '-rendered'\n",
       "\t}\n",
       "      }\n",
       "    }\n",
       "  }\n",
       "  if (root.Bokeh !== undefined && root.Bokeh.Panel !== undefined) {\n",
       "    embed_document(root);\n",
       "  } else {\n",
       "    var attempts = 0;\n",
       "    var timer = setInterval(function(root) {\n",
       "      if (root.Bokeh !== undefined && root.Bokeh.Panel !== undefined) {\n",
       "        clearInterval(timer);\n",
       "        embed_document(root);\n",
       "      } else if (document.readyState == \"complete\") {\n",
       "        attempts++;\n",
       "        if (attempts > 200) {\n",
       "          clearInterval(timer);\n",
       "          console.log(\"Bokeh: ERROR: Unable to run BokehJS code because BokehJS library is missing\");\n",
       "        }\n",
       "      }\n",
       "    }, 25, root)\n",
       "  }\n",
       "})(window);</script>"
      ],
      "text/plain": [
       ":Scatter   [price_change_percentage_24h]   (price_change_percentage_7d,Cluster,coin_id)"
      ]
     },
     "execution_count": 64,
     "metadata": {
      "application/vnd.holoviews_exec.v0+json": {
       "id": "2710"
      }
     },
     "output_type": "execute_result"
    }
   ],
   "source": [
    "# Create a scatter plot using hvPlot by setting \n",
    "# `x=\"price_change_percentage_24h\"` and `y=\"price_change_percentage_7d\"`. \n",
    "# Color the graph points with the labels found using K-Means and \n",
    "# add the crypto name in the `hover_cols` parameter to identify \n",
    "# the cryptocurrency represented by each data point.\n",
    "scatter_plot = df_scaled_copy.hvplot.scatter(\n",
    "    x=\"price_change_percentage_24h\",\n",
    "    y=\"price_change_percentage_7d\",\n",
    "    c=\"Cluster\",\n",
    "    cmap=\"Category20\",\n",
    "    hover_cols=[\"coin_id\"],\n",
    "    width=800,\n",
    "    height=600\n",
    ")\n",
    "\n",
    "scatter_plot"
   ]
  },
  {
   "cell_type": "markdown",
   "metadata": {},
   "source": [
    "---"
   ]
  },
  {
   "cell_type": "markdown",
   "metadata": {},
   "source": [
    "### Optimize Clusters with Principal Component Analysis."
   ]
  },
  {
   "cell_type": "code",
   "execution_count": 53,
   "metadata": {},
   "outputs": [],
   "source": [
    "# Create a PCA model instance and set `n_components=3`.\n",
    "pca = PCA(n_components=3)"
   ]
  },
  {
   "cell_type": "code",
   "execution_count": 55,
   "metadata": {},
   "outputs": [
    {
     "name": "stdout",
     "output_type": "stream",
     "text": [
      "        PC1       PC2       PC3\n",
      "0  0.736487 -0.606434  0.800753\n",
      "1  0.673184 -0.461473  0.435506\n",
      "2  3.735793 -0.439770 -0.457794\n",
      "3  3.724556 -0.478141 -0.508542\n",
      "4 -1.276431 -1.165349  2.183712\n"
     ]
    }
   ],
   "source": [
    "# Use the PCA model with `fit_transform` to reduce to \n",
    "# three principal components.\n",
    "principal_components = pca.fit_transform(df_scaled_copy)\n",
    "principal_df = pd.DataFrame(data=principal_components, columns=['PC1', 'PC2', 'PC3'])\n",
    "# View the first five rows of the DataFrame. \n",
    "print(principal_df.head())"
   ]
  },
  {
   "cell_type": "code",
   "execution_count": 56,
   "metadata": {},
   "outputs": [
    {
     "name": "stdout",
     "output_type": "stream",
     "text": [
      "Principal Component 1: Explained Variance = 0.5810\n",
      "Principal Component 2: Explained Variance = 0.1585\n",
      "Principal Component 3: Explained Variance = 0.1456\n"
     ]
    }
   ],
   "source": [
    "# Retrieve the explained variance to determine how much information \n",
    "# can be attributed to each principal component.\n",
    "explained_variance = pca.explained_variance_ratio_\n",
    "for i, variance in enumerate(explained_variance):\n",
    "    print(f\"Principal Component {i + 1}: Explained Variance = {variance:.4f}\")"
   ]
  },
  {
   "cell_type": "markdown",
   "metadata": {},
   "source": [
    "#### Answer the following question: \n",
    "\n",
    "**Question:** What is the total explained variance of the three principal components?\n",
    "\n",
    "**Answer:** The plot representing the variance explained by the components is called Scree Plot. The first 2 components explain approximately 80% of the total variation and 3 components, almost 90%"
   ]
  },
  {
   "cell_type": "code",
   "execution_count": 57,
   "metadata": {},
   "outputs": [
    {
     "name": "stdout",
     "output_type": "stream",
     "text": [
      "                   PC1       PC2       PC3\n",
      "coin_id                                   \n",
      "bitcoin       0.736487 -0.606434  0.800753\n",
      "ethereum      0.673184 -0.461473  0.435506\n",
      "tether        3.735793 -0.439770 -0.457794\n",
      "ripple        3.724556 -0.478141 -0.508542\n",
      "bitcoin-cash -1.276431 -1.165349  2.183712\n"
     ]
    }
   ],
   "source": [
    "# Create a new DataFrame with the PCA data.\n",
    "pca_df = pd.DataFrame(data=principal_components, columns=['PC1', 'PC2', 'PC3'])\n",
    "\n",
    "# Creating a DataFrame with the PCA data\n",
    "pca_data_df = principal_df.copy()\n",
    "\n",
    "# Copy the crypto names from the original data\n",
    "crypto_names = df_market_data.index.to_frame()\n",
    "\n",
    "# Set the coinid column as index\n",
    "pca_df.index = crypto_names['coin_id']\n",
    "\n",
    "# Display sample data\n",
    "print(pca_df.head())\n"
   ]
  },
  {
   "cell_type": "markdown",
   "metadata": {},
   "source": [
    "---"
   ]
  },
  {
   "cell_type": "markdown",
   "metadata": {},
   "source": [
    "### Find the Best Value for k Using the PCA Data"
   ]
  },
  {
   "cell_type": "code",
   "execution_count": 61,
   "metadata": {},
   "outputs": [],
   "source": [
    "# Create a list with the number of k-values from 1 to 11\n",
    "k = list(range(1, 12))"
   ]
  },
  {
   "cell_type": "code",
   "execution_count": 77,
   "metadata": {},
   "outputs": [
    {
     "name": "stderr",
     "output_type": "stream",
     "text": [
      "C:\\Users\\adria\\anaconda3\\envs\\dev2\\lib\\site-packages\\sklearn\\cluster\\_kmeans.py:870: FutureWarning: The default value of `n_init` will change from 10 to 'auto' in 1.4. Set the value of `n_init` explicitly to suppress the warning\n",
      "  warnings.warn(\n",
      "C:\\Users\\adria\\anaconda3\\envs\\dev2\\lib\\site-packages\\sklearn\\cluster\\_kmeans.py:1382: UserWarning: KMeans is known to have a memory leak on Windows with MKL, when there are less chunks than available threads. You can avoid it by setting the environment variable OMP_NUM_THREADS=1.\n",
      "  warnings.warn(\n",
      "C:\\Users\\adria\\anaconda3\\envs\\dev2\\lib\\site-packages\\sklearn\\cluster\\_kmeans.py:870: FutureWarning: The default value of `n_init` will change from 10 to 'auto' in 1.4. Set the value of `n_init` explicitly to suppress the warning\n",
      "  warnings.warn(\n",
      "C:\\Users\\adria\\anaconda3\\envs\\dev2\\lib\\site-packages\\sklearn\\cluster\\_kmeans.py:1382: UserWarning: KMeans is known to have a memory leak on Windows with MKL, when there are less chunks than available threads. You can avoid it by setting the environment variable OMP_NUM_THREADS=1.\n",
      "  warnings.warn(\n",
      "C:\\Users\\adria\\anaconda3\\envs\\dev2\\lib\\site-packages\\sklearn\\cluster\\_kmeans.py:870: FutureWarning: The default value of `n_init` will change from 10 to 'auto' in 1.4. Set the value of `n_init` explicitly to suppress the warning\n",
      "  warnings.warn(\n",
      "C:\\Users\\adria\\anaconda3\\envs\\dev2\\lib\\site-packages\\sklearn\\cluster\\_kmeans.py:1382: UserWarning: KMeans is known to have a memory leak on Windows with MKL, when there are less chunks than available threads. You can avoid it by setting the environment variable OMP_NUM_THREADS=1.\n",
      "  warnings.warn(\n",
      "C:\\Users\\adria\\anaconda3\\envs\\dev2\\lib\\site-packages\\sklearn\\cluster\\_kmeans.py:870: FutureWarning: The default value of `n_init` will change from 10 to 'auto' in 1.4. Set the value of `n_init` explicitly to suppress the warning\n",
      "  warnings.warn(\n",
      "C:\\Users\\adria\\anaconda3\\envs\\dev2\\lib\\site-packages\\sklearn\\cluster\\_kmeans.py:1382: UserWarning: KMeans is known to have a memory leak on Windows with MKL, when there are less chunks than available threads. You can avoid it by setting the environment variable OMP_NUM_THREADS=1.\n",
      "  warnings.warn(\n",
      "C:\\Users\\adria\\anaconda3\\envs\\dev2\\lib\\site-packages\\sklearn\\cluster\\_kmeans.py:870: FutureWarning: The default value of `n_init` will change from 10 to 'auto' in 1.4. Set the value of `n_init` explicitly to suppress the warning\n",
      "  warnings.warn(\n",
      "C:\\Users\\adria\\anaconda3\\envs\\dev2\\lib\\site-packages\\sklearn\\cluster\\_kmeans.py:1382: UserWarning: KMeans is known to have a memory leak on Windows with MKL, when there are less chunks than available threads. You can avoid it by setting the environment variable OMP_NUM_THREADS=1.\n",
      "  warnings.warn(\n",
      "C:\\Users\\adria\\anaconda3\\envs\\dev2\\lib\\site-packages\\sklearn\\cluster\\_kmeans.py:870: FutureWarning: The default value of `n_init` will change from 10 to 'auto' in 1.4. Set the value of `n_init` explicitly to suppress the warning\n",
      "  warnings.warn(\n",
      "C:\\Users\\adria\\anaconda3\\envs\\dev2\\lib\\site-packages\\sklearn\\cluster\\_kmeans.py:1382: UserWarning: KMeans is known to have a memory leak on Windows with MKL, when there are less chunks than available threads. You can avoid it by setting the environment variable OMP_NUM_THREADS=1.\n",
      "  warnings.warn(\n",
      "C:\\Users\\adria\\anaconda3\\envs\\dev2\\lib\\site-packages\\sklearn\\cluster\\_kmeans.py:870: FutureWarning: The default value of `n_init` will change from 10 to 'auto' in 1.4. Set the value of `n_init` explicitly to suppress the warning\n",
      "  warnings.warn(\n",
      "C:\\Users\\adria\\anaconda3\\envs\\dev2\\lib\\site-packages\\sklearn\\cluster\\_kmeans.py:1382: UserWarning: KMeans is known to have a memory leak on Windows with MKL, when there are less chunks than available threads. You can avoid it by setting the environment variable OMP_NUM_THREADS=1.\n",
      "  warnings.warn(\n",
      "C:\\Users\\adria\\anaconda3\\envs\\dev2\\lib\\site-packages\\sklearn\\cluster\\_kmeans.py:870: FutureWarning: The default value of `n_init` will change from 10 to 'auto' in 1.4. Set the value of `n_init` explicitly to suppress the warning\n",
      "  warnings.warn(\n",
      "C:\\Users\\adria\\anaconda3\\envs\\dev2\\lib\\site-packages\\sklearn\\cluster\\_kmeans.py:1382: UserWarning: KMeans is known to have a memory leak on Windows with MKL, when there are less chunks than available threads. You can avoid it by setting the environment variable OMP_NUM_THREADS=1.\n",
      "  warnings.warn(\n",
      "C:\\Users\\adria\\anaconda3\\envs\\dev2\\lib\\site-packages\\sklearn\\cluster\\_kmeans.py:870: FutureWarning: The default value of `n_init` will change from 10 to 'auto' in 1.4. Set the value of `n_init` explicitly to suppress the warning\n",
      "  warnings.warn(\n",
      "C:\\Users\\adria\\anaconda3\\envs\\dev2\\lib\\site-packages\\sklearn\\cluster\\_kmeans.py:1382: UserWarning: KMeans is known to have a memory leak on Windows with MKL, when there are less chunks than available threads. You can avoid it by setting the environment variable OMP_NUM_THREADS=1.\n",
      "  warnings.warn(\n",
      "C:\\Users\\adria\\anaconda3\\envs\\dev2\\lib\\site-packages\\sklearn\\cluster\\_kmeans.py:870: FutureWarning: The default value of `n_init` will change from 10 to 'auto' in 1.4. Set the value of `n_init` explicitly to suppress the warning\n",
      "  warnings.warn(\n",
      "C:\\Users\\adria\\anaconda3\\envs\\dev2\\lib\\site-packages\\sklearn\\cluster\\_kmeans.py:1382: UserWarning: KMeans is known to have a memory leak on Windows with MKL, when there are less chunks than available threads. You can avoid it by setting the environment variable OMP_NUM_THREADS=1.\n",
      "  warnings.warn(\n",
      "C:\\Users\\adria\\anaconda3\\envs\\dev2\\lib\\site-packages\\sklearn\\cluster\\_kmeans.py:870: FutureWarning: The default value of `n_init` will change from 10 to 'auto' in 1.4. Set the value of `n_init` explicitly to suppress the warning\n",
      "  warnings.warn(\n",
      "C:\\Users\\adria\\anaconda3\\envs\\dev2\\lib\\site-packages\\sklearn\\cluster\\_kmeans.py:1382: UserWarning: KMeans is known to have a memory leak on Windows with MKL, when there are less chunks than available threads. You can avoid it by setting the environment variable OMP_NUM_THREADS=1.\n",
      "  warnings.warn(\n"
     ]
    }
   ],
   "source": [
    "# Create inertia_values = []an empty list to store the inertia values\n",
    "inertia = []\n",
    "\n",
    "# Create a for loop to compute the inertia with each possible value of k\n",
    "# Inside the loop:\n",
    "# 1. Create a KMeans model using the loop counter for the n_clusters\n",
    "# 2. Fit the model to the data using `df_market_data_pca`\n",
    "# 3. Append the model.inertia_ to the inertia list\n",
    "for i in k:\n",
    "    k_model = KMeans(n_clusters=i, random_state=0)\n",
    "    k_model.fit(pca_df)\n",
    "    inertia.append(model.inertia_)\n",
    "\n"
   ]
  },
  {
   "cell_type": "code",
   "execution_count": 78,
   "metadata": {},
   "outputs": [
    {
     "name": "stdout",
     "output_type": "stream",
     "text": [
      "     K    Inertia\n",
      "0    1  28.222899\n",
      "1    2  28.222899\n",
      "2    3  28.222899\n",
      "3    4  28.222899\n",
      "4    5  28.222899\n",
      "5    6  28.222899\n",
      "6    7  28.222899\n",
      "7    8  28.222899\n",
      "8    9  28.222899\n",
      "9   10  28.222899\n",
      "10  11  28.222899\n"
     ]
    }
   ],
   "source": [
    "# Create a dictionary with the data to plot the Elbow curve\n",
    "elbow_data = {'K': k, 'Inertia': inertia}\n",
    "# Create a DataFrame with the data to plot the Elbow curve\n",
    "elbow_df = pd.DataFrame(elbow_data)\n",
    "print(elbow_df)"
   ]
  },
  {
   "cell_type": "code",
   "execution_count": 79,
   "metadata": {},
   "outputs": [
    {
     "data": {
      "image/png": "[encoded data removed]",
      "text/plain": [
       "<Figure size 1000x600 with 1 Axes>"
      ]
     },
     "metadata": {},
     "output_type": "display_data"
    }
   ],
   "source": [
    "# Plot a line chart with all the inertia values computed with \n",
    "# the different values of k to visually identify the optimal value for k.\n",
    "plt.figure(figsize=(10, 6))\n",
    "plt.plot(elbow_df['K'], elbow_df['Inertia'], marker='o', linestyle='-')\n",
    "plt.title('Elbow Curve for K-Means Clustering')\n",
    "plt.xlabel('Number of Clusters (K)')\n",
    "plt.ylabel('Inertia')\n",
    "plt.grid(True)\n",
    "plt.show()"
   ]
  },
  {
   "cell_type": "markdown",
   "metadata": {},
   "source": [
    "#### Answer the following questions: \n",
    "\n",
    "* **Question:** What is the best value for `k` when using the PCA data?\n",
    "\n",
    "  * **Answer:** 10\n",
    "\n",
    "\n",
    "* **Question:** Does it differ from the best k value found using the original data?\n",
    "\n",
    "  * **Answer:** no"
   ]
  },
  {
   "cell_type": "markdown",
   "metadata": {},
   "source": [
    "### Cluster Cryptocurrencies with K-means Using the PCA Data"
   ]
  },
  {
   "cell_type": "code",
   "execution_count": 81,
   "metadata": {},
   "outputs": [],
   "source": [
    "# Initialize the K-Means model using the best value for k\n",
    "model = KMeans(n_clusters=6, random_state=0)"
   ]
  },
  {
   "cell_type": "code",
   "execution_count": 83,
   "metadata": {},
   "outputs": [
    {
     "name": "stderr",
     "output_type": "stream",
     "text": [
      "C:\\Users\\adria\\anaconda3\\envs\\dev2\\lib\\site-packages\\sklearn\\cluster\\_kmeans.py:870: FutureWarning: The default value of `n_init` will change from 10 to 'auto' in 1.4. Set the value of `n_init` explicitly to suppress the warning\n",
      "  warnings.warn(\n",
      "C:\\Users\\adria\\anaconda3\\envs\\dev2\\lib\\site-packages\\sklearn\\cluster\\_kmeans.py:1382: UserWarning: KMeans is known to have a memory leak on Windows with MKL, when there are less chunks than available threads. You can avoid it by setting the environment variable OMP_NUM_THREADS=1.\n",
      "  warnings.warn(\n"
     ]
    },
    {
     "data": {
      "text/html": [
       "<style>#sk-container-id-2 {color: black;background-color: white;}#sk-container-id-2 pre{padding: 0;}#sk-container-id-2 div.sk-toggleable {background-color: white;}#sk-container-id-2 label.sk-toggleable__label {cursor: pointer;display: block;width: 100%;margin-bottom: 0;padding: 0.3em;box-sizing: border-box;text-align: center;}#sk-container-id-2 label.sk-toggleable__label-arrow:before {content: \"▸\";float: left;margin-right: 0.25em;color: #696969;}#sk-container-id-2 label.sk-toggleable__label-arrow:hover:before {color: black;}#sk-container-id-2 div.sk-estimator:hover label.sk-toggleable__label-arrow:before {color: black;}#sk-container-id-2 div.sk-toggleable__content {max-height: 0;max-width: 0;overflow: hidden;text-align: left;background-color: #f0f8ff;}#sk-container-id-2 div.sk-toggleable__content pre {margin: 0.2em;color: black;border-radius: 0.25em;background-color: #f0f8ff;}#sk-container-id-2 input.sk-toggleable__control:checked~div.sk-toggleable__content {max-height: 200px;max-width: 100%;overflow: auto;}#sk-container-id-2 input.sk-toggleable__control:checked~label.sk-toggleable__label-arrow:before {content: \"▾\";}#sk-container-id-2 div.sk-estimator input.sk-toggleable__control:checked~label.sk-toggleable__label {background-color: #d4ebff;}#sk-container-id-2 div.sk-label input.sk-toggleable__control:checked~label.sk-toggleable__label {background-color: #d4ebff;}#sk-container-id-2 input.sk-hidden--visually {border: 0;clip: rect(1px 1px 1px 1px);clip: rect(1px, 1px, 1px, 1px);height: 1px;margin: -1px;overflow: hidden;padding: 0;position: absolute;width: 1px;}#sk-container-id-2 div.sk-estimator {font-family: monospace;background-color: #f0f8ff;border: 1px dotted black;border-radius: 0.25em;box-sizing: border-box;margin-bottom: 0.5em;}#sk-container-id-2 div.sk-estimator:hover {background-color: #d4ebff;}#sk-container-id-2 div.sk-parallel-item::after {content: \"\";width: 100%;border-bottom: 1px solid gray;flex-grow: 1;}#sk-container-id-2 div.sk-label:hover label.sk-toggleable__label {background-color: #d4ebff;}#sk-container-id-2 div.sk-serial::before {content: \"\";position: absolute;border-left: 1px solid gray;box-sizing: border-box;top: 0;bottom: 0;left: 50%;z-index: 0;}#sk-container-id-2 div.sk-serial {display: flex;flex-direction: column;align-items: center;background-color: white;padding-right: 0.2em;padding-left: 0.2em;position: relative;}#sk-container-id-2 div.sk-item {position: relative;z-index: 1;}#sk-container-id-2 div.sk-parallel {display: flex;align-items: stretch;justify-content: center;background-color: white;position: relative;}#sk-container-id-2 div.sk-item::before, #sk-container-id-2 div.sk-parallel-item::before {content: \"\";position: absolute;border-left: 1px solid gray;box-sizing: border-box;top: 0;bottom: 0;left: 50%;z-index: -1;}#sk-container-id-2 div.sk-parallel-item {display: flex;flex-direction: column;z-index: 1;position: relative;background-color: white;}#sk-container-id-2 div.sk-parallel-item:first-child::after {align-self: flex-end;width: 50%;}#sk-container-id-2 div.sk-parallel-item:last-child::after {align-self: flex-start;width: 50%;}#sk-container-id-2 div.sk-parallel-item:only-child::after {width: 0;}#sk-container-id-2 div.sk-dashed-wrapped {border: 1px dashed gray;margin: 0 0.4em 0.5em 0.4em;box-sizing: border-box;padding-bottom: 0.4em;background-color: white;}#sk-container-id-2 div.sk-label label {font-family: monospace;font-weight: bold;display: inline-block;line-height: 1.2em;}#sk-container-id-2 div.sk-label-container {text-align: center;}#sk-container-id-2 div.sk-container {/* jupyter's `normalize.less` sets `[hidden] { display: none; }` but bootstrap.min.css set `[hidden] { display: none !important; }` so we also need the `!important` here to be able to override the default hidden behavior on the sphinx rendered scikit-learn.org. See: https://github.com/scikit-learn/scikit-learn/issues/21755 */display: inline-block !important;position: relative;}#sk-container-id-2 div.sk-text-repr-fallback {display: none;}</style><div id=\"sk-container-id-2\" class=\"sk-top-container\"><div class=\"sk-text-repr-fallback\"><pre>KMeans(n_clusters=6, random_state=0)</pre><b>In a Jupyter environment, please rerun this cell to show the HTML representation or trust the notebook. <br />On GitHub, the HTML representation is unable to render, please try loading this page with nbviewer.org.</b></div><div class=\"sk-container\" hidden><div class=\"sk-item\"><div class=\"sk-estimator sk-toggleable\"><input class=\"sk-toggleable__control sk-hidden--visually\" id=\"sk-estimator-id-2\" type=\"checkbox\" checked><label for=\"sk-estimator-id-2\" class=\"sk-toggleable__label sk-toggleable__label-arrow\">KMeans</label><div class=\"sk-toggleable__content\"><pre>KMeans(n_clusters=6, random_state=0)</pre></div></div></div></div></div>"
      ],
      "text/plain": [
       "KMeans(n_clusters=6, random_state=0)"
      ]
     },
     "execution_count": 83,
     "metadata": {},
     "output_type": "execute_result"
    }
   ],
   "source": [
    "# Fit the K-Means model using the PCA data\n",
    "model.fit(pca_df)"
   ]
  },
  {
   "cell_type": "code",
   "execution_count": 84,
   "metadata": {},
   "outputs": [
    {
     "name": "stdout",
     "output_type": "stream",
     "text": [
      "[0 0 3 3 5 0 0 0 0 1 1 3 3 5 1 1 3 1 0 3 1 0 3 3 3 3 1 1 0 0 1 1 2 1 3 3 4\n",
      " 1 1 3 1]\n"
     ]
    }
   ],
   "source": [
    "# Predict the clusters to group the cryptocurrencies using the PCA data\n",
    "cluster_labels = model.predict(pca_df)\n",
    "# Print the resulting array of cluster values.\n",
    "print(cluster_labels)"
   ]
  },
  {
   "cell_type": "code",
   "execution_count": 85,
   "metadata": {},
   "outputs": [
    {
     "name": "stdout",
     "output_type": "stream",
     "text": [
      "                   PC1       PC2       PC3  Cluster\n",
      "coin_id                                            \n",
      "bitcoin       0.736487 -0.606434  0.800753        0\n",
      "ethereum      0.673184 -0.461473  0.435506        0\n",
      "tether        3.735793 -0.439770 -0.457794        3\n",
      "ripple        3.724556 -0.478141 -0.508542        3\n",
      "bitcoin-cash -1.276431 -1.165349  2.183712        5\n"
     ]
    }
   ],
   "source": [
    "# Create a copy of the DataFrame with the PCA data\n",
    "pca_df_copy = pca_df.copy()\n",
    "\n",
    "# Add a new column to the DataFrame with the predicted clusters\n",
    "pca_df_copy['Cluster'] = cluster_labels\n",
    "\n",
    "# Display sample data\n",
    "print(pca_df_copy.head())"
   ]
  },
  {
   "cell_type": "code",
   "execution_count": 86,
   "metadata": {},
   "outputs": [
    {
     "data": {},
     "metadata": {},
     "output_type": "display_data"
    },
    {
     "data": {
      "application/vnd.holoviews_exec.v0+json": "",
      "text/html": [
       "<div id='2834'>\n",
       "  <div class=\"bk-root\" id=\"1e7d4637-e94e-4f01-b0d4-d1d7c4702c4c\" data-root-id=\"2834\"></div>\n",
       "</div>\n",
       "<script type=\"application/javascript\">(function(root) {\n",
       "  function embed_document(root) {\n",
       "    var docs_json = {\"4bce4916-3f39-4f60-a0f7-4501503c1664\":{\"defs\":[{\"extends\":null,\"module\":null,\"name\":\"ReactiveHTML1\",\"overrides\":[],\"properties\":[]},{\"extends\":null,\"module\":null,\"name\":\"FlexBox1\",\"overrides\":[],\"properties\":[{\"default\":\"flex-start\",\"kind\":null,\"name\":\"align_content\"},{\"default\":\"flex-start\",\"kind\":null,\"name\":\"align_items\"},{\"default\":\"row\",\"kind\":null,\"name\":\"flex_direction\"},{\"default\":\"wrap\",\"kind\":null,\"name\":\"flex_wrap\"},{\"default\":\"flex-start\",\"kind\":null,\"name\":\"justify_content\"}]},{\"extends\":null,\"module\":null,\"name\":\"GridStack1\",\"overrides\":[],\"properties\":[{\"default\":\"warn\",\"kind\":null,\"name\":\"mode\"},{\"default\":null,\"kind\":null,\"name\":\"ncols\"},{\"default\":null,\"kind\":null,\"name\":\"nrows\"},{\"default\":true,\"kind\":null,\"name\":\"allow_resize\"},{\"default\":true,\"kind\":null,\"name\":\"allow_drag\"},{\"default\":[],\"kind\":null,\"name\":\"state\"}]},{\"extends\":null,\"module\":null,\"name\":\"click1\",\"overrides\":[],\"properties\":[{\"default\":\"\",\"kind\":null,\"name\":\"terminal_output\"},{\"default\":\"\",\"kind\":null,\"name\":\"debug_name\"},{\"default\":0,\"kind\":null,\"name\":\"clears\"}]},{\"extends\":null,\"module\":null,\"name\":\"NotificationAreaBase1\",\"overrides\":[],\"properties\":[{\"default\":\"bottom-right\",\"kind\":null,\"name\":\"position\"},{\"default\":0,\"kind\":null,\"name\":\"_clear\"}]},{\"extends\":null,\"module\":null,\"name\":\"NotificationArea1\",\"overrides\":[],\"properties\":[{\"default\":[],\"kind\":null,\"name\":\"notifications\"},{\"default\":\"bottom-right\",\"kind\":null,\"name\":\"position\"},{\"default\":0,\"kind\":null,\"name\":\"_clear\"},{\"default\":[{\"background\":\"#ffc107\",\"icon\":{\"className\":\"fas fa-exclamation-triangle\",\"color\":\"white\",\"tagName\":\"i\"},\"type\":\"warning\"},{\"background\":\"#007bff\",\"icon\":{\"className\":\"fas fa-info-circle\",\"color\":\"white\",\"tagName\":\"i\"},\"type\":\"info\"}],\"kind\":null,\"name\":\"types\"}]},{\"extends\":null,\"module\":null,\"name\":\"Notification\",\"overrides\":[],\"properties\":[{\"default\":null,\"kind\":null,\"name\":\"background\"},{\"default\":3000,\"kind\":null,\"name\":\"duration\"},{\"default\":null,\"kind\":null,\"name\":\"icon\"},{\"default\":\"\",\"kind\":null,\"name\":\"message\"},{\"default\":null,\"kind\":null,\"name\":\"notification_type\"},{\"default\":false,\"kind\":null,\"name\":\"_destroyed\"}]},{\"extends\":null,\"module\":null,\"name\":\"TemplateActions1\",\"overrides\":[],\"properties\":[{\"default\":0,\"kind\":null,\"name\":\"open_modal\"},{\"default\":0,\"kind\":null,\"name\":\"close_modal\"}]},{\"extends\":null,\"module\":null,\"name\":\"MaterialTemplateActions1\",\"overrides\":[],\"properties\":[{\"default\":0,\"kind\":null,\"name\":\"open_modal\"},{\"default\":0,\"kind\":null,\"name\":\"close_modal\"}]}],\"roots\":{\"references\":[{\"attributes\":{},\"id\":\"2883\",\"type\":\"AllLabels\"},{\"attributes\":{\"data\":{\"Cluster\":{\"__ndarray__\":\"AAAAAAAAAAADAAAAAwAAAAUAAAAAAAAAAAAAAAAAAAAAAAAAAQAAAAEAAAADAAAAAwAAAAUAAAABAAAAAQAAAAMAAAABAAAAAAAAAAMAAAABAAAAAAAAAAMAAAADAAAAAwAAAAMAAAABAAAAAQAAAAAAAAAAAAAAAQAAAAEAAAACAAAAAQAAAAMAAAADAAAABAAAAAEAAAABAAAAAwAAAAEAAAA=\",\"dtype\":\"int32\",\"order\":\"little\",\"shape\":[41]},\"PC1\":{\"__ndarray__\":\"scJxVk2R5z9M6KczuorlP0Lufmjn4g1AGBJW6OPLDUB7/7qTQmz0v8rz3IB0zOc/eGFVz5lD4T/MWFwK8pnkPyfgp9HrL+c/n3MQwDtZCsB4/gxUPi4RwMiu25z24w1AzeGvmZKPDUB+pVcG1wLyvyCdiU1UDwrAvrXTb9/sCsBx7sx+xcINQCrktnQhaQrAqaqz+6L35D97sy0vEN0NQCOGB4nNPhHAKOXGLLOT5z8bWaBK3IsNQPCzJOODtQ1AZalhXT32DkBe3FooduINQN3gJtEN0QrAwkTDxnmxEcA1t31UTuflP+W/Vzc07f0/QC+fjxBoCsBjfS5fqEMKwGnbLuXzgQXA94Y16htaCsCf6kfqFucRQGYvnbUOVgVAUP3OL6zH0z/VSQTlf3YRwIzlLsZhSgrArk6Ix5HhDUDj/01hMFQRwA==\",\"dtype\":\"float64\",\"order\":\"little\",\"shape\":[41]},\"PC2\":{\"__ndarray__\":\"GbUOdudn479S4ZuxxIjdvw8vk+UyJdy/TMq0gd6Z3r861ZCBRaXyv/UNNlsBzeC/sBvq/On53L/crxg2z2PWv2IJK4ug5eS/Z85Cb6QN6L8WSnr2ONrNv/JUr1k0fNy/ofxXagRY5r+UOWksfTioP+CouG6Nv9i/eXj2ztcq6b/KWYgYXB+wP9EzHOXZpd6/VN8/ubbd079HXlPcmqbgvy2ylobWUta/H01q/8uE479lLTeXeLPav21qOjJgetq/C76FmSoe4z88QxjSdT/dv6+OtyJAKui/dJ4bvtMy4b9KWSl+N27bv1vd0q4bYAVAt4B8P/Jb47954QQukEziv3jRS3/NOyBAffsQ+c6J2L+ElnLsxdbrP95iJj4Ytbo/1rSuvJ4DE0CzjSPFGp3jvxr+XjGWx+K/LCBG62DC3b+bBi7udXfSvw==\",\"dtype\":\"float64\",\"order\":\"little\",\"shape\":[41]},\"coin_id\":[\"bitcoin\",\"ethereum\",\"tether\",\"ripple\",\"bitcoin-cash\",\"binancecoin\",\"chainlink\",\"cardano\",\"litecoin\",\"bitcoin-cash-sv\",\"crypto-com-chain\",\"usd-coin\",\"eos\",\"monero\",\"tron\",\"tezos\",\"okb\",\"stellar\",\"cosmos\",\"cdai\",\"neo\",\"wrapped-bitcoin\",\"leo-token\",\"huobi-token\",\"nem\",\"binance-usd\",\"iota\",\"vechain\",\"zcash\",\"theta-token\",\"dash\",\"ethereum-classic\",\"ethlend\",\"maker\",\"havven\",\"omisego\",\"celsius-degree-token\",\"ontology\",\"ftx-token\",\"true-usd\",\"digibyte\"],\"color\":{\"__ndarray__\":\"AAAAAAAAAAADAAAAAwAAAAUAAAAAAAAAAAAAAAAAAAAAAAAAAQAAAAEAAAADAAAAAwAAAAUAAAABAAAAAQAAAAMAAAABAAAAAAAAAAMAAAABAAAAAAAAAAMAAAADAAAAAwAAAAMAAAABAAAAAQAAAAAAAAAAAAAAAQAAAAEAAAACAAAAAQAAAAMAAAADAAAABAAAAAEAAAABAAAAAwAAAAEAAAA=\",\"dtype\":\"int32\",\"order\":\"little\",\"shape\":[41]}},\"selected\":{\"id\":\"2870\"},\"selection_policy\":{\"id\":\"2899\"}},\"id\":\"2869\",\"type\":\"ColumnDataSource\"},{\"attributes\":{\"fill_alpha\":{\"value\":0.2},\"fill_color\":{\"field\":\"color\",\"transform\":{\"id\":\"2868\"}},\"hatch_alpha\":{\"value\":0.2},\"hatch_color\":{\"field\":\"color\",\"transform\":{\"id\":\"2868\"}},\"line_alpha\":{\"value\":0.2},\"line_color\":{\"field\":\"color\",\"transform\":{\"id\":\"2868\"}},\"size\":{\"value\":5.477225575051661},\"tags\":[\"apply_ranges\"],\"x\":{\"field\":\"PC1\"},\"y\":{\"field\":\"PC2\"}},\"id\":\"2876\",\"type\":\"Scatter\"},{\"attributes\":{},\"id\":\"2845\",\"type\":\"LinearScale\"},{\"attributes\":{\"high\":5,\"low\":0,\"palette\":[\"#e41a1c\",\"#e41a1c\",\"#e41a1c\",\"#e41a1c\",\"#e41a1c\",\"#e41a1c\",\"#e41a1c\",\"#e41a1c\",\"#e41a1c\",\"#e41a1c\",\"#e41a1c\",\"#e41a1c\",\"#e41a1c\",\"#e41a1c\",\"#e41a1c\",\"#e41a1c\",\"#e41a1c\",\"#e41a1c\",\"#e41a1c\",\"#e41a1c\",\"#e41a1c\",\"#e41a1c\",\"#e41a1c\",\"#e41a1c\",\"#e41a1c\",\"#e41a1c\",\"#e41a1c\",\"#e41a1c\",\"#e41a1c\",\"#377eb8\",\"#377eb8\",\"#377eb8\",\"#377eb8\",\"#377eb8\",\"#377eb8\",\"#377eb8\",\"#377eb8\",\"#377eb8\",\"#377eb8\",\"#377eb8\",\"#377eb8\",\"#377eb8\",\"#377eb8\",\"#377eb8\",\"#377eb8\",\"#377eb8\",\"#377eb8\",\"#377eb8\",\"#377eb8\",\"#377eb8\",\"#377eb8\",\"#377eb8\",\"#377eb8\",\"#377eb8\",\"#377eb8\",\"#377eb8\",\"#377eb8\",\"#4daf4a\",\"#4daf4a\",\"#4daf4a\",\"#4daf4a\",\"#4daf4a\",\"#4daf4a\",\"#4daf4a\",\"#4daf4a\",\"#4daf4a\",\"#4daf4a\",\"#4daf4a\",\"#4daf4a\",\"#4daf4a\",\"#4daf4a\",\"#4daf4a\",\"#4daf4a\",\"#4daf4a\",\"#4daf4a\",\"#4daf4a\",\"#4daf4a\",\"#4daf4a\",\"#4daf4a\",\"#4daf4a\",\"#4daf4a\",\"#4daf4a\",\"#4daf4a\",\"#4daf4a\",\"#4daf4a\",\"#984ea3\",\"#984ea3\",\"#984ea3\",\"#984ea3\",\"#984ea3\",\"#984ea3\",\"#984ea3\",\"#984ea3\",\"#984ea3\",\"#984ea3\",\"#984ea3\",\"#984ea3\",\"#984ea3\",\"#984ea3\",\"#984ea3\",\"#984ea3\",\"#984ea3\",\"#984ea3\",\"#984ea3\",\"#984ea3\",\"#984ea3\",\"#984ea3\",\"#984ea3\",\"#984ea3\",\"#984ea3\",\"#984ea3\",\"#984ea3\",\"#984ea3\",\"#984ea3\",\"#ff7f00\",\"#ff7f00\",\"#ff7f00\",\"#ff7f00\",\"#ff7f00\",\"#ff7f00\",\"#ff7f00\",\"#ff7f00\",\"#ff7f00\",\"#ff7f00\",\"#ff7f00\",\"#ff7f00\",\"#ff7f00\",\"#ff7f00\",\"#ff7f00\",\"#ff7f00\",\"#ff7f00\",\"#ff7f00\",\"#ff7f00\",\"#ff7f00\",\"#ff7f00\",\"#ff7f00\",\"#ff7f00\",\"#ff7f00\",\"#ff7f00\",\"#ff7f00\",\"#ff7f00\",\"#ff7f00\",\"#ffff33\",\"#ffff33\",\"#ffff33\",\"#ffff33\",\"#ffff33\",\"#ffff33\",\"#ffff33\",\"#ffff33\",\"#ffff33\",\"#ffff33\",\"#ffff33\",\"#ffff33\",\"#ffff33\",\"#ffff33\",\"#ffff33\",\"#ffff33\",\"#ffff33\",\"#ffff33\",\"#ffff33\",\"#ffff33\",\"#ffff33\",\"#ffff33\",\"#ffff33\",\"#ffff33\",\"#ffff33\",\"#ffff33\",\"#ffff33\",\"#ffff33\",\"#a65628\",\"#a65628\",\"#a65628\",\"#a65628\",\"#a65628\",\"#a65628\",\"#a65628\",\"#a65628\",\"#a65628\",\"#a65628\",\"#a65628\",\"#a65628\",\"#a65628\",\"#a65628\",\"#a65628\",\"#a65628\",\"#a65628\",\"#a65628\",\"#a65628\",\"#a65628\",\"#a65628\",\"#a65628\",\"#a65628\",\"#a65628\",\"#a65628\",\"#a65628\",\"#a65628\",\"#a65628\",\"#a65628\",\"#f781bf\",\"#f781bf\",\"#f781bf\",\"#f781bf\",\"#f781bf\",\"#f781bf\",\"#f781bf\",\"#f781bf\",\"#f781bf\",\"#f781bf\",\"#f781bf\",\"#f781bf\",\"#f781bf\",\"#f781bf\",\"#f781bf\",\"#f781bf\",\"#f781bf\",\"#f781bf\",\"#f781bf\",\"#f781bf\",\"#f781bf\",\"#f781bf\",\"#f781bf\",\"#f781bf\",\"#f781bf\",\"#f781bf\",\"#f781bf\",\"#f781bf\",\"#999999\",\"#999999\",\"#999999\",\"#999999\",\"#999999\",\"#999999\",\"#999999\",\"#999999\",\"#999999\",\"#999999\",\"#999999\",\"#999999\",\"#999999\",\"#999999\",\"#999999\",\"#999999\",\"#999999\",\"#999999\",\"#999999\",\"#999999\",\"#999999\",\"#999999\",\"#999999\",\"#999999\",\"#999999\",\"#999999\",\"#999999\",\"#999999\",\"#999999\"]},\"id\":\"2868\",\"type\":\"LinearColorMapper\"},{\"attributes\":{\"children\":[{\"id\":\"2838\"}],\"height\":300,\"margin\":[0,0,0,0],\"name\":\"Row02791\",\"sizing_mode\":\"fixed\",\"tags\":[\"embedded\"],\"width\":700},\"id\":\"2834\",\"type\":\"Row\"},{\"attributes\":{\"end\":9.045017362992567,\"reset_end\":9.045017362992567,\"reset_start\":-2.09356465771519,\"start\":-2.09356465771519,\"tags\":[[[\"PC2\",\"PC2\",null]]]},\"id\":\"2836\",\"type\":\"Range1d\"},{\"attributes\":{},\"id\":\"2843\",\"type\":\"LinearScale\"},{\"attributes\":{\"callback\":null,\"renderers\":[{\"id\":\"2877\"}],\"tags\":[\"hv_created\"],\"tooltips\":[[\"PC1\",\"@{PC1}\"],[\"PC2\",\"@{PC2}\"],[\"Cluster\",\"@{Cluster}\"],[\"coin_id\",\"@{coin_id}\"]]},\"id\":\"2837\",\"type\":\"HoverTool\"},{\"attributes\":{\"fill_color\":{\"field\":\"color\",\"transform\":{\"id\":\"2868\"}},\"hatch_color\":{\"field\":\"color\",\"transform\":{\"id\":\"2868\"}},\"line_color\":{\"field\":\"color\",\"transform\":{\"id\":\"2868\"}},\"size\":{\"value\":5.477225575051661},\"tags\":[\"apply_ranges\"],\"x\":{\"field\":\"PC1\"},\"y\":{\"field\":\"PC2\"}},\"id\":\"2875\",\"type\":\"Scatter\"},{\"attributes\":{\"coordinates\":null,\"group\":null,\"text_color\":\"black\",\"text_font_size\":\"12pt\"},\"id\":\"2839\",\"type\":\"Title\"},{\"attributes\":{\"fill_color\":{\"field\":\"color\",\"transform\":{\"id\":\"2868\"}},\"hatch_color\":{\"field\":\"color\",\"transform\":{\"id\":\"2868\"}},\"line_color\":{\"field\":\"color\",\"transform\":{\"id\":\"2868\"}},\"size\":{\"value\":5.477225575051661},\"tags\":[\"apply_ranges\"],\"x\":{\"field\":\"PC1\"},\"y\":{\"field\":\"PC2\"}},\"id\":\"2874\",\"type\":\"Scatter\"},{\"attributes\":{\"below\":[{\"id\":\"2847\"}],\"center\":[{\"id\":\"2850\"},{\"id\":\"2854\"}],\"height\":300,\"left\":[{\"id\":\"2851\"}],\"margin\":[5,5,5,5],\"min_border_bottom\":10,\"min_border_left\":10,\"min_border_right\":10,\"min_border_top\":10,\"output_backend\":\"webgl\",\"renderers\":[{\"id\":\"2877\"}],\"right\":[{\"id\":\"2880\"}],\"sizing_mode\":\"fixed\",\"title\":{\"id\":\"2839\"},\"toolbar\":{\"id\":\"2861\"},\"width\":700,\"x_range\":{\"id\":\"2835\"},\"x_scale\":{\"id\":\"2843\"},\"y_range\":{\"id\":\"2836\"},\"y_scale\":{\"id\":\"2845\"}},\"id\":\"2838\",\"subtype\":\"Figure\",\"type\":\"Plot\"},{\"attributes\":{\"coordinates\":null,\"data_source\":{\"id\":\"2869\"},\"glyph\":{\"id\":\"2872\"},\"group\":null,\"hover_glyph\":{\"id\":\"2875\"},\"muted_glyph\":{\"id\":\"2876\"},\"nonselection_glyph\":{\"id\":\"2873\"},\"selection_glyph\":{\"id\":\"2874\"},\"view\":{\"id\":\"2878\"}},\"id\":\"2877\",\"type\":\"GlyphRenderer\"},{\"attributes\":{\"axis\":{\"id\":\"2847\"},\"coordinates\":null,\"grid_line_color\":null,\"group\":null,\"ticker\":null},\"id\":\"2850\",\"type\":\"Grid\"},{\"attributes\":{},\"id\":\"2895\",\"type\":\"NoOverlap\"},{\"attributes\":{\"fill_alpha\":{\"value\":0.1},\"fill_color\":{\"field\":\"color\",\"transform\":{\"id\":\"2868\"}},\"hatch_alpha\":{\"value\":0.1},\"hatch_color\":{\"field\":\"color\",\"transform\":{\"id\":\"2868\"}},\"line_alpha\":{\"value\":0.1},\"line_color\":{\"field\":\"color\",\"transform\":{\"id\":\"2868\"}},\"size\":{\"value\":5.477225575051661},\"tags\":[\"apply_ranges\"],\"x\":{\"field\":\"PC1\"},\"y\":{\"field\":\"PC2\"}},\"id\":\"2873\",\"type\":\"Scatter\"},{\"attributes\":{},\"id\":\"2848\",\"type\":\"BasicTicker\"},{\"attributes\":{\"axis_label\":\"PC1\",\"coordinates\":null,\"formatter\":{\"id\":\"2882\"},\"group\":null,\"major_label_policy\":{\"id\":\"2883\"},\"ticker\":{\"id\":\"2848\"}},\"id\":\"2847\",\"type\":\"LinearAxis\"},{\"attributes\":{\"end\":4.8570586142360614,\"reset_end\":4.8570586142360614,\"reset_start\":-4.8047013650035915,\"start\":-4.8047013650035915,\"tags\":[[[\"PC1\",\"PC1\",null]]]},\"id\":\"2835\",\"type\":\"Range1d\"},{\"attributes\":{},\"id\":\"2856\",\"type\":\"PanTool\"},{\"attributes\":{\"axis_label\":\"PC2\",\"coordinates\":null,\"formatter\":{\"id\":\"2885\"},\"group\":null,\"major_label_policy\":{\"id\":\"2886\"},\"ticker\":{\"id\":\"2852\"}},\"id\":\"2851\",\"type\":\"LinearAxis\"},{\"attributes\":{\"axis\":{\"id\":\"2851\"},\"coordinates\":null,\"dimension\":1,\"grid_line_color\":null,\"group\":null,\"ticker\":null},\"id\":\"2854\",\"type\":\"Grid\"},{\"attributes\":{\"source\":{\"id\":\"2869\"}},\"id\":\"2878\",\"type\":\"CDSView\"},{\"attributes\":{},\"id\":\"2852\",\"type\":\"BasicTicker\"},{\"attributes\":{},\"id\":\"2857\",\"type\":\"WheelZoomTool\"},{\"attributes\":{},\"id\":\"2882\",\"type\":\"BasicTickFormatter\"},{\"attributes\":{},\"id\":\"2899\",\"type\":\"UnionRenderers\"},{\"attributes\":{\"bar_line_color\":\"black\",\"color_mapper\":{\"id\":\"2868\"},\"coordinates\":null,\"group\":null,\"label_standoff\":8,\"location\":[0,0],\"major_label_policy\":{\"id\":\"2895\"},\"major_tick_line_color\":\"black\",\"ticker\":{\"id\":\"2879\"}},\"id\":\"2880\",\"type\":\"ColorBar\"},{\"attributes\":{},\"id\":\"2855\",\"type\":\"SaveTool\"},{\"attributes\":{},\"id\":\"2885\",\"type\":\"BasicTickFormatter\"},{\"attributes\":{\"overlay\":{\"id\":\"2860\"}},\"id\":\"2858\",\"type\":\"BoxZoomTool\"},{\"attributes\":{},\"id\":\"2879\",\"type\":\"BasicTicker\"},{\"attributes\":{},\"id\":\"2859\",\"type\":\"ResetTool\"},{\"attributes\":{\"bottom_units\":\"screen\",\"coordinates\":null,\"fill_alpha\":0.5,\"fill_color\":\"lightgrey\",\"group\":null,\"left_units\":\"screen\",\"level\":\"overlay\",\"line_alpha\":1.0,\"line_color\":\"black\",\"line_dash\":[4,4],\"line_width\":2,\"right_units\":\"screen\",\"syncable\":false,\"top_units\":\"screen\"},\"id\":\"2860\",\"type\":\"BoxAnnotation\"},{\"attributes\":{},\"id\":\"2886\",\"type\":\"AllLabels\"},{\"attributes\":{\"fill_color\":{\"field\":\"color\",\"transform\":{\"id\":\"2868\"}},\"hatch_color\":{\"field\":\"color\",\"transform\":{\"id\":\"2868\"}},\"line_color\":{\"field\":\"color\",\"transform\":{\"id\":\"2868\"}},\"size\":{\"value\":5.477225575051661},\"tags\":[\"apply_ranges\"],\"x\":{\"field\":\"PC1\"},\"y\":{\"field\":\"PC2\"}},\"id\":\"2872\",\"type\":\"Scatter\"},{\"attributes\":{},\"id\":\"2870\",\"type\":\"Selection\"},{\"attributes\":{\"active_drag\":{\"id\":\"2856\"},\"active_scroll\":{\"id\":\"2857\"},\"tools\":[{\"id\":\"2837\"},{\"id\":\"2855\"},{\"id\":\"2856\"},{\"id\":\"2857\"},{\"id\":\"2858\"},{\"id\":\"2859\"}]},\"id\":\"2861\",\"type\":\"Toolbar\"}],\"root_ids\":[\"2834\"]},\"title\":\"Bokeh Application\",\"version\":\"2.4.3\"}};\n",
       "    var render_items = [{\"docid\":\"4bce4916-3f39-4f60-a0f7-4501503c1664\",\"root_ids\":[\"2834\"],\"roots\":{\"2834\":\"1e7d4637-e94e-4f01-b0d4-d1d7c4702c4c\"}}];\n",
       "    root.Bokeh.embed.embed_items_notebook(docs_json, render_items);\n",
       "    for (const render_item of render_items) {\n",
       "      for (const root_id of render_item.root_ids) {\n",
       "\tconst id_el = document.getElementById(root_id)\n",
       "\tif (id_el.children.length && (id_el.children[0].className === 'bk-root')) {\n",
       "\t  const root_el = id_el.children[0]\n",
       "\t  root_el.id = root_el.id + '-rendered'\n",
       "\t}\n",
       "      }\n",
       "    }\n",
       "  }\n",
       "  if (root.Bokeh !== undefined && root.Bokeh.Panel !== undefined) {\n",
       "    embed_document(root);\n",
       "  } else {\n",
       "    var attempts = 0;\n",
       "    var timer = setInterval(function(root) {\n",
       "      if (root.Bokeh !== undefined && root.Bokeh.Panel !== undefined) {\n",
       "        clearInterval(timer);\n",
       "        embed_document(root);\n",
       "      } else if (document.readyState == \"complete\") {\n",
       "        attempts++;\n",
       "        if (attempts > 200) {\n",
       "          clearInterval(timer);\n",
       "          console.log(\"Bokeh: ERROR: Unable to run BokehJS code because BokehJS library is missing\");\n",
       "        }\n",
       "      }\n",
       "    }, 25, root)\n",
       "  }\n",
       "})(window);</script>"
      ],
      "text/plain": [
       ":Scatter   [PC1]   (PC2,Cluster,coin_id)"
      ]
     },
     "execution_count": 86,
     "metadata": {
      "application/vnd.holoviews_exec.v0+json": {
       "id": "2834"
      }
     },
     "output_type": "execute_result"
    }
   ],
   "source": [
    "# Create a scatter plot using hvPlot by setting \n",
    "# `x=\"PC1\"` and `y=\"PC2\"`. \n",
    "# Color the graph points with the labels found using K-Means and \n",
    "# add the crypto name in the `hover_cols` parameter to identify \n",
    "# the cryptocurrency represented by each data point.\n",
    "scatter_plot = pca_df_copy.hvplot.scatter(x=\"PC1\", y=\"PC2\", c=\"Cluster\", cmap=\"Set1\", hover_cols=[\"coin_id\"])\n",
    "scatter_plot"
   ]
  },
  {
   "cell_type": "markdown",
   "metadata": {},
   "source": [
    "### Visualize and Compare the Results\n",
    "\n",
    "In this section, you will visually analyze the cluster analysis results by contrasting the outcome with and without using the optimization techniques."
   ]
  },
  {
   "cell_type": "code",
   "execution_count": 87,
   "metadata": {},
   "outputs": [
    {
     "data": {},
     "metadata": {},
     "output_type": "display_data"
    },
    {
     "data": {
      "application/vnd.holoviews_exec.v0+json": "",
      "text/html": [
       "<div id='2958'>\n",
       "  <div class=\"bk-root\" id=\"d0904af7-a69e-4dd4-a88d-b07aacc8885f\" data-root-id=\"2958\"></div>\n",
       "</div>\n",
       "<script type=\"application/javascript\">(function(root) {\n",
       "  function embed_document(root) {\n",
       "    var docs_json = {\"70952e3c-3a02-4ad6-9bd9-293d4a5378eb\":{\"defs\":[{\"extends\":null,\"module\":null,\"name\":\"ReactiveHTML1\",\"overrides\":[],\"properties\":[]},{\"extends\":null,\"module\":null,\"name\":\"FlexBox1\",\"overrides\":[],\"properties\":[{\"default\":\"flex-start\",\"kind\":null,\"name\":\"align_content\"},{\"default\":\"flex-start\",\"kind\":null,\"name\":\"align_items\"},{\"default\":\"row\",\"kind\":null,\"name\":\"flex_direction\"},{\"default\":\"wrap\",\"kind\":null,\"name\":\"flex_wrap\"},{\"default\":\"flex-start\",\"kind\":null,\"name\":\"justify_content\"}]},{\"extends\":null,\"module\":null,\"name\":\"GridStack1\",\"overrides\":[],\"properties\":[{\"default\":\"warn\",\"kind\":null,\"name\":\"mode\"},{\"default\":null,\"kind\":null,\"name\":\"ncols\"},{\"default\":null,\"kind\":null,\"name\":\"nrows\"},{\"default\":true,\"kind\":null,\"name\":\"allow_resize\"},{\"default\":true,\"kind\":null,\"name\":\"allow_drag\"},{\"default\":[],\"kind\":null,\"name\":\"state\"}]},{\"extends\":null,\"module\":null,\"name\":\"click1\",\"overrides\":[],\"properties\":[{\"default\":\"\",\"kind\":null,\"name\":\"terminal_output\"},{\"default\":\"\",\"kind\":null,\"name\":\"debug_name\"},{\"default\":0,\"kind\":null,\"name\":\"clears\"}]},{\"extends\":null,\"module\":null,\"name\":\"NotificationAreaBase1\",\"overrides\":[],\"properties\":[{\"default\":\"bottom-right\",\"kind\":null,\"name\":\"position\"},{\"default\":0,\"kind\":null,\"name\":\"_clear\"}]},{\"extends\":null,\"module\":null,\"name\":\"NotificationArea1\",\"overrides\":[],\"properties\":[{\"default\":[],\"kind\":null,\"name\":\"notifications\"},{\"default\":\"bottom-right\",\"kind\":null,\"name\":\"position\"},{\"default\":0,\"kind\":null,\"name\":\"_clear\"},{\"default\":[{\"background\":\"#ffc107\",\"icon\":{\"className\":\"fas fa-exclamation-triangle\",\"color\":\"white\",\"tagName\":\"i\"},\"type\":\"warning\"},{\"background\":\"#007bff\",\"icon\":{\"className\":\"fas fa-info-circle\",\"color\":\"white\",\"tagName\":\"i\"},\"type\":\"info\"}],\"kind\":null,\"name\":\"types\"}]},{\"extends\":null,\"module\":null,\"name\":\"Notification\",\"overrides\":[],\"properties\":[{\"default\":null,\"kind\":null,\"name\":\"background\"},{\"default\":3000,\"kind\":null,\"name\":\"duration\"},{\"default\":null,\"kind\":null,\"name\":\"icon\"},{\"default\":\"\",\"kind\":null,\"name\":\"message\"},{\"default\":null,\"kind\":null,\"name\":\"notification_type\"},{\"default\":false,\"kind\":null,\"name\":\"_destroyed\"}]},{\"extends\":null,\"module\":null,\"name\":\"TemplateActions1\",\"overrides\":[],\"properties\":[{\"default\":0,\"kind\":null,\"name\":\"open_modal\"},{\"default\":0,\"kind\":null,\"name\":\"close_modal\"}]},{\"extends\":null,\"module\":null,\"name\":\"MaterialTemplateActions1\",\"overrides\":[],\"properties\":[{\"default\":0,\"kind\":null,\"name\":\"open_modal\"},{\"default\":0,\"kind\":null,\"name\":\"close_modal\"}]}],\"roots\":{\"references\":[{\"attributes\":{},\"id\":\"3035\",\"type\":\"SaveTool\"},{\"attributes\":{\"fill_color\":{\"field\":\"color\",\"transform\":{\"id\":\"2992\"}},\"hatch_color\":{\"field\":\"color\",\"transform\":{\"id\":\"2992\"}},\"line_color\":{\"field\":\"color\",\"transform\":{\"id\":\"2992\"}},\"size\":{\"value\":5.477225575051661},\"tags\":[\"apply_ranges\"],\"x\":{\"field\":\"PC1\"},\"y\":{\"field\":\"PC2\"}},\"id\":\"2999\",\"type\":\"Scatter\"},{\"attributes\":{\"overlay\":{\"id\":\"3040\"}},\"id\":\"3038\",\"type\":\"BoxZoomTool\"},{\"attributes\":{},\"id\":\"3039\",\"type\":\"ResetTool\"},{\"attributes\":{\"coordinates\":null,\"data_source\":{\"id\":\"2993\"},\"glyph\":{\"id\":\"2996\"},\"group\":null,\"hover_glyph\":{\"id\":\"2999\"},\"muted_glyph\":{\"id\":\"3000\"},\"nonselection_glyph\":{\"id\":\"2997\"},\"selection_glyph\":{\"id\":\"2998\"},\"view\":{\"id\":\"3002\"}},\"id\":\"3001\",\"type\":\"GlyphRenderer\"},{\"attributes\":{\"bottom_units\":\"screen\",\"coordinates\":null,\"fill_alpha\":0.5,\"fill_color\":\"lightgrey\",\"group\":null,\"left_units\":\"screen\",\"level\":\"overlay\",\"line_alpha\":1.0,\"line_color\":\"black\",\"line_dash\":[4,4],\"line_width\":2,\"right_units\":\"screen\",\"syncable\":false,\"top_units\":\"screen\"},\"id\":\"3040\",\"type\":\"BoxAnnotation\"},{\"attributes\":{},\"id\":\"3073\",\"type\":\"NoOverlap\"},{\"attributes\":{\"line_alpha\":0.1,\"line_color\":\"#30a2da\",\"line_width\":2,\"tags\":[\"apply_ranges\"],\"x\":{\"field\":\"K\"},\"y\":{\"field\":\"Inertia\"}},\"id\":\"3052\",\"type\":\"Line\"},{\"attributes\":{\"line_color\":\"#30a2da\",\"line_width\":2,\"tags\":[\"apply_ranges\"],\"x\":{\"field\":\"K\"},\"y\":{\"field\":\"Inertia\"}},\"id\":\"3051\",\"type\":\"Line\"},{\"attributes\":{\"callback\":null,\"renderers\":[{\"id\":\"3001\"}],\"tags\":[\"hv_created\"],\"tooltips\":[[\"PC1\",\"@{PC1}\"],[\"PC2\",\"@{PC2}\"],[\"Cluster\",\"@{Cluster}\"],[\"coin_id\",\"@{coin_id}\"]]},\"id\":\"2961\",\"type\":\"HoverTool\"},{\"attributes\":{\"source\":{\"id\":\"2993\"}},\"id\":\"3002\",\"type\":\"CDSView\"},{\"attributes\":{},\"id\":\"3049\",\"type\":\"Selection\"},{\"attributes\":{\"coordinates\":null,\"group\":null,\"text_color\":\"black\",\"text_font_size\":\"12pt\"},\"id\":\"2963\",\"type\":\"Title\"},{\"attributes\":{},\"id\":\"3006\",\"type\":\"BasicTickFormatter\"},{\"attributes\":{\"bar_line_color\":\"black\",\"color_mapper\":{\"id\":\"2992\"},\"coordinates\":null,\"group\":null,\"label_standoff\":8,\"location\":[0,0],\"major_label_policy\":{\"id\":\"3073\"},\"major_tick_line_color\":\"black\",\"ticker\":{\"id\":\"3003\"}},\"id\":\"3004\",\"type\":\"ColorBar\"},{\"attributes\":{},\"id\":\"3077\",\"type\":\"UnionRenderers\"},{\"attributes\":{\"coordinates\":null,\"group\":null,\"text\":\"Elbow Curve for K-Means Clustering\",\"text_color\":\"black\",\"text_font_size\":\"12pt\"},\"id\":\"3019\",\"type\":\"Title\"},{\"attributes\":{\"data\":{\"Inertia\":{\"__ndarray__\":\"ineL7Q85PECKd4vtDzk8QIp3i+0POTxAineL7Q85PECKd4vtDzk8QIp3i+0POTxAineL7Q85PECKd4vtDzk8QIp3i+0POTxAineL7Q85PECKd4vtDzk8QA==\",\"dtype\":\"float64\",\"order\":\"little\",\"shape\":[11]},\"K\":[1,2,3,4,5,6,7,8,9,10,11]},\"selected\":{\"id\":\"3049\"},\"selection_policy\":{\"id\":\"3088\"}},\"id\":\"3048\",\"type\":\"ColumnDataSource\"},{\"attributes\":{},\"id\":\"2967\",\"type\":\"LinearScale\"},{\"attributes\":{\"end\":4.8570586142360614,\"reset_end\":4.8570586142360614,\"reset_start\":-4.8047013650035915,\"start\":-4.8047013650035915,\"tags\":[[[\"PC1\",\"PC1\",null]]]},\"id\":\"2959\",\"type\":\"Range1d\"},{\"attributes\":{\"children\":[{\"id\":\"3095\"}],\"margin\":[0,0,0,0],\"name\":\"Row02904\",\"tags\":[\"embedded\"]},\"id\":\"2958\",\"type\":\"Row\"},{\"attributes\":{},\"id\":\"3025\",\"type\":\"LinearScale\"},{\"attributes\":{\"line_alpha\":0.2,\"line_color\":\"#30a2da\",\"line_width\":2,\"tags\":[\"apply_ranges\"],\"x\":{\"field\":\"K\"},\"y\":{\"field\":\"Inertia\"}},\"id\":\"3053\",\"type\":\"Line\"},{\"attributes\":{},\"id\":\"3010\",\"type\":\"AllLabels\"},{\"attributes\":{\"coordinates\":null,\"data_source\":{\"id\":\"3048\"},\"glyph\":{\"id\":\"3051\"},\"group\":null,\"hover_glyph\":null,\"muted_glyph\":{\"id\":\"3053\"},\"nonselection_glyph\":{\"id\":\"3052\"},\"selection_glyph\":{\"id\":\"3056\"},\"view\":{\"id\":\"3055\"}},\"id\":\"3054\",\"type\":\"GlyphRenderer\"},{\"attributes\":{},\"id\":\"3023\",\"type\":\"LinearScale\"},{\"attributes\":{},\"id\":\"3088\",\"type\":\"UnionRenderers\"},{\"attributes\":{\"source\":{\"id\":\"3048\"}},\"id\":\"3055\",\"type\":\"CDSView\"},{\"attributes\":{},\"id\":\"3009\",\"type\":\"BasicTickFormatter\"},{\"attributes\":{\"line_color\":\"#30a2da\",\"line_width\":2,\"tags\":[\"apply_ranges\"],\"x\":{\"field\":\"K\"},\"y\":{\"field\":\"Inertia\"}},\"id\":\"3056\",\"type\":\"Line\"},{\"attributes\":{},\"id\":\"3003\",\"type\":\"BasicTicker\"},{\"attributes\":{\"children\":[[{\"id\":\"2962\"},0,0],[{\"id\":\"3018\"},0,1]]},\"id\":\"3092\",\"type\":\"GridBox\"},{\"attributes\":{\"callback\":null,\"renderers\":[{\"id\":\"3054\"}],\"tags\":[\"hv_created\"],\"tooltips\":[[\"K\",\"@{K}\"],[\"Inertia\",\"@{Inertia}\"]]},\"id\":\"3017\",\"type\":\"HoverTool\"},{\"attributes\":{\"end\":9.045017362992567,\"reset_end\":9.045017362992567,\"reset_start\":-2.09356465771519,\"start\":-2.09356465771519,\"tags\":[[[\"PC2\",\"PC2\",null]]]},\"id\":\"2960\",\"type\":\"Range1d\"},{\"attributes\":{},\"id\":\"3062\",\"type\":\"AllLabels\"},{\"attributes\":{},\"id\":\"3061\",\"type\":\"BasicTickFormatter\"},{\"attributes\":{},\"id\":\"3036\",\"type\":\"PanTool\"},{\"attributes\":{\"below\":[{\"id\":\"2971\"}],\"center\":[{\"id\":\"2974\"},{\"id\":\"2978\"}],\"height\":300,\"left\":[{\"id\":\"2975\"}],\"margin\":null,\"min_border_bottom\":10,\"min_border_left\":10,\"min_border_right\":10,\"min_border_top\":10,\"output_backend\":\"webgl\",\"renderers\":[{\"id\":\"3001\"}],\"right\":[{\"id\":\"3004\"}],\"sizing_mode\":\"fixed\",\"title\":{\"id\":\"2963\"},\"toolbar\":{\"id\":\"2985\"},\"toolbar_location\":null,\"width\":700,\"x_range\":{\"id\":\"2959\"},\"x_scale\":{\"id\":\"2967\"},\"y_range\":{\"id\":\"2960\"},\"y_scale\":{\"id\":\"2969\"}},\"id\":\"2962\",\"subtype\":\"Figure\",\"type\":\"Plot\"},{\"attributes\":{\"data\":{\"Cluster\":{\"__ndarray__\":\"AAAAAAAAAAADAAAAAwAAAAUAAAAAAAAAAAAAAAAAAAAAAAAAAQAAAAEAAAADAAAAAwAAAAUAAAABAAAAAQAAAAMAAAABAAAAAAAAAAMAAAABAAAAAAAAAAMAAAADAAAAAwAAAAMAAAABAAAAAQAAAAAAAAAAAAAAAQAAAAEAAAACAAAAAQAAAAMAAAADAAAABAAAAAEAAAABAAAAAwAAAAEAAAA=\",\"dtype\":\"int32\",\"order\":\"little\",\"shape\":[41]},\"PC1\":{\"__ndarray__\":\"scJxVk2R5z9M6KczuorlP0Lufmjn4g1AGBJW6OPLDUB7/7qTQmz0v8rz3IB0zOc/eGFVz5lD4T/MWFwK8pnkPyfgp9HrL+c/n3MQwDtZCsB4/gxUPi4RwMiu25z24w1AzeGvmZKPDUB+pVcG1wLyvyCdiU1UDwrAvrXTb9/sCsBx7sx+xcINQCrktnQhaQrAqaqz+6L35D97sy0vEN0NQCOGB4nNPhHAKOXGLLOT5z8bWaBK3IsNQPCzJOODtQ1AZalhXT32DkBe3FooduINQN3gJtEN0QrAwkTDxnmxEcA1t31UTuflP+W/Vzc07f0/QC+fjxBoCsBjfS5fqEMKwGnbLuXzgQXA94Y16htaCsCf6kfqFucRQGYvnbUOVgVAUP3OL6zH0z/VSQTlf3YRwIzlLsZhSgrArk6Ix5HhDUDj/01hMFQRwA==\",\"dtype\":\"float64\",\"order\":\"little\",\"shape\":[41]},\"PC2\":{\"__ndarray__\":\"GbUOdudn479S4ZuxxIjdvw8vk+UyJdy/TMq0gd6Z3r861ZCBRaXyv/UNNlsBzeC/sBvq/On53L/crxg2z2PWv2IJK4ug5eS/Z85Cb6QN6L8WSnr2ONrNv/JUr1k0fNy/ofxXagRY5r+UOWksfTioP+CouG6Nv9i/eXj2ztcq6b/KWYgYXB+wP9EzHOXZpd6/VN8/ubbd079HXlPcmqbgvy2ylobWUta/H01q/8uE479lLTeXeLPav21qOjJgetq/C76FmSoe4z88QxjSdT/dv6+OtyJAKui/dJ4bvtMy4b9KWSl+N27bv1vd0q4bYAVAt4B8P/Jb47954QQukEziv3jRS3/NOyBAffsQ+c6J2L+ElnLsxdbrP95iJj4Ytbo/1rSuvJ4DE0CzjSPFGp3jvxr+XjGWx+K/LCBG62DC3b+bBi7udXfSvw==\",\"dtype\":\"float64\",\"order\":\"little\",\"shape\":[41]},\"coin_id\":[\"bitcoin\",\"ethereum\",\"tether\",\"ripple\",\"bitcoin-cash\",\"binancecoin\",\"chainlink\",\"cardano\",\"litecoin\",\"bitcoin-cash-sv\",\"crypto-com-chain\",\"usd-coin\",\"eos\",\"monero\",\"tron\",\"tezos\",\"okb\",\"stellar\",\"cosmos\",\"cdai\",\"neo\",\"wrapped-bitcoin\",\"leo-token\",\"huobi-token\",\"nem\",\"binance-usd\",\"iota\",\"vechain\",\"zcash\",\"theta-token\",\"dash\",\"ethereum-classic\",\"ethlend\",\"maker\",\"havven\",\"omisego\",\"celsius-degree-token\",\"ontology\",\"ftx-token\",\"true-usd\",\"digibyte\"],\"color\":{\"__ndarray__\":\"AAAAAAAAAAADAAAAAwAAAAUAAAAAAAAAAAAAAAAAAAAAAAAAAQAAAAEAAAADAAAAAwAAAAUAAAABAAAAAQAAAAMAAAABAAAAAAAAAAMAAAABAAAAAAAAAAMAAAADAAAAAwAAAAMAAAABAAAAAQAAAAAAAAAAAAAAAQAAAAEAAAACAAAAAQAAAAMAAAADAAAABAAAAAEAAAABAAAAAwAAAAEAAAA=\",\"dtype\":\"int32\",\"order\":\"little\",\"shape\":[41]}},\"selected\":{\"id\":\"2994\"},\"selection_policy\":{\"id\":\"3077\"}},\"id\":\"2993\",\"type\":\"ColumnDataSource\"},{\"attributes\":{\"axis_label\":\"PC1\",\"coordinates\":null,\"formatter\":{\"id\":\"3006\"},\"group\":null,\"major_label_policy\":{\"id\":\"3007\"},\"ticker\":{\"id\":\"2972\"}},\"id\":\"2971\",\"type\":\"LinearAxis\"},{\"attributes\":{\"axis\":{\"id\":\"2971\"},\"coordinates\":null,\"grid_line_color\":null,\"group\":null,\"ticker\":null},\"id\":\"2974\",\"type\":\"Grid\"},{\"attributes\":{},\"id\":\"3059\",\"type\":\"AllLabels\"},{\"attributes\":{},\"id\":\"2972\",\"type\":\"BasicTicker\"},{\"attributes\":{\"end\":11.0,\"reset_end\":11.0,\"reset_start\":1.0,\"start\":1.0,\"tags\":[[[\"K\",\"K\",null]]]},\"id\":\"3015\",\"type\":\"Range1d\"},{\"attributes\":{},\"id\":\"2969\",\"type\":\"LinearScale\"},{\"attributes\":{},\"id\":\"2980\",\"type\":\"PanTool\"},{\"attributes\":{\"axis_label\":\"PC2\",\"coordinates\":null,\"formatter\":{\"id\":\"3009\"},\"group\":null,\"major_label_policy\":{\"id\":\"3010\"},\"ticker\":{\"id\":\"2976\"}},\"id\":\"2975\",\"type\":\"LinearAxis\"},{\"attributes\":{},\"id\":\"3058\",\"type\":\"BasicTickFormatter\"},{\"attributes\":{\"axis\":{\"id\":\"2975\"},\"coordinates\":null,\"dimension\":1,\"grid_line_color\":null,\"group\":null,\"ticker\":null},\"id\":\"2978\",\"type\":\"Grid\"},{\"attributes\":{\"toolbar\":{\"id\":\"3093\"},\"toolbar_location\":\"above\"},\"id\":\"3094\",\"type\":\"ToolbarBox\"},{\"attributes\":{\"below\":[{\"id\":\"3027\"}],\"center\":[{\"id\":\"3030\"},{\"id\":\"3034\"}],\"height\":300,\"left\":[{\"id\":\"3031\"}],\"margin\":null,\"min_border_bottom\":10,\"min_border_left\":10,\"min_border_right\":10,\"min_border_top\":10,\"output_backend\":\"webgl\",\"renderers\":[{\"id\":\"3054\"}],\"sizing_mode\":\"fixed\",\"title\":{\"id\":\"3019\"},\"toolbar\":{\"id\":\"3041\"},\"toolbar_location\":null,\"width\":700,\"x_range\":{\"id\":\"3015\"},\"x_scale\":{\"id\":\"3023\"},\"y_range\":{\"id\":\"3016\"},\"y_scale\":{\"id\":\"3025\"}},\"id\":\"3018\",\"subtype\":\"Figure\",\"type\":\"Plot\"},{\"attributes\":{},\"id\":\"2976\",\"type\":\"BasicTicker\"},{\"attributes\":{\"end\":29.422899290608928,\"reset_end\":29.422899290608928,\"reset_start\":27.02289929060893,\"start\":27.02289929060893,\"tags\":[[[\"Inertia\",\"Inertia\",null]]]},\"id\":\"3016\",\"type\":\"Range1d\"},{\"attributes\":{},\"id\":\"2981\",\"type\":\"WheelZoomTool\"},{\"attributes\":{},\"id\":\"2979\",\"type\":\"SaveTool\"},{\"attributes\":{\"overlay\":{\"id\":\"2984\"}},\"id\":\"2982\",\"type\":\"BoxZoomTool\"},{\"attributes\":{},\"id\":\"2983\",\"type\":\"ResetTool\"},{\"attributes\":{\"bottom_units\":\"screen\",\"coordinates\":null,\"fill_alpha\":0.5,\"fill_color\":\"lightgrey\",\"group\":null,\"left_units\":\"screen\",\"level\":\"overlay\",\"line_alpha\":1.0,\"line_color\":\"black\",\"line_dash\":[4,4],\"line_width\":2,\"right_units\":\"screen\",\"syncable\":false,\"top_units\":\"screen\"},\"id\":\"2984\",\"type\":\"BoxAnnotation\"},{\"attributes\":{\"axis\":{\"id\":\"3027\"},\"coordinates\":null,\"grid_line_color\":null,\"group\":null,\"ticker\":null},\"id\":\"3030\",\"type\":\"Grid\"},{\"attributes\":{\"children\":[{\"id\":\"3094\"},{\"id\":\"3092\"}]},\"id\":\"3095\",\"type\":\"Column\"},{\"attributes\":{\"fill_color\":{\"field\":\"color\",\"transform\":{\"id\":\"2992\"}},\"hatch_color\":{\"field\":\"color\",\"transform\":{\"id\":\"2992\"}},\"line_color\":{\"field\":\"color\",\"transform\":{\"id\":\"2992\"}},\"size\":{\"value\":5.477225575051661},\"tags\":[\"apply_ranges\"],\"x\":{\"field\":\"PC1\"},\"y\":{\"field\":\"PC2\"}},\"id\":\"2996\",\"type\":\"Scatter\"},{\"attributes\":{\"axis_label\":\"K\",\"coordinates\":null,\"formatter\":{\"id\":\"3058\"},\"group\":null,\"major_label_policy\":{\"id\":\"3059\"},\"ticker\":{\"id\":\"3028\"}},\"id\":\"3027\",\"type\":\"LinearAxis\"},{\"attributes\":{},\"id\":\"2994\",\"type\":\"Selection\"},{\"attributes\":{\"active_drag\":{\"id\":\"2980\"},\"active_scroll\":{\"id\":\"2981\"},\"tools\":[{\"id\":\"2961\"},{\"id\":\"2979\"},{\"id\":\"2980\"},{\"id\":\"2981\"},{\"id\":\"2982\"},{\"id\":\"2983\"}]},\"id\":\"2985\",\"type\":\"Toolbar\"},{\"attributes\":{\"toolbars\":[{\"id\":\"2985\"},{\"id\":\"3041\"}],\"tools\":[{\"id\":\"2961\"},{\"id\":\"2979\"},{\"id\":\"2980\"},{\"id\":\"2981\"},{\"id\":\"2982\"},{\"id\":\"2983\"},{\"id\":\"3017\"},{\"id\":\"3035\"},{\"id\":\"3036\"},{\"id\":\"3037\"},{\"id\":\"3038\"},{\"id\":\"3039\"}]},\"id\":\"3093\",\"type\":\"ProxyToolbar\"},{\"attributes\":{},\"id\":\"3007\",\"type\":\"AllLabels\"},{\"attributes\":{\"fill_color\":{\"field\":\"color\",\"transform\":{\"id\":\"2992\"}},\"hatch_color\":{\"field\":\"color\",\"transform\":{\"id\":\"2992\"}},\"line_color\":{\"field\":\"color\",\"transform\":{\"id\":\"2992\"}},\"size\":{\"value\":5.477225575051661},\"tags\":[\"apply_ranges\"],\"x\":{\"field\":\"PC1\"},\"y\":{\"field\":\"PC2\"}},\"id\":\"2998\",\"type\":\"Scatter\"},{\"attributes\":{\"fill_alpha\":{\"value\":0.1},\"fill_color\":{\"field\":\"color\",\"transform\":{\"id\":\"2992\"}},\"hatch_alpha\":{\"value\":0.1},\"hatch_color\":{\"field\":\"color\",\"transform\":{\"id\":\"2992\"}},\"line_alpha\":{\"value\":0.1},\"line_color\":{\"field\":\"color\",\"transform\":{\"id\":\"2992\"}},\"size\":{\"value\":5.477225575051661},\"tags\":[\"apply_ranges\"],\"x\":{\"field\":\"PC1\"},\"y\":{\"field\":\"PC2\"}},\"id\":\"2997\",\"type\":\"Scatter\"},{\"attributes\":{\"active_drag\":{\"id\":\"3036\"},\"active_scroll\":{\"id\":\"3037\"},\"tools\":[{\"id\":\"3017\"},{\"id\":\"3035\"},{\"id\":\"3036\"},{\"id\":\"3037\"},{\"id\":\"3038\"},{\"id\":\"3039\"}]},\"id\":\"3041\",\"type\":\"Toolbar\"},{\"attributes\":{},\"id\":\"3028\",\"type\":\"BasicTicker\"},{\"attributes\":{\"axis_label\":\"Inertia\",\"coordinates\":null,\"formatter\":{\"id\":\"3061\"},\"group\":null,\"major_label_policy\":{\"id\":\"3062\"},\"ticker\":{\"id\":\"3032\"}},\"id\":\"3031\",\"type\":\"LinearAxis\"},{\"attributes\":{\"axis\":{\"id\":\"3031\"},\"coordinates\":null,\"dimension\":1,\"grid_line_color\":null,\"group\":null,\"ticker\":null},\"id\":\"3034\",\"type\":\"Grid\"},{\"attributes\":{},\"id\":\"3032\",\"type\":\"BasicTicker\"},{\"attributes\":{\"high\":5,\"low\":0,\"palette\":[\"#e41a1c\",\"#e41a1c\",\"#e41a1c\",\"#e41a1c\",\"#e41a1c\",\"#e41a1c\",\"#e41a1c\",\"#e41a1c\",\"#e41a1c\",\"#e41a1c\",\"#e41a1c\",\"#e41a1c\",\"#e41a1c\",\"#e41a1c\",\"#e41a1c\",\"#e41a1c\",\"#e41a1c\",\"#e41a1c\",\"#e41a1c\",\"#e41a1c\",\"#e41a1c\",\"#e41a1c\",\"#e41a1c\",\"#e41a1c\",\"#e41a1c\",\"#e41a1c\",\"#e41a1c\",\"#e41a1c\",\"#e41a1c\",\"#377eb8\",\"#377eb8\",\"#377eb8\",\"#377eb8\",\"#377eb8\",\"#377eb8\",\"#377eb8\",\"#377eb8\",\"#377eb8\",\"#377eb8\",\"#377eb8\",\"#377eb8\",\"#377eb8\",\"#377eb8\",\"#377eb8\",\"#377eb8\",\"#377eb8\",\"#377eb8\",\"#377eb8\",\"#377eb8\",\"#377eb8\",\"#377eb8\",\"#377eb8\",\"#377eb8\",\"#377eb8\",\"#377eb8\",\"#377eb8\",\"#377eb8\",\"#4daf4a\",\"#4daf4a\",\"#4daf4a\",\"#4daf4a\",\"#4daf4a\",\"#4daf4a\",\"#4daf4a\",\"#4daf4a\",\"#4daf4a\",\"#4daf4a\",\"#4daf4a\",\"#4daf4a\",\"#4daf4a\",\"#4daf4a\",\"#4daf4a\",\"#4daf4a\",\"#4daf4a\",\"#4daf4a\",\"#4daf4a\",\"#4daf4a\",\"#4daf4a\",\"#4daf4a\",\"#4daf4a\",\"#4daf4a\",\"#4daf4a\",\"#4daf4a\",\"#4daf4a\",\"#4daf4a\",\"#984ea3\",\"#984ea3\",\"#984ea3\",\"#984ea3\",\"#984ea3\",\"#984ea3\",\"#984ea3\",\"#984ea3\",\"#984ea3\",\"#984ea3\",\"#984ea3\",\"#984ea3\",\"#984ea3\",\"#984ea3\",\"#984ea3\",\"#984ea3\",\"#984ea3\",\"#984ea3\",\"#984ea3\",\"#984ea3\",\"#984ea3\",\"#984ea3\",\"#984ea3\",\"#984ea3\",\"#984ea3\",\"#984ea3\",\"#984ea3\",\"#984ea3\",\"#984ea3\",\"#ff7f00\",\"#ff7f00\",\"#ff7f00\",\"#ff7f00\",\"#ff7f00\",\"#ff7f00\",\"#ff7f00\",\"#ff7f00\",\"#ff7f00\",\"#ff7f00\",\"#ff7f00\",\"#ff7f00\",\"#ff7f00\",\"#ff7f00\",\"#ff7f00\",\"#ff7f00\",\"#ff7f00\",\"#ff7f00\",\"#ff7f00\",\"#ff7f00\",\"#ff7f00\",\"#ff7f00\",\"#ff7f00\",\"#ff7f00\",\"#ff7f00\",\"#ff7f00\",\"#ff7f00\",\"#ff7f00\",\"#ffff33\",\"#ffff33\",\"#ffff33\",\"#ffff33\",\"#ffff33\",\"#ffff33\",\"#ffff33\",\"#ffff33\",\"#ffff33\",\"#ffff33\",\"#ffff33\",\"#ffff33\",\"#ffff33\",\"#ffff33\",\"#ffff33\",\"#ffff33\",\"#ffff33\",\"#ffff33\",\"#ffff33\",\"#ffff33\",\"#ffff33\",\"#ffff33\",\"#ffff33\",\"#ffff33\",\"#ffff33\",\"#ffff33\",\"#ffff33\",\"#ffff33\",\"#a65628\",\"#a65628\",\"#a65628\",\"#a65628\",\"#a65628\",\"#a65628\",\"#a65628\",\"#a65628\",\"#a65628\",\"#a65628\",\"#a65628\",\"#a65628\",\"#a65628\",\"#a65628\",\"#a65628\",\"#a65628\",\"#a65628\",\"#a65628\",\"#a65628\",\"#a65628\",\"#a65628\",\"#a65628\",\"#a65628\",\"#a65628\",\"#a65628\",\"#a65628\",\"#a65628\",\"#a65628\",\"#a65628\",\"#f781bf\",\"#f781bf\",\"#f781bf\",\"#f781bf\",\"#f781bf\",\"#f781bf\",\"#f781bf\",\"#f781bf\",\"#f781bf\",\"#f781bf\",\"#f781bf\",\"#f781bf\",\"#f781bf\",\"#f781bf\",\"#f781bf\",\"#f781bf\",\"#f781bf\",\"#f781bf\",\"#f781bf\",\"#f781bf\",\"#f781bf\",\"#f781bf\",\"#f781bf\",\"#f781bf\",\"#f781bf\",\"#f781bf\",\"#f781bf\",\"#f781bf\",\"#999999\",\"#999999\",\"#999999\",\"#999999\",\"#999999\",\"#999999\",\"#999999\",\"#999999\",\"#999999\",\"#999999\",\"#999999\",\"#999999\",\"#999999\",\"#999999\",\"#999999\",\"#999999\",\"#999999\",\"#999999\",\"#999999\",\"#999999\",\"#999999\",\"#999999\",\"#999999\",\"#999999\",\"#999999\",\"#999999\",\"#999999\",\"#999999\",\"#999999\"]},\"id\":\"2992\",\"type\":\"LinearColorMapper\"},{\"attributes\":{},\"id\":\"3037\",\"type\":\"WheelZoomTool\"},{\"attributes\":{\"fill_alpha\":{\"value\":0.2},\"fill_color\":{\"field\":\"color\",\"transform\":{\"id\":\"2992\"}},\"hatch_alpha\":{\"value\":0.2},\"hatch_color\":{\"field\":\"color\",\"transform\":{\"id\":\"2992\"}},\"line_alpha\":{\"value\":0.2},\"line_color\":{\"field\":\"color\",\"transform\":{\"id\":\"2992\"}},\"size\":{\"value\":5.477225575051661},\"tags\":[\"apply_ranges\"],\"x\":{\"field\":\"PC1\"},\"y\":{\"field\":\"PC2\"}},\"id\":\"3000\",\"type\":\"Scatter\"}],\"root_ids\":[\"2958\"]},\"title\":\"Bokeh Application\",\"version\":\"2.4.3\"}};\n",
       "    var render_items = [{\"docid\":\"70952e3c-3a02-4ad6-9bd9-293d4a5378eb\",\"root_ids\":[\"2958\"],\"roots\":{\"2958\":\"d0904af7-a69e-4dd4-a88d-b07aacc8885f\"}}];\n",
       "    root.Bokeh.embed.embed_items_notebook(docs_json, render_items);\n",
       "    for (const render_item of render_items) {\n",
       "      for (const root_id of render_item.root_ids) {\n",
       "\tconst id_el = document.getElementById(root_id)\n",
       "\tif (id_el.children.length && (id_el.children[0].className === 'bk-root')) {\n",
       "\t  const root_el = id_el.children[0]\n",
       "\t  root_el.id = root_el.id + '-rendered'\n",
       "\t}\n",
       "      }\n",
       "    }\n",
       "  }\n",
       "  if (root.Bokeh !== undefined && root.Bokeh.Panel !== undefined) {\n",
       "    embed_document(root);\n",
       "  } else {\n",
       "    var attempts = 0;\n",
       "    var timer = setInterval(function(root) {\n",
       "      if (root.Bokeh !== undefined && root.Bokeh.Panel !== undefined) {\n",
       "        clearInterval(timer);\n",
       "        embed_document(root);\n",
       "      } else if (document.readyState == \"complete\") {\n",
       "        attempts++;\n",
       "        if (attempts > 200) {\n",
       "          clearInterval(timer);\n",
       "          console.log(\"Bokeh: ERROR: Unable to run BokehJS code because BokehJS library is missing\");\n",
       "        }\n",
       "      }\n",
       "    }, 25, root)\n",
       "  }\n",
       "})(window);</script>"
      ],
      "text/plain": [
       ":Layout\n",
       "   .Scatter.I :Scatter   [PC1]   (PC2,Cluster,coin_id)\n",
       "   .Curve.I   :Curve   [K]   (Inertia)"
      ]
     },
     "execution_count": 87,
     "metadata": {
      "application/vnd.holoviews_exec.v0+json": {
       "id": "2958"
      }
     },
     "output_type": "execute_result"
    }
   ],
   "source": [
    "# Composite plot to contrast the Elbow curves\n",
    "import holoviews as hv\n",
    "elbow_curve = elbow_df.hvplot.line(x=\"K\", y=\"Inertia\", title=\"Elbow Curve for K-Means Clustering\")\n",
    "composite_plot = scatter_plot + elbow_curve\n",
    "composite_plot"
   ]
  },
  {
   "cell_type": "code",
   "execution_count": 92,
   "metadata": {},
   "outputs": [
    {
     "data": {},
     "metadata": {},
     "output_type": "display_data"
    },
    {
     "data": {
      "application/vnd.holoviews_exec.v0+json": "",
      "text/html": [
       "<div id='3736'>\n",
       "  <div class=\"bk-root\" id=\"f2e0534a-59b3-4e1e-9c34-113c8cb7d0f6\" data-root-id=\"3736\"></div>\n",
       "</div>\n",
       "<script type=\"application/javascript\">(function(root) {\n",
       "  function embed_document(root) {\n",
       "    var docs_json = {\"61dc5381-4ff3-4c03-9db0-c03064760c6b\":{\"defs\":[{\"extends\":null,\"module\":null,\"name\":\"ReactiveHTML1\",\"overrides\":[],\"properties\":[]},{\"extends\":null,\"module\":null,\"name\":\"FlexBox1\",\"overrides\":[],\"properties\":[{\"default\":\"flex-start\",\"kind\":null,\"name\":\"align_content\"},{\"default\":\"flex-start\",\"kind\":null,\"name\":\"align_items\"},{\"default\":\"row\",\"kind\":null,\"name\":\"flex_direction\"},{\"default\":\"wrap\",\"kind\":null,\"name\":\"flex_wrap\"},{\"default\":\"flex-start\",\"kind\":null,\"name\":\"justify_content\"}]},{\"extends\":null,\"module\":null,\"name\":\"GridStack1\",\"overrides\":[],\"properties\":[{\"default\":\"warn\",\"kind\":null,\"name\":\"mode\"},{\"default\":null,\"kind\":null,\"name\":\"ncols\"},{\"default\":null,\"kind\":null,\"name\":\"nrows\"},{\"default\":true,\"kind\":null,\"name\":\"allow_resize\"},{\"default\":true,\"kind\":null,\"name\":\"allow_drag\"},{\"default\":[],\"kind\":null,\"name\":\"state\"}]},{\"extends\":null,\"module\":null,\"name\":\"click1\",\"overrides\":[],\"properties\":[{\"default\":\"\",\"kind\":null,\"name\":\"terminal_output\"},{\"default\":\"\",\"kind\":null,\"name\":\"debug_name\"},{\"default\":0,\"kind\":null,\"name\":\"clears\"}]},{\"extends\":null,\"module\":null,\"name\":\"NotificationAreaBase1\",\"overrides\":[],\"properties\":[{\"default\":\"bottom-right\",\"kind\":null,\"name\":\"position\"},{\"default\":0,\"kind\":null,\"name\":\"_clear\"}]},{\"extends\":null,\"module\":null,\"name\":\"NotificationArea1\",\"overrides\":[],\"properties\":[{\"default\":[],\"kind\":null,\"name\":\"notifications\"},{\"default\":\"bottom-right\",\"kind\":null,\"name\":\"position\"},{\"default\":0,\"kind\":null,\"name\":\"_clear\"},{\"default\":[{\"background\":\"#ffc107\",\"icon\":{\"className\":\"fas fa-exclamation-triangle\",\"color\":\"white\",\"tagName\":\"i\"},\"type\":\"warning\"},{\"background\":\"#007bff\",\"icon\":{\"className\":\"fas fa-info-circle\",\"color\":\"white\",\"tagName\":\"i\"},\"type\":\"info\"}],\"kind\":null,\"name\":\"types\"}]},{\"extends\":null,\"module\":null,\"name\":\"Notification\",\"overrides\":[],\"properties\":[{\"default\":null,\"kind\":null,\"name\":\"background\"},{\"default\":3000,\"kind\":null,\"name\":\"duration\"},{\"default\":null,\"kind\":null,\"name\":\"icon\"},{\"default\":\"\",\"kind\":null,\"name\":\"message\"},{\"default\":null,\"kind\":null,\"name\":\"notification_type\"},{\"default\":false,\"kind\":null,\"name\":\"_destroyed\"}]},{\"extends\":null,\"module\":null,\"name\":\"TemplateActions1\",\"overrides\":[],\"properties\":[{\"default\":0,\"kind\":null,\"name\":\"open_modal\"},{\"default\":0,\"kind\":null,\"name\":\"close_modal\"}]},{\"extends\":null,\"module\":null,\"name\":\"MaterialTemplateActions1\",\"overrides\":[],\"properties\":[{\"default\":0,\"kind\":null,\"name\":\"open_modal\"},{\"default\":0,\"kind\":null,\"name\":\"close_modal\"}]}],\"roots\":{\"references\":[{\"attributes\":{},\"id\":\"3787\",\"type\":\"BasicTickFormatter\"},{\"attributes\":{\"end\":4.8570586142360614,\"reset_end\":4.8570586142360614,\"reset_start\":-4.8047013650035915,\"start\":-4.8047013650035915,\"tags\":[[[\"PC1\",\"PC1\",null]]]},\"id\":\"3737\",\"type\":\"Range1d\"},{\"attributes\":{},\"id\":\"3785\",\"type\":\"AllLabels\"},{\"attributes\":{\"end\":9.045017362992567,\"reset_end\":9.045017362992567,\"reset_start\":-2.09356465771519,\"start\":-2.09356465771519,\"tags\":[[[\"PC2\",\"PC2\",null]]]},\"id\":\"3738\",\"type\":\"Range1d\"},{\"attributes\":{},\"id\":\"3781\",\"type\":\"BasicTicker\"},{\"attributes\":{\"fill_color\":{\"field\":\"color\",\"transform\":{\"id\":\"3770\"}},\"hatch_color\":{\"field\":\"color\",\"transform\":{\"id\":\"3770\"}},\"line_color\":{\"field\":\"color\",\"transform\":{\"id\":\"3770\"}},\"size\":{\"value\":5.477225575051661},\"tags\":[\"apply_ranges\"],\"x\":{\"field\":\"PC1\"},\"y\":{\"field\":\"PC2\"}},\"id\":\"3776\",\"type\":\"Scatter\"},{\"attributes\":{\"coordinates\":null,\"group\":null,\"text_color\":\"black\",\"text_font_size\":\"12pt\"},\"id\":\"3741\",\"type\":\"Title\"},{\"attributes\":{\"fill_alpha\":{\"value\":0.1},\"fill_color\":{\"field\":\"color\",\"transform\":{\"id\":\"3770\"}},\"hatch_alpha\":{\"value\":0.1},\"hatch_color\":{\"field\":\"color\",\"transform\":{\"id\":\"3770\"}},\"line_alpha\":{\"value\":0.1},\"line_color\":{\"field\":\"color\",\"transform\":{\"id\":\"3770\"}},\"size\":{\"value\":5.477225575051661},\"tags\":[\"apply_ranges\"],\"x\":{\"field\":\"PC1\"},\"y\":{\"field\":\"PC2\"}},\"id\":\"3775\",\"type\":\"Scatter\"},{\"attributes\":{\"callback\":null,\"renderers\":[{\"id\":\"3779\"}],\"tags\":[\"hv_created\"],\"tooltips\":[[\"PC1\",\"@{PC1}\"],[\"PC2\",\"@{PC2}\"],[\"Cluster\",\"@{Cluster}\"],[\"coin_id\",\"@{coin_id}\"]]},\"id\":\"3739\",\"type\":\"HoverTool\"},{\"attributes\":{},\"id\":\"3745\",\"type\":\"LinearScale\"},{\"attributes\":{\"high\":5,\"low\":0,\"palette\":[\"#e41a1c\",\"#e41a1c\",\"#e41a1c\",\"#e41a1c\",\"#e41a1c\",\"#e41a1c\",\"#e41a1c\",\"#e41a1c\",\"#e41a1c\",\"#e41a1c\",\"#e41a1c\",\"#e41a1c\",\"#e41a1c\",\"#e41a1c\",\"#e41a1c\",\"#e41a1c\",\"#e41a1c\",\"#e41a1c\",\"#e41a1c\",\"#e41a1c\",\"#e41a1c\",\"#e41a1c\",\"#e41a1c\",\"#e41a1c\",\"#e41a1c\",\"#e41a1c\",\"#e41a1c\",\"#e41a1c\",\"#e41a1c\",\"#377eb8\",\"#377eb8\",\"#377eb8\",\"#377eb8\",\"#377eb8\",\"#377eb8\",\"#377eb8\",\"#377eb8\",\"#377eb8\",\"#377eb8\",\"#377eb8\",\"#377eb8\",\"#377eb8\",\"#377eb8\",\"#377eb8\",\"#377eb8\",\"#377eb8\",\"#377eb8\",\"#377eb8\",\"#377eb8\",\"#377eb8\",\"#377eb8\",\"#377eb8\",\"#377eb8\",\"#377eb8\",\"#377eb8\",\"#377eb8\",\"#377eb8\",\"#4daf4a\",\"#4daf4a\",\"#4daf4a\",\"#4daf4a\",\"#4daf4a\",\"#4daf4a\",\"#4daf4a\",\"#4daf4a\",\"#4daf4a\",\"#4daf4a\",\"#4daf4a\",\"#4daf4a\",\"#4daf4a\",\"#4daf4a\",\"#4daf4a\",\"#4daf4a\",\"#4daf4a\",\"#4daf4a\",\"#4daf4a\",\"#4daf4a\",\"#4daf4a\",\"#4daf4a\",\"#4daf4a\",\"#4daf4a\",\"#4daf4a\",\"#4daf4a\",\"#4daf4a\",\"#4daf4a\",\"#984ea3\",\"#984ea3\",\"#984ea3\",\"#984ea3\",\"#984ea3\",\"#984ea3\",\"#984ea3\",\"#984ea3\",\"#984ea3\",\"#984ea3\",\"#984ea3\",\"#984ea3\",\"#984ea3\",\"#984ea3\",\"#984ea3\",\"#984ea3\",\"#984ea3\",\"#984ea3\",\"#984ea3\",\"#984ea3\",\"#984ea3\",\"#984ea3\",\"#984ea3\",\"#984ea3\",\"#984ea3\",\"#984ea3\",\"#984ea3\",\"#984ea3\",\"#984ea3\",\"#ff7f00\",\"#ff7f00\",\"#ff7f00\",\"#ff7f00\",\"#ff7f00\",\"#ff7f00\",\"#ff7f00\",\"#ff7f00\",\"#ff7f00\",\"#ff7f00\",\"#ff7f00\",\"#ff7f00\",\"#ff7f00\",\"#ff7f00\",\"#ff7f00\",\"#ff7f00\",\"#ff7f00\",\"#ff7f00\",\"#ff7f00\",\"#ff7f00\",\"#ff7f00\",\"#ff7f00\",\"#ff7f00\",\"#ff7f00\",\"#ff7f00\",\"#ff7f00\",\"#ff7f00\",\"#ff7f00\",\"#ffff33\",\"#ffff33\",\"#ffff33\",\"#ffff33\",\"#ffff33\",\"#ffff33\",\"#ffff33\",\"#ffff33\",\"#ffff33\",\"#ffff33\",\"#ffff33\",\"#ffff33\",\"#ffff33\",\"#ffff33\",\"#ffff33\",\"#ffff33\",\"#ffff33\",\"#ffff33\",\"#ffff33\",\"#ffff33\",\"#ffff33\",\"#ffff33\",\"#ffff33\",\"#ffff33\",\"#ffff33\",\"#ffff33\",\"#ffff33\",\"#ffff33\",\"#a65628\",\"#a65628\",\"#a65628\",\"#a65628\",\"#a65628\",\"#a65628\",\"#a65628\",\"#a65628\",\"#a65628\",\"#a65628\",\"#a65628\",\"#a65628\",\"#a65628\",\"#a65628\",\"#a65628\",\"#a65628\",\"#a65628\",\"#a65628\",\"#a65628\",\"#a65628\",\"#a65628\",\"#a65628\",\"#a65628\",\"#a65628\",\"#a65628\",\"#a65628\",\"#a65628\",\"#a65628\",\"#a65628\",\"#f781bf\",\"#f781bf\",\"#f781bf\",\"#f781bf\",\"#f781bf\",\"#f781bf\",\"#f781bf\",\"#f781bf\",\"#f781bf\",\"#f781bf\",\"#f781bf\",\"#f781bf\",\"#f781bf\",\"#f781bf\",\"#f781bf\",\"#f781bf\",\"#f781bf\",\"#f781bf\",\"#f781bf\",\"#f781bf\",\"#f781bf\",\"#f781bf\",\"#f781bf\",\"#f781bf\",\"#f781bf\",\"#f781bf\",\"#f781bf\",\"#f781bf\",\"#999999\",\"#999999\",\"#999999\",\"#999999\",\"#999999\",\"#999999\",\"#999999\",\"#999999\",\"#999999\",\"#999999\",\"#999999\",\"#999999\",\"#999999\",\"#999999\",\"#999999\",\"#999999\",\"#999999\",\"#999999\",\"#999999\",\"#999999\",\"#999999\",\"#999999\",\"#999999\",\"#999999\",\"#999999\",\"#999999\",\"#999999\",\"#999999\",\"#999999\"]},\"id\":\"3770\",\"type\":\"LinearColorMapper\"},{\"attributes\":{\"below\":[{\"id\":\"3749\"}],\"center\":[{\"id\":\"3752\"},{\"id\":\"3756\"}],\"height\":300,\"left\":[{\"id\":\"3753\"}],\"margin\":[5,5,5,5],\"min_border_bottom\":10,\"min_border_left\":10,\"min_border_right\":10,\"min_border_top\":10,\"output_backend\":\"webgl\",\"renderers\":[{\"id\":\"3779\"}],\"right\":[{\"id\":\"3782\"}],\"sizing_mode\":\"fixed\",\"title\":{\"id\":\"3741\"},\"toolbar\":{\"id\":\"3763\"},\"width\":700,\"x_range\":{\"id\":\"3737\"},\"x_scale\":{\"id\":\"3745\"},\"y_range\":{\"id\":\"3738\"},\"y_scale\":{\"id\":\"3747\"}},\"id\":\"3740\",\"subtype\":\"Figure\",\"type\":\"Plot\"},{\"attributes\":{\"data\":{\"Cluster\":{\"__ndarray__\":\"AAAAAAAAAAADAAAAAwAAAAUAAAAAAAAAAAAAAAAAAAAAAAAAAQAAAAEAAAADAAAAAwAAAAUAAAABAAAAAQAAAAMAAAABAAAAAAAAAAMAAAABAAAAAAAAAAMAAAADAAAAAwAAAAMAAAABAAAAAQAAAAAAAAAAAAAAAQAAAAEAAAACAAAAAQAAAAMAAAADAAAABAAAAAEAAAABAAAAAwAAAAEAAAA=\",\"dtype\":\"int32\",\"order\":\"little\",\"shape\":[41]},\"PC1\":{\"__ndarray__\":\"scJxVk2R5z9M6KczuorlP0Lufmjn4g1AGBJW6OPLDUB7/7qTQmz0v8rz3IB0zOc/eGFVz5lD4T/MWFwK8pnkPyfgp9HrL+c/n3MQwDtZCsB4/gxUPi4RwMiu25z24w1AzeGvmZKPDUB+pVcG1wLyvyCdiU1UDwrAvrXTb9/sCsBx7sx+xcINQCrktnQhaQrAqaqz+6L35D97sy0vEN0NQCOGB4nNPhHAKOXGLLOT5z8bWaBK3IsNQPCzJOODtQ1AZalhXT32DkBe3FooduINQN3gJtEN0QrAwkTDxnmxEcA1t31UTuflP+W/Vzc07f0/QC+fjxBoCsBjfS5fqEMKwGnbLuXzgQXA94Y16htaCsCf6kfqFucRQGYvnbUOVgVAUP3OL6zH0z/VSQTlf3YRwIzlLsZhSgrArk6Ix5HhDUDj/01hMFQRwA==\",\"dtype\":\"float64\",\"order\":\"little\",\"shape\":[41]},\"PC2\":{\"__ndarray__\":\"GbUOdudn479S4ZuxxIjdvw8vk+UyJdy/TMq0gd6Z3r861ZCBRaXyv/UNNlsBzeC/sBvq/On53L/crxg2z2PWv2IJK4ug5eS/Z85Cb6QN6L8WSnr2ONrNv/JUr1k0fNy/ofxXagRY5r+UOWksfTioP+CouG6Nv9i/eXj2ztcq6b/KWYgYXB+wP9EzHOXZpd6/VN8/ubbd079HXlPcmqbgvy2ylobWUta/H01q/8uE479lLTeXeLPav21qOjJgetq/C76FmSoe4z88QxjSdT/dv6+OtyJAKui/dJ4bvtMy4b9KWSl+N27bv1vd0q4bYAVAt4B8P/Jb47954QQukEziv3jRS3/NOyBAffsQ+c6J2L+ElnLsxdbrP95iJj4Ytbo/1rSuvJ4DE0CzjSPFGp3jvxr+XjGWx+K/LCBG62DC3b+bBi7udXfSvw==\",\"dtype\":\"float64\",\"order\":\"little\",\"shape\":[41]},\"coin_id\":[\"bitcoin\",\"ethereum\",\"tether\",\"ripple\",\"bitcoin-cash\",\"binancecoin\",\"chainlink\",\"cardano\",\"litecoin\",\"bitcoin-cash-sv\",\"crypto-com-chain\",\"usd-coin\",\"eos\",\"monero\",\"tron\",\"tezos\",\"okb\",\"stellar\",\"cosmos\",\"cdai\",\"neo\",\"wrapped-bitcoin\",\"leo-token\",\"huobi-token\",\"nem\",\"binance-usd\",\"iota\",\"vechain\",\"zcash\",\"theta-token\",\"dash\",\"ethereum-classic\",\"ethlend\",\"maker\",\"havven\",\"omisego\",\"celsius-degree-token\",\"ontology\",\"ftx-token\",\"true-usd\",\"digibyte\"],\"color\":{\"__ndarray__\":\"AAAAAAAAAAADAAAAAwAAAAUAAAAAAAAAAAAAAAAAAAAAAAAAAQAAAAEAAAADAAAAAwAAAAUAAAABAAAAAQAAAAMAAAABAAAAAAAAAAMAAAABAAAAAAAAAAMAAAADAAAAAwAAAAMAAAABAAAAAQAAAAAAAAAAAAAAAQAAAAEAAAACAAAAAQAAAAMAAAADAAAABAAAAAEAAAABAAAAAwAAAAEAAAA=\",\"dtype\":\"int32\",\"order\":\"little\",\"shape\":[41]}},\"selected\":{\"id\":\"3772\"},\"selection_policy\":{\"id\":\"3801\"}},\"id\":\"3771\",\"type\":\"ColumnDataSource\"},{\"attributes\":{\"fill_alpha\":{\"value\":0.2},\"fill_color\":{\"field\":\"color\",\"transform\":{\"id\":\"3770\"}},\"hatch_alpha\":{\"value\":0.2},\"hatch_color\":{\"field\":\"color\",\"transform\":{\"id\":\"3770\"}},\"line_alpha\":{\"value\":0.2},\"line_color\":{\"field\":\"color\",\"transform\":{\"id\":\"3770\"}},\"size\":{\"value\":5.477225575051661},\"tags\":[\"apply_ranges\"],\"x\":{\"field\":\"PC1\"},\"y\":{\"field\":\"PC2\"}},\"id\":\"3778\",\"type\":\"Scatter\"},{\"attributes\":{\"axis_label\":\"PC1\",\"coordinates\":null,\"formatter\":{\"id\":\"3784\"},\"group\":null,\"major_label_policy\":{\"id\":\"3785\"},\"ticker\":{\"id\":\"3750\"}},\"id\":\"3749\",\"type\":\"LinearAxis\"},{\"attributes\":{\"children\":[{\"id\":\"3740\"}],\"height\":300,\"margin\":[0,0,0,0],\"name\":\"Row03202\",\"sizing_mode\":\"fixed\",\"tags\":[\"embedded\"],\"width\":700},\"id\":\"3736\",\"type\":\"Row\"},{\"attributes\":{\"axis\":{\"id\":\"3749\"},\"coordinates\":null,\"grid_line_color\":null,\"group\":null,\"ticker\":null},\"id\":\"3752\",\"type\":\"Grid\"},{\"attributes\":{\"fill_color\":{\"field\":\"color\",\"transform\":{\"id\":\"3770\"}},\"hatch_color\":{\"field\":\"color\",\"transform\":{\"id\":\"3770\"}},\"line_color\":{\"field\":\"color\",\"transform\":{\"id\":\"3770\"}},\"size\":{\"value\":5.477225575051661},\"tags\":[\"apply_ranges\"],\"x\":{\"field\":\"PC1\"},\"y\":{\"field\":\"PC2\"}},\"id\":\"3777\",\"type\":\"Scatter\"},{\"attributes\":{},\"id\":\"3797\",\"type\":\"NoOverlap\"},{\"attributes\":{},\"id\":\"3750\",\"type\":\"BasicTicker\"},{\"attributes\":{},\"id\":\"3747\",\"type\":\"LinearScale\"},{\"attributes\":{},\"id\":\"3758\",\"type\":\"PanTool\"},{\"attributes\":{\"coordinates\":null,\"data_source\":{\"id\":\"3771\"},\"glyph\":{\"id\":\"3774\"},\"group\":null,\"hover_glyph\":{\"id\":\"3777\"},\"muted_glyph\":{\"id\":\"3778\"},\"nonselection_glyph\":{\"id\":\"3775\"},\"selection_glyph\":{\"id\":\"3776\"},\"view\":{\"id\":\"3780\"}},\"id\":\"3779\",\"type\":\"GlyphRenderer\"},{\"attributes\":{\"axis_label\":\"PC2\",\"coordinates\":null,\"formatter\":{\"id\":\"3787\"},\"group\":null,\"major_label_policy\":{\"id\":\"3788\"},\"ticker\":{\"id\":\"3754\"}},\"id\":\"3753\",\"type\":\"LinearAxis\"},{\"attributes\":{\"axis\":{\"id\":\"3753\"},\"coordinates\":null,\"dimension\":1,\"grid_line_color\":null,\"group\":null,\"ticker\":null},\"id\":\"3756\",\"type\":\"Grid\"},{\"attributes\":{},\"id\":\"3754\",\"type\":\"BasicTicker\"},{\"attributes\":{},\"id\":\"3759\",\"type\":\"WheelZoomTool\"},{\"attributes\":{},\"id\":\"3801\",\"type\":\"UnionRenderers\"},{\"attributes\":{},\"id\":\"3757\",\"type\":\"SaveTool\"},{\"attributes\":{\"source\":{\"id\":\"3771\"}},\"id\":\"3780\",\"type\":\"CDSView\"},{\"attributes\":{\"overlay\":{\"id\":\"3762\"}},\"id\":\"3760\",\"type\":\"BoxZoomTool\"},{\"attributes\":{},\"id\":\"3784\",\"type\":\"BasicTickFormatter\"},{\"attributes\":{},\"id\":\"3788\",\"type\":\"AllLabels\"},{\"attributes\":{},\"id\":\"3761\",\"type\":\"ResetTool\"},{\"attributes\":{\"bar_line_color\":\"black\",\"color_mapper\":{\"id\":\"3770\"},\"coordinates\":null,\"group\":null,\"label_standoff\":8,\"location\":[0,0],\"major_label_policy\":{\"id\":\"3797\"},\"major_tick_line_color\":\"black\",\"ticker\":{\"id\":\"3781\"}},\"id\":\"3782\",\"type\":\"ColorBar\"},{\"attributes\":{\"bottom_units\":\"screen\",\"coordinates\":null,\"fill_alpha\":0.5,\"fill_color\":\"lightgrey\",\"group\":null,\"left_units\":\"screen\",\"level\":\"overlay\",\"line_alpha\":1.0,\"line_color\":\"black\",\"line_dash\":[4,4],\"line_width\":2,\"right_units\":\"screen\",\"syncable\":false,\"top_units\":\"screen\"},\"id\":\"3762\",\"type\":\"BoxAnnotation\"},{\"attributes\":{\"fill_color\":{\"field\":\"color\",\"transform\":{\"id\":\"3770\"}},\"hatch_color\":{\"field\":\"color\",\"transform\":{\"id\":\"3770\"}},\"line_color\":{\"field\":\"color\",\"transform\":{\"id\":\"3770\"}},\"size\":{\"value\":5.477225575051661},\"tags\":[\"apply_ranges\"],\"x\":{\"field\":\"PC1\"},\"y\":{\"field\":\"PC2\"}},\"id\":\"3774\",\"type\":\"Scatter\"},{\"attributes\":{},\"id\":\"3772\",\"type\":\"Selection\"},{\"attributes\":{\"active_drag\":{\"id\":\"3758\"},\"active_scroll\":{\"id\":\"3759\"},\"tools\":[{\"id\":\"3739\"},{\"id\":\"3757\"},{\"id\":\"3758\"},{\"id\":\"3759\"},{\"id\":\"3760\"},{\"id\":\"3761\"}]},\"id\":\"3763\",\"type\":\"Toolbar\"}],\"root_ids\":[\"3736\"]},\"title\":\"Bokeh Application\",\"version\":\"2.4.3\"}};\n",
       "    var render_items = [{\"docid\":\"61dc5381-4ff3-4c03-9db0-c03064760c6b\",\"root_ids\":[\"3736\"],\"roots\":{\"3736\":\"f2e0534a-59b3-4e1e-9c34-113c8cb7d0f6\"}}];\n",
       "    root.Bokeh.embed.embed_items_notebook(docs_json, render_items);\n",
       "    for (const render_item of render_items) {\n",
       "      for (const root_id of render_item.root_ids) {\n",
       "\tconst id_el = document.getElementById(root_id)\n",
       "\tif (id_el.children.length && (id_el.children[0].className === 'bk-root')) {\n",
       "\t  const root_el = id_el.children[0]\n",
       "\t  root_el.id = root_el.id + '-rendered'\n",
       "\t}\n",
       "      }\n",
       "    }\n",
       "  }\n",
       "  if (root.Bokeh !== undefined && root.Bokeh.Panel !== undefined) {\n",
       "    embed_document(root);\n",
       "  } else {\n",
       "    var attempts = 0;\n",
       "    var timer = setInterval(function(root) {\n",
       "      if (root.Bokeh !== undefined && root.Bokeh.Panel !== undefined) {\n",
       "        clearInterval(timer);\n",
       "        embed_document(root);\n",
       "      } else if (document.readyState == \"complete\") {\n",
       "        attempts++;\n",
       "        if (attempts > 200) {\n",
       "          clearInterval(timer);\n",
       "          console.log(\"Bokeh: ERROR: Unable to run BokehJS code because BokehJS library is missing\");\n",
       "        }\n",
       "      }\n",
       "    }, 25, root)\n",
       "  }\n",
       "})(window);</script>"
      ],
      "text/plain": [
       ":Scatter   [PC1]   (PC2,Cluster,coin_id)"
      ]
     },
     "execution_count": 92,
     "metadata": {
      "application/vnd.holoviews_exec.v0+json": {
       "id": "3736"
      }
     },
     "output_type": "execute_result"
    }
   ],
   "source": [
    "# Composite plot to contrast the clusters\n",
    "# YOUR CODE HERE!\n",
    "scatter_plot = pca_df_copy.hvplot.scatter(x=\"PC1\", y=\"PC2\", c=\"Cluster\", cmap=\"Set1\", hover_cols=[\"coin_id\"])\n",
    "composite_plot = scatter_plot\n",
    "composite_plot"
   ]
  },
  {
   "cell_type": "markdown",
   "metadata": {},
   "source": [
    "#### Answer the following question: \n",
    "\n",
    "  * **Question:** After visually analyzing the cluster analysis results, what is the impact of using fewer features to cluster the data using K-Means?\n",
    "\n",
    "  * **Answer:** "
   ]
  }
 ],
 "metadata": {
  "kernelspec": {
   "display_name": "Python 3 (ipykernel)",
   "language": "python",
   "name": "python3"
  },
  "language_info": {
   "codemirror_mode": {
    "name": "ipython",
    "version": 3
   },
   "file_extension": ".py",
   "mimetype": "text/x-python",
   "name": "python",
   "nbconvert_exporter": "python",
   "pygments_lexer": "ipython3",
   "version": "3.10.11"
  },
  "nteract": {
   "version": "0.28.0"
  },
  "vscode": {
   "interpreter": {
    "hash": "40d3a090f54c6569ab1632332b64b2c03c39dcf918b08424e98f38b5ae0af88f"
   }
  }
 },
 "nbformat": 4,
 "nbformat_minor": 4
}
